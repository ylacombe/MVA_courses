{
  "cells": [
    {
      "cell_type": "markdown",
      "metadata": {
        "id": "bjOFs91lRMZV"
      },
      "source": [
        "## Import and draw samples"
      ]
    },
    {
      "cell_type": "code",
      "execution_count": null,
      "metadata": {
        "id": "8YXkQSb4s3U6"
      },
      "outputs": [],
      "source": [
        "from scipy.stats import norm\n",
        "import scipy\n",
        "import numpy as np\n",
        "import matplotlib.pyplot as plt\n",
        "from scipy.special import logsumexp\n",
        "\n",
        "\n",
        "\n",
        "def draw_from_normal_distr(shape, mu, var):\n",
        "  rv = scipy.stats.norm(loc = mu, scale = np.sqrt(var))\n",
        "  return rv.rvs(shape)\n",
        "\n",
        "\n",
        "true_mu, true_q, true_v = np.array([0,1]), np.array([[0.95,0.05],[0.3,0.7]]), 0.5\n",
        "\n",
        "\n",
        "def simulate_trajectory(size = 500, mu = true_mu, q = true_q, v = true_v):\n",
        "  trajectory_states = []\n",
        "  trajectory_observations = []\n",
        "\n",
        "  noise =  draw_from_normal_distr(size, 0, v)\n",
        "\n",
        "  trajectory_states.append(np.random.randint(len(mu)))\n",
        "  trajectory_observations.append(trajectory_states[-1] + noise[0])\n",
        "\n",
        "  old_state = trajectory_states[-1]\n",
        "\n",
        "  for k in range(size-1):\n",
        "    new_state = np.sum(np.cumsum(q[old_state,:]) <= np.random.rand())\n",
        "    old_state = new_state\n",
        "\n",
        "    trajectory_states.append(new_state)\n",
        "    trajectory_observations.append(new_state + noise[k+1])\n",
        "\n",
        "  return np.array(trajectory_states),np.array(trajectory_observations)\n",
        "\n",
        "\n",
        "states, observations = simulate_trajectory(size = 8000)\n",
        "\n",
        "\n",
        "\n",
        "init_mu, init_q, init_v = np.array([-0.5,0.5]), np.array([[0.7,0.3], [0.5,0.5]]), 2\n"
      ]
    },
    {
      "cell_type": "markdown",
      "metadata": {
        "id": "trP4NnP8RMCd"
      },
      "source": [
        "## Batch EM and test"
      ]
    },
    {
      "cell_type": "code",
      "execution_count": null,
      "metadata": {
        "id": "R0ZCUuLxbVFf"
      },
      "outputs": [],
      "source": [
        "from scipy.special import logsumexp\n",
        "\n",
        "\n",
        "class batchEM():\n",
        "  def __init__(self,observations, mu, q, v, eps = 1e-6):\n",
        "    '''\n",
        "    observations: the observations Y\n",
        "    mu : mu0 size m, where m = number of states\n",
        "    q: q0 (m,m)\n",
        "    v: v0 noise\n",
        "    '''\n",
        "\n",
        "    self.observations = observations\n",
        "    self.mu = mu\n",
        "    self.q = np.log(q)\n",
        "    self.v = v\n",
        "    self.m = len(mu)\n",
        "\n",
        "    self.pdf = self.compute_pdf()\n",
        "    self.eps = eps\n",
        "\n",
        "  def compute_pdf(self):\n",
        "    pdf = self.observations[:,np.newaxis] - self.mu[np.newaxis, :]\n",
        "    pdf = -pdf*pdf/(2*self.v) - np.log(2*np.pi*self.v)/2\n",
        "    return pdf\n",
        "\n",
        "  def compute_forward(self):\n",
        "    '''\n",
        "    '''\n",
        "    forward = self.q[np.newaxis,:,:] + self.pdf[:,:,np.newaxis]\n",
        "    forward[0,:,:] = forward[0,:,:] - np.log(self.m)\n",
        "\n",
        "    for t in range(1,len(self.observations)-1):\n",
        "      forward[t,:,:] = forward[t,:,:]+ logsumexp(forward[t-1,:,:], axis = 0, keepdims = True).T\n",
        "\n",
        "    return forward[:-1,:,:]\n",
        "\n",
        "  def compute_backward(self):\n",
        "    backward = self.pdf.copy()\n",
        "\n",
        "    for t in range(0,len(self.observations)-1, -1):\n",
        "      backward[t,:] = backward[t,:]+ logsumexp(self.q + backward[t+1,np.newaxis,:], axis = 1)\n",
        "    \n",
        "    return backward\n",
        "\n",
        "  def step(self):\n",
        "    #E-Step\n",
        "    self.pdf = self.compute_pdf()\n",
        "    forward = self.compute_forward()\n",
        "    backward = self.compute_backward()\n",
        "\n",
        "    #ATTENTION\n",
        "    self.S_q = (forward + backward[1:, np.newaxis,:])\n",
        "    self.S_q = logsumexp(self.S_q - logsumexp(self.S_q, axis = (1,2), keepdims = True), axis = 0, b= 1/len(self.S_q))\n",
        "\n",
        "    proba = backward.copy()\n",
        "    proba[1:,:] = proba[1:,:]+logsumexp(forward,axis = 1)\n",
        "    proba = proba - logsumexp(proba, axis = 1,keepdims = True)\n",
        "\n",
        "    self.S_g0 = np.mean( np.exp(proba), axis = 0)\n",
        "    self.S_g1 = np.mean(np.exp(proba)*self.observations[:,np.newaxis], axis = 0)\n",
        "    self.S_g2 = np.mean(np.exp(proba)*np.square(self.observations[:,np.newaxis]), axis = 0)\n",
        "\n",
        "\n",
        "    #M-Step\n",
        "    self.q = self.S_q - logsumexp(self.S_q, axis = 1, keepdims = True)\n",
        "    self.mu = self.S_g1/self.S_g0\n",
        "#    self.v = (np.mean(np.square(self.observations)) - np.exp(logsumexp(2*self.S_g1-self.S_g0)))/np.exp(logsumexp(self.S_g0))\n",
        "    self.v = np.sum(self.S_g2 - np.square(self.mu)*self.S_g0)/np.sum(self.S_g0)\n",
        "\n",
        "\n",
        "    #self.v = (np.mean(np.square(self.observations)) - np.sum(self.mu*self.mu*np.exp(self.S_g0)))/np.exp(logsumexp(self.S_g0))\n",
        "\n",
        "  def give_parameters(self):\n",
        "    return np.exp(self.q), self.mu, self.v\n",
        "\n"
      ]
    },
    {
      "cell_type": "code",
      "execution_count": null,
      "metadata": {
        "id": "EcxiEkp0eWGA"
      },
      "outputs": [],
      "source": [
        "np.seterr(divide='raise', invalid='raise')\n",
        "\n",
        "test = batchEM(observations, init_mu, init_q, init_v)\n",
        "\n",
        "for k in range(100):\n",
        "  test.step()\n",
        "  if k % 10 == 0: \n",
        "    #print(test.give_parameters())\n",
        "    pass\n",
        "\n",
        "test.give_parameters()"
      ]
    },
    {
      "cell_type": "code",
      "execution_count": null,
      "metadata": {
        "id": "ZDrXuXEOd5Cw"
      },
      "outputs": [],
      "source": [
        "iter = 8000\n",
        "batchEM_8000_q11 = []\n",
        "batchEM_8000_q22 = []\n",
        "batchEM_8000_mu1 = []\n",
        "batchEM_8000_mu2 = []\n",
        "\n",
        "N_TOT = 100"
      ]
    },
    {
      "cell_type": "code",
      "execution_count": null,
      "metadata": {
        "colab": {
          "background_save": true
        },
        "id": "XnrL2J1reQAd"
      },
      "outputs": [],
      "source": [
        "for j in range(N_TOT):\n",
        "  states, observations = simulate_trajectory(size = iter)\n",
        "  EM = batchEM(observations, init_mu, init_q, init_v)\n",
        "  q11 = []\n",
        "  q22 = []\n",
        "  mu1 = []\n",
        "  mu2 = []\n",
        "\n",
        "  for k in range(100):\n",
        "    EM.step()\n",
        "    q_pred, mu_pred, v_pred = EM.give_parameters()\n",
        "    max_idx = np.argmax(mu_pred)\n",
        "    min_idx = np.argmin(mu_pred)\n",
        "    mu1.append(np.max(mu_pred))\n",
        "    mu2.append(np.min(mu_pred))\n",
        "    q11.append(q_pred[max_idx, max_idx])\n",
        "    q22.append(q_pred[min_idx, min_idx])\n",
        "\n",
        "  batchEM_8000_q11.append(q11)\n",
        "  batchEM_8000_q22.append(q22)\n",
        "  batchEM_8000_mu1.append(mu1)\n",
        "  batchEM_8000_mu2.append(mu2)\n"
      ]
    },
    {
      "cell_type": "code",
      "execution_count": null,
      "metadata": {
        "colab": {
          "background_save": true
        },
        "id": "_sBhUl2CfUTK"
      },
      "outputs": [],
      "source": [
        "iter = 500\n",
        "batchEM_500_q11 = []\n",
        "batchEM_500_q22 = []\n",
        "batchEM_500_mu1 = []\n",
        "batchEM_500_mu2 = []\n",
        "\n",
        "N_TOT = 100"
      ]
    },
    {
      "cell_type": "code",
      "execution_count": null,
      "metadata": {
        "colab": {
          "background_save": true
        },
        "id": "4E44CQyafaHe"
      },
      "outputs": [],
      "source": [
        "for j in range(N_TOT):\n",
        "  states, observations = simulate_trajectory(size = iter)\n",
        "  EM = batchEM(observations, init_mu, init_q, init_v)\n",
        "  q11 = []\n",
        "  q22 = []\n",
        "  mu1 = []\n",
        "  mu2 = []\n",
        "\n",
        "  for k in range(100):\n",
        "    EM.step()\n",
        "    q_pred, mu_pred, v_pred = EM.give_parameters()\n",
        "    max_idx = np.argmax(mu_pred)\n",
        "    min_idx = np.argmin(mu_pred)\n",
        "    mu1.append(np.max(mu_pred))\n",
        "    mu2.append(np.min(mu_pred))\n",
        "    q11.append(q_pred[max_idx, max_idx])\n",
        "    q22.append(q_pred[min_idx, min_idx])\n",
        "\n",
        "  batchEM_500_q11.append(q11)\n",
        "  batchEM_500_q22.append(q22)\n",
        "  batchEM_500_mu1.append(mu1)\n",
        "  batchEM_500_mu2.append(mu2)\n"
      ]
    },
    {
      "cell_type": "code",
      "execution_count": null,
      "metadata": {
        "colab": {
          "background_save": true
        },
        "id": "FfSMxLIxhtOY"
      },
      "outputs": [],
      "source": [
        "batchEM_500_q11 = np.array(batchEM_500_q11)\n",
        "batchEM_500_q22 = np.array(batchEM_500_q22)\n",
        "batchEM_500_mu1 = np.array(batchEM_500_mu1)\n",
        "batchEM_500_mu2 = np.array(batchEM_500_mu2)"
      ]
    },
    {
      "cell_type": "code",
      "execution_count": null,
      "metadata": {
        "colab": {
          "background_save": true
        },
        "id": "gccjRabVgUG5"
      },
      "outputs": [],
      "source": [
        "plt.style.use('Solarize_Light2')\n",
        "\n",
        "batchEM_8000_q11 = np.array(batchEM_8000_q11)\n",
        "batchEM_8000_q22 = np.array(batchEM_8000_q22)\n",
        "batchEM_8000_mu1 = np.array(batchEM_8000_mu1)\n",
        "batchEM_8000_mu2 = np.array(batchEM_8000_mu2)"
      ]
    },
    {
      "cell_type": "code",
      "execution_count": null,
      "metadata": {
        "colab": {
          "background_save": true
        },
        "id": "4u36G_cQiJ43"
      },
      "outputs": [],
      "source": [
        "plt.rcParams[\"figure.figsize\"] = (10,5)\n",
        "\n",
        "plt.plot(np.median(batchEM_8000_q11, axis = 0), 'g', label = 'batch size = 8000')\n",
        "plt.plot(np.quantile(batchEM_8000_q11, .25, axis = 0), '--g')\n",
        "plt.plot(np.quantile(batchEM_8000_q11, .75, axis = 0),  '--g')\n",
        "\n",
        "plt.plot(np.median(batchEM_500_q11, axis = 0), 'b', label = 'batch size = 500')\n",
        "plt.plot(np.quantile(batchEM_500_q11, .25, axis = 0), '--b')\n",
        "plt.plot(np.quantile(batchEM_500_q11, .75, axis = 0),  '--b')\n",
        "\n",
        "plt.hlines(true_q[1,1], 0, 100, 'r', linestyles = 'dotted', label = 'true q22')\n",
        "plt.legend()\n",
        "plt.show()\n"
      ]
    },
    {
      "cell_type": "code",
      "execution_count": null,
      "metadata": {
        "colab": {
          "background_save": true
        },
        "id": "tEvg6JKLive0"
      },
      "outputs": [],
      "source": [
        "plt.rcParams[\"figure.figsize\"] = (10,5)\n",
        "\n",
        "plt.plot(np.median(batchEM_8000_mu1, axis = 0), 'g', label = 'batch size = 8000')\n",
        "plt.plot(np.quantile(batchEM_8000_mu1, .25, axis = 0), '--g')\n",
        "plt.plot(np.quantile(batchEM_8000_mu1, .75, axis = 0),  '--g')\n",
        "\n",
        "plt.plot(np.median(batchEM_500_mu1, axis = 0), 'b', label = 'batch size = 500')\n",
        "plt.plot(np.quantile(batchEM_500_mu1, .25, axis = 0), '--b')\n",
        "plt.plot(np.quantile(batchEM_500_mu1, .75, axis = 0),  '--b')\n",
        "\n",
        "plt.hlines(true_mu[1], 0, 100, 'r', linestyles = 'dotted', label = 'true mu2')\n",
        "plt.legend()\n",
        "plt.show()\n"
      ]
    },
    {
      "cell_type": "markdown",
      "metadata": {
        "id": "aLn_X4KaDRw1"
      },
      "source": [
        "## Online EM"
      ]
    },
    {
      "cell_type": "code",
      "execution_count": null,
      "metadata": {
        "colab": {
          "background_save": true
        },
        "id": "Aar-cz88Yba4"
      },
      "outputs": [],
      "source": [
        "\n",
        "\n",
        "class onlineEM():\n",
        "  def __init__(self,first_observation, mu, q, v, eps = 1e-6):\n",
        "    '''\n",
        "    observations: the observations Y\n",
        "    mu : mu0 size m, where m = number of states\n",
        "    q: q0 (m,m)\n",
        "    v: v0 noise\n",
        "    '''\n",
        "    self.eps = eps\n",
        "    self.mu = mu\n",
        "    self.q = q\n",
        "    self.v = v\n",
        "    self.m = len(mu)\n",
        "\n",
        "    pdf = self.compute_pdf_one_observation(first_observation)\n",
        "\n",
        "    #init phi, rho_q, rho_g\n",
        "    self.phi = pdf/np.sum(pdf)\n",
        "    self.rho_q = np.zeros([self.m]*3)\n",
        "    self.rho_g0 = np.identity(self.m)\n",
        "    self.rho_g1 = first_observation*np.identity(self.m)\n",
        "    self.rho_g2 = (first_observation**2)*np.identity(self.m)\n",
        "\n",
        "  def compute_pdf_one_observation(self, one_observation):\n",
        "    '''\n",
        "    returns an vector of size m (log_pdf)\n",
        "    '''\n",
        "    pdf = one_observation - self.mu\n",
        "    pdf = -(pdf**2)/(2*self.v) # - np.log(2*np.pi*self.v)/2\n",
        "    return np.exp(pdf)\n",
        "\n",
        "  def compute_pdf(self):\n",
        "    pdf = self.observations[:,np.newaxis] - self.mu[np.newaxis, :]\n",
        "    pdf = -(pdf*pdf)/(2*self.v) - np.log(2*np.pi*self.v)/2\n",
        "    return pdf\n",
        "\n",
        "\n",
        "  def step(self, observation, n, alpha = 0.6, burn = 8000):\n",
        "    #Approximation FIlter Update\n",
        "\n",
        "    #self.phi = self.phi@self.q*self.compute_pdf_one_observation(observation)\n",
        "    #self.phi = self.phi/np.sum(self.phi)\n",
        "\n",
        "    #Stochastic approximation E-step\n",
        "    r = self.phi[:,np.newaxis]*self.q\n",
        "    r = r/np.sum(r, axis = 0, keepdims = True)\n",
        "\n",
        "\n",
        "    if np.any(self.compute_pdf_one_observation(observation) > 1):\n",
        "      print(\"BEWARE, proba >0\")\n",
        "      print(observation, self.mu, np.exp(self.compute_pdf_one_observation(observation)))\n",
        "\n",
        "    #print(np.exp(self.compute_pdf_one_observation(observation)))\n",
        "\n",
        "    self.phi = np.sum(self.phi[:,np.newaxis]*self.q*self.compute_pdf_one_observation(observation)[np.newaxis, :], axis = 0) \n",
        "    self.phi = self.phi/np.sum(self.phi)\n",
        "\n",
        "\n",
        "\n",
        "    if n <= burn:\n",
        "      gamma = 0.01\n",
        "    else:\n",
        "      gamma = 1/(n+2 - burn)**alpha\n",
        "\n",
        "    essai = self.rho_q@r*(1-gamma) + gamma*np.identity(self.m)[np.newaxis, :,:]*(r[:,:,np.newaxis])\n",
        "    self.rho_q =  essai\n",
        "\n",
        "    self.rho_g0 =  self.rho_g0@r*(1-gamma) + gamma*np.identity(self.m)\n",
        "    self.rho_g1 =  self.rho_g1@r*(1-gamma) + gamma*np.identity(self.m)*observation\n",
        "    self.rho_g2 =  self.rho_g2@r*(1-gamma) + gamma*np.identity(self.m)*(observation**2)\n",
        "\n",
        "\n",
        "    #M-step\n",
        "    S_q = self.rho_q@self.phi\n",
        "\n",
        "    S_g0 = self.rho_g0@self.phi\n",
        "    S_g1 = self.rho_g1@self.phi\n",
        "    S_g2 = self.rho_g2@self.phi\n",
        "    #print(self.rho_g1, np.exp(self.phi), S_g1)\n",
        "    #print(S_g1, S_g0)\n",
        "\n",
        "\n",
        "    self.q = S_q/np.sum(S_q, axis = 1, keepdims = True)\n",
        "    self.mu = S_g1/S_g0\n",
        "    self.v = np.sum(S_g2 - np.square(self.mu)*S_g0)/np.sum(S_g0)\n",
        "\n",
        "\n",
        "  def give_parameters(self):\n",
        "    return (self.q), self.mu, self.v\n",
        "\n"
      ]
    },
    {
      "cell_type": "code",
      "execution_count": null,
      "metadata": {
        "colab": {
          "background_save": true
        },
        "id": "T0rGjCG3hoKH"
      },
      "outputs": [],
      "source": [
        "np.seterr(divide='ignore', invalid='raise')\n",
        "\n",
        "def simulate_observation_from_previous_state(state, mu = true_mu, q = true_q, v = true_v):\n",
        "\n",
        "  noise =  draw_from_normal_distr(1, 0, v)\n",
        "  new_state = np.sum(np.cumsum(q[state,:]) <= np.random.rand())\n",
        "\n",
        "\n",
        "  return new_state,new_state + noise[0]\n",
        "\n",
        "\n",
        "states, observations = simulate_trajectory(size = 1)\n",
        "\n",
        "current_state = states[-1]\n",
        "test = onlineEM(observations[-1], init_mu, init_q, init_v)\n"
      ]
    },
    {
      "cell_type": "code",
      "execution_count": null,
      "metadata": {
        "colab": {
          "background_save": true
        },
        "id": "Uh1w5dG0DRKp"
      },
      "outputs": [],
      "source": [
        "\n",
        "np.seterr(divide='ignore', invalid='raise')\n",
        "burn = 0\n",
        "\n",
        "\n",
        "for k in range(10000):\n",
        "  if k %1000 == 0:\n",
        "    print(test.give_parameters())\n",
        "  current_state, observation = simulate_observation_from_previous_state(current_state)\n",
        "\n",
        "  test.step(observation,k, burn = burn)\n",
        "print(test.give_parameters())\n",
        "\n"
      ]
    },
    {
      "cell_type": "code",
      "execution_count": null,
      "metadata": {
        "colab": {
          "background_save": true
        },
        "id": "zg4s206enIRw"
      },
      "outputs": [],
      "source": [
        "import pandas as pd\n",
        "\n",
        "df_online = pd.DataFrame(columns = ['mu1', 'mu2', 'q11', 'q22', 'nb_iterations', 'v'])\n",
        "j = 0"
      ]
    },
    {
      "cell_type": "code",
      "execution_count": null,
      "metadata": {
        "colab": {
          "background_save": true
        },
        "id": "Wwv4TrzYlQ0P"
      },
      "outputs": [],
      "source": [
        "from datetime import datetime \n",
        "from IPython.display import clear_output\n",
        "\n",
        "\n",
        "stopPoints = [500, 2000, 4000, 8000, 16000]\n",
        "\n",
        "\n",
        "while j<100:\n",
        "  clear_output(wait=True)\n",
        "  print(j)\n",
        "\n",
        "  states, observations = simulate_trajectory(size = 1)\n",
        "\n",
        "  current_state = states[-1]\n",
        "  EM = onlineEM(observations[-1], init_mu, init_q, init_v)\n",
        "  time = 0\n",
        "\n",
        "  for k in range(16001):\n",
        "    current_state, observation = simulate_observation_from_previous_state(current_state)\n",
        "\n",
        "    start_time = datetime.now() \n",
        "    EM.step(observation,k, burn = burn)\n",
        "    time_elapsed = (datetime.now() - start_time).total_seconds() \n",
        "    time += time_elapsed\n",
        "\n",
        "\n",
        "    if k in stopPoints:\n",
        "      q_pred, mu_pred, v_pred = EM.give_parameters()\n",
        "\n",
        "      max_idx = np.argmax(mu_pred)\n",
        "      min_idx = np.argmin(mu_pred)\n",
        "\n",
        "\n",
        "      df_online = df_online.append({'mu1': np.min(mu_pred), 'mu2': np.max(mu_pred), 'q11': q_pred[min_idx, min_idx],\n",
        "                                    'q22': q_pred[max_idx, max_idx], 'nb_iterations': k,\n",
        "                                    'v': v_pred}, ignore_index=True)\n",
        "      \n",
        "  print(time/16000)\n",
        "  j +=1\n"
      ]
    },
    {
      "cell_type": "code",
      "execution_count": null,
      "metadata": {
        "colab": {
          "background_save": true
        },
        "id": "1AlZFurHqRx3"
      },
      "outputs": [],
      "source": [
        "df_online.boxplot(by ='nb_iterations', column =['q22'], grid = False)\n",
        "plt.axhline(true_q[1,1], c='r')\n",
        "plt.show()\n",
        "print()\n",
        "\n",
        "df_online.boxplot(by ='nb_iterations', column =['q11'], grid = False)\n",
        "plt.axhline(true_q[0,0], c='r')\n",
        "plt.show()\n",
        "print()\n",
        "\n",
        "df_online.boxplot(by ='nb_iterations', column =['mu1'], grid = False)\n",
        "plt.axhline(true_mu[0], c='r')\n",
        "plt.show()\n",
        "print()\n",
        "\n",
        "df_online.boxplot(by ='nb_iterations', column =['mu2'], grid = False)\n",
        "plt.axhline(true_mu[1], c='r')\n",
        "plt.show()\n",
        "\n",
        "print()\n",
        "df_online.boxplot(by ='nb_iterations', column =['v'], grid = False)\n",
        "plt.axhline(true_v, c='r')\n",
        "plt.show()"
      ]
    },
    {
      "cell_type": "markdown",
      "metadata": {
        "id": "bq2dC11_sFis"
      },
      "source": [
        "boxplot batch"
      ]
    },
    {
      "cell_type": "code",
      "execution_count": null,
      "metadata": {
        "colab": {
          "background_save": true
        },
        "id": "TgjYeCAfsXcC"
      },
      "outputs": [],
      "source": [
        "import pandas as pd\n",
        "\n",
        "df_batch = pd.DataFrame(columns = ['mu1', 'mu2', 'q11', 'q22', 'nb_iterations', 'v'])\n",
        "\n",
        "j = 0\n"
      ]
    },
    {
      "cell_type": "code",
      "execution_count": null,
      "metadata": {
        "colab": {
          "background_save": true
        },
        "id": "8A_AGdKjsHOj"
      },
      "outputs": [],
      "source": [
        "stopPoints = [500, 2000, 4000, 8000, 16000]\n",
        "\n",
        "while j<100:\n",
        "  clear_output(wait=True)\n",
        "  print(j)\n",
        "\n",
        "\n",
        "  for iter in stopPoints:\n",
        "    states, observations = simulate_trajectory(size = iter)\n",
        "    EM = batchEM(observations, init_mu, init_q, init_v)\n",
        "    start_time = datetime.now() \n",
        "    for k in range(50):\n",
        "      EM.step()\n",
        "    time_elapsed = (datetime.now() - start_time).total_seconds() \n",
        "    print(time_elapsed)\n",
        "\n",
        "\n",
        "    q_pred, mu_pred, v_pred = EM.give_parameters()\n",
        "\n",
        "    max_idx = np.argmax(mu_pred)\n",
        "    min_idx = np.argmin(mu_pred)\n",
        "\n",
        "\n",
        "    df_batch = df_batch.append({'mu1': np.min(mu_pred), 'mu2': np.max(mu_pred), 'q11': q_pred[min_idx, min_idx],\n",
        "                                  'q22': q_pred[max_idx, max_idx], 'nb_iterations': iter,\n",
        "                                  'v': v_pred}, ignore_index=True)\n",
        "      \n",
        "\n",
        "  j +=1\n"
      ]
    },
    {
      "cell_type": "code",
      "execution_count": null,
      "metadata": {
        "colab": {
          "background_save": true
        },
        "id": "6xshPy_h0kMb"
      },
      "outputs": [],
      "source": [
        "df_batch.boxplot(by ='nb_iterations', column =['q22'], grid = False)\n",
        "plt.axhline(true_q[1,1], c='r')\n",
        "plt.show()\n",
        "print()\n",
        "\n",
        "df_batch.boxplot(by ='nb_iterations', column =['q11'], grid = False)\n",
        "plt.axhline(true_q[0,0], c='r')\n",
        "plt.show()\n",
        "print()\n",
        "\n",
        "df_batch.boxplot(by ='nb_iterations', column =['mu1'], grid = False)\n",
        "plt.axhline(true_mu[0], c='r')\n",
        "plt.show()\n",
        "print()\n",
        "\n",
        "df_batch.boxplot(by ='nb_iterations', column =['mu2'], grid = False)\n",
        "plt.axhline(true_mu[1], c='r')\n",
        "plt.show()\n",
        "\n",
        "print()\n",
        "df_batch.boxplot(by ='nb_iterations', column =['v'], grid = False)\n",
        "plt.axhline(true_v, c='r')\n",
        "plt.show()"
      ]
    },
    {
      "cell_type": "code",
      "execution_count": null,
      "metadata": {
        "colab": {
          "background_save": true
        },
        "id": "hmxFfw2rzSx-"
      },
      "outputs": [],
      "source": [
        "from datetime import datetime \n",
        "from IPython.display import clear_output\n",
        "\n",
        "\n",
        "stopPoints = [500, 2000, 4000, 8000, 16000]\n",
        "\n",
        "\n",
        "while j<100:\n",
        "  clear_output(wait=True)\n",
        "  print(j)\n",
        "\n",
        "  states, observations = simulate_trajectory(size = 1)\n",
        "  try:\n",
        "\n",
        "    current_state = states[-1]\n",
        "    EM = onlineEM(observations[-1], init_mu, init_q, init_v)\n",
        "    time = 0\n",
        "\n",
        "    for k in range(16001):\n",
        "      current_state, observation = simulate_observation_from_previous_state(current_state)\n",
        "\n",
        "      start_time = datetime.now() \n",
        "      EM.step(observation,k, burn = burn)\n",
        "      time_elapsed = (datetime.now() - start_time).total_seconds() \n",
        "      time += time_elapsed\n",
        "\n",
        "\n",
        "      if k in stopPoints:\n",
        "        q_pred, mu_pred, v_pred = EM.give_parameters()\n",
        "\n",
        "        max_idx = np.argmax(mu_pred)\n",
        "        min_idx = np.argmin(mu_pred)\n",
        "\n",
        "\n",
        "        df_online = df_online.append({'mu1': np.min(mu_pred), 'mu2': np.max(mu_pred), 'q11': q_pred[min_idx, min_idx],\n",
        "                                      'q22': q_pred[max_idx, max_idx], 'nb_iterations': k,\n",
        "                                      'v': v_pred}, ignore_index=True)\n",
        "    except:\n",
        "      pass\n",
        "\n",
        "  print(time/16000)\n",
        "  j +=1\n"
      ]
    },
    {
      "cell_type": "markdown",
      "metadata": {
        "id": "FnMvxitoXsjO"
      },
      "source": [
        "## Draft\n",
        "\n"
      ]
    },
    {
      "cell_type": "code",
      "execution_count": null,
      "metadata": {
        "id": "8Q3EndFWXt7R"
      },
      "outputs": [],
      "source": [
        "\n",
        "\n",
        "class onlineEM():\n",
        "  def __init__(self,first_observation, mu, q, v, eps = 1e-6):\n",
        "    '''\n",
        "    observations: the observations Y\n",
        "    mu : mu0 size m, where m = number of states\n",
        "    q: q0 (m,m)\n",
        "    v: v0 noise\n",
        "    '''\n",
        "    self.eps = eps\n",
        "    self.mu = mu\n",
        "    self.q = np.log(q)\n",
        "    self.v = v\n",
        "    self.m = len(mu)\n",
        "\n",
        "    pdf = self.compute_pdf_one_observation(first_observation)\n",
        "\n",
        "    #init phi, rho_q, rho_g\n",
        "    self.phi = pdf - logsumexp(pdf)#- np.log(self.m)\n",
        "    self.rho_q = np.log(np.zeros([self.m]*3))\n",
        "    self.rho_g0 = np.identity(self.m)\n",
        "    self.rho_g1 = first_observation*np.identity(self.m)\n",
        "    self.rho_g2 = (first_observation**2)*np.identity(self.m)\n",
        "\n",
        "  def compute_pdf_one_observation(self, one_observation):\n",
        "    '''\n",
        "    returns an vector of size m (log_pdf)\n",
        "    '''\n",
        "    pdf = one_observation - self.mu\n",
        "    pdf = -(pdf**2)/(2*self.v) # - np.log(2*np.pi*self.v)/2\n",
        "    return pdf\n",
        "\n",
        "  def compute_pdf(self):\n",
        "    pdf = self.observations[:,np.newaxis] - self.mu[np.newaxis, :]\n",
        "    pdf = -(pdf*pdf)/(2*self.v) - np.log(2*np.pi*self.v)/2\n",
        "    return pdf\n",
        "\n",
        "\n",
        "  def step(self, observation, n, alpha = 0.6, burn = 8000):\n",
        "    #Approximation FIlter Update\n",
        "\n",
        "    #self.phi = self.phi@self.q*self.compute_pdf_one_observation(observation)\n",
        "    #self.phi = self.phi/np.sum(self.phi)\n",
        "\n",
        "    #Stochastic approximation E-step\n",
        "    r = self.phi[:,np.newaxis]+self.q\n",
        "    r = r - logsumexp(r, axis = 0, keepdims = True)\n",
        "\n",
        "\n",
        "    if np.any(self.compute_pdf_one_observation(observation) > 0):\n",
        "      print(\"BEWARE, proba >0\")\n",
        "      print(observation, self.mu, np.exp(self.compute_pdf_one_observation(observation)))\n",
        "\n",
        "    #print(np.exp(self.compute_pdf_one_observation(observation)))\n",
        "\n",
        "    self.phi = logsumexp(self.phi[:,np.newaxis]+self.q+ self.compute_pdf_one_observation(observation)[np.newaxis, :], axis = 0) \n",
        "    self.phi = self.phi - logsumexp(self.phi)\n",
        "\n",
        "\n",
        "\n",
        "    if n <= burn:\n",
        "      gamma = 0.01\n",
        "    else:\n",
        "      gamma = 1/(n+2 - burn)**alpha\n",
        "\n",
        "    #essai = np.exp(self.rho_q)@np.exp(r)*(1-gamma) + gamma*np.identity(self.m)[np.newaxis, :,:]*(np.exp(r)[:,:,np.newaxis])\n",
        "    self.rho_q =  logsumexp(self.rho_q[:,:,:,np.newaxis] + r[np.newaxis, np.newaxis,:,:], axis = 2) + np.log(1-gamma)\n",
        "    self.rho_q = np.logaddexp(self.rho_q,  r[:,:,np.newaxis] + np.log(gamma), where = np.identity(self.m)[np.newaxis, :,:] ==1)\n",
        "\n",
        "    self.rho_g0 =  self.rho_g0@np.exp(r)*(1-gamma) + gamma*np.identity(self.m)\n",
        "    self.rho_g1 =  self.rho_g1@np.exp(r)*(1-gamma) + gamma*np.identity(self.m)*observation\n",
        "    self.rho_g2 =  self.rho_g2@np.exp(r)*(1-gamma) + gamma*np.identity(self.m)*(observation**2)\n",
        "\n",
        "\n",
        "    #M-step\n",
        "    S_q = logsumexp( self.rho_q + self.phi[np.newaxis, np.newaxis, :],axis = 2)\n",
        "\n",
        "    S_g0 = self.rho_g0@np.exp(self.phi)\n",
        "    S_g1 = self.rho_g1@np.exp(self.phi)\n",
        "    S_g2 = self.rho_g2@np.exp(self.phi)\n",
        "    #print(self.rho_g1, np.exp(self.phi), S_g1)\n",
        "    #print(S_g1, S_g0)\n",
        "\n",
        "\n",
        "    self.q = S_q - logsumexp(S_q, axis = 1, keepdims = True)\n",
        "    self.mu = S_g1/S_g0\n",
        "    self.v = np.sum(S_g2 - np.square(self.mu)*S_g0)/np.sum(S_g0)\n",
        "\n",
        "\n",
        "  def give_parameters(self):\n",
        "    return np.exp(self.q), self.mu, self.v\n",
        "\n"
      ]
    },
    {
      "cell_type": "code",
      "execution_count": null,
      "metadata": {
        "id": "UXAs1g_0Z3wM"
      },
      "outputs": [],
      "source": [
        "def divide(a,b):\n",
        "   return np.divide(a, b, out=np.zeros_like(a), where=b!=0)\n",
        "\n",
        "class batchEM():\n",
        "  def __init__(self,observations, mu, q, v, eps = 1e-6):\n",
        "    '''\n",
        "    observations: the observations Y\n",
        "    mu : mu0 size m, where m = number of states\n",
        "    q: q0 (m,m)\n",
        "    v: v0 noise\n",
        "    '''\n",
        "\n",
        "    self.observations = observations\n",
        "    self.mu = mu\n",
        "    self.q = q\n",
        "    self.v = v\n",
        "    self.m = len(mu)\n",
        "\n",
        "    self.pdf = self.compute_pdf()\n",
        "    self.eps = eps\n",
        "\n",
        "  def compute_pdf(self):\n",
        "    pdf = self.observations[:,np.newaxis] - self.mu[np.newaxis, :]\n",
        "    pdf = np.exp(-pdf*pdf/(2*self.v))/(np.sqrt(2*np.pi*self.v))\n",
        "    return pdf\n",
        "\n",
        "  def compute_forward(self):\n",
        "    '''\n",
        "\n",
        "    '''\n",
        "    forward = self.q[np.newaxis,:,:]*self.pdf[:,:,np.newaxis]\n",
        "    forward[0,:,:] = forward[0,:,:]/len(self.mu)\n",
        "\n",
        "    for t in range(1,len(self.observations)-1):\n",
        "      forward[t,:,:] = forward[t,:,:]*(np.sum(forward[t-1,:,:], axis = 0, keepdims = True).T)\n",
        "\n",
        "    return forward[:-1,:,:]\n",
        "\n",
        "  def compute_backward(self):\n",
        "    backward = self.pdf.copy()\n",
        "\n",
        "    for t in range(0,len(self.observations)-1, -1):\n",
        "      backward[t,:] = backward[t,:]*(self.q@backward[t+1,:])\n",
        "    \n",
        "    return backward\n",
        "\n",
        "\n",
        "  def step(self):\n",
        "    #E-Step\n",
        "    self.pdf = self.compute_pdf()\n",
        "    forward = self.compute_forward()\n",
        "    backward = self.compute_backward()\n",
        "\n",
        "    #ATTENTION\n",
        "    self.S_q = (forward*backward[1:, np.newaxis,:])\n",
        "    self.S_q = np.mean(divide(self.S_q,np.sum(self.S_q, axis = (1,2), keepdims = True)),axis = 0)\n",
        "\n",
        "    proba = backward.copy()\n",
        "    proba[1:,:] = proba[1:,:]*np.sum(forward,axis = 1)\n",
        "    proba = divide(proba,np.sum(proba, axis = 1,keepdims = True))\n",
        "     \n",
        "    self.S_g0 = np.mean( proba, axis = 0)\n",
        "    self.S_g1 = np.mean(proba*self.observations[:,np.newaxis], axis = 0)\n",
        "\n",
        "\n",
        "    #M-Step\n",
        "    self.q = self.S_q/np.sum(self.S_q, axis = 1, keepdims = True)\n",
        "    self.mu = self.S_g1/self.S_g0\n",
        "    self.v = (np.mean(np.square(self.observations)) - np.sum(self.mu*self.mu*self.S_g0))/np.sum(self.S_g0)\n",
        "\n",
        "\n",
        "  def give_parameters(self):\n",
        "    return self.q, self.mu, self.v\n",
        "\n"
      ]
    }
  ],
  "metadata": {
    "colab": {
      "collapsed_sections": [],
      "name": "CompStat_Cappe.ipynb",
      "provenance": []
    },
    "kernelspec": {
      "display_name": "Python 3",
      "name": "python3"
    },
    "language_info": {
      "name": "python"
    }
  },
  "nbformat": 4,
  "nbformat_minor": 0
}