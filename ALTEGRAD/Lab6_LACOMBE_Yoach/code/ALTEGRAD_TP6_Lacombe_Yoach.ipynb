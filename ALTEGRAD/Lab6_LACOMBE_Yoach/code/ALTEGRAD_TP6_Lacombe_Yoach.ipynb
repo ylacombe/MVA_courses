{
  "nbformat": 4,
  "nbformat_minor": 0,
  "metadata": {
    "colab": {
      "name": "ALTEGRAD_TP6_Lacombe_Yoach.ipynb",
      "provenance": [],
      "collapsed_sections": []
    },
    "kernelspec": {
      "name": "python3",
      "display_name": "Python 3"
    },
    "language_info": {
      "name": "python"
    }
  },
  "cells": [
    {
      "cell_type": "markdown",
      "source": [
        "# TP6 ALTEGRAD - LACOMBE Yoach\n",
        "\n"
      ],
      "metadata": {
        "id": "vA_xTliUkLMU"
      }
    },
    {
      "cell_type": "code",
      "source": [
        "from google.colab import drive\n",
        "drive.mount('/gdrive')\n",
        "%cd /gdrive\n",
        "%cd 'My Drive'/"
      ],
      "metadata": {
        "colab": {
          "base_uri": "https://localhost:8080/"
        },
        "id": "kzhYwOhZk8L0",
        "outputId": "5d10a952-ebc5-4bc6-c053-680a2cf94347"
      },
      "execution_count": null,
      "outputs": [
        {
          "output_type": "stream",
          "name": "stdout",
          "text": [
            "Drive already mounted at /gdrive; to attempt to forcibly remount, call drive.mount(\"/gdrive\", force_remount=True).\n",
            "/gdrive\n",
            "/gdrive/My Drive\n"
          ]
        }
      ]
    },
    {
      "cell_type": "code",
      "source": [
        "PATH_KARATE_EDGE_LIST = './dataset_ALTEGRAD/karate.edgelist'\n",
        "PATH_KARATE_LABELS = './dataset_ALTEGRAD/karate_labels.txt'\n"
      ],
      "metadata": {
        "id": "fn0OXhm3lAxy"
      },
      "execution_count": null,
      "outputs": []
    },
    {
      "cell_type": "markdown",
      "source": [
        "## Autoencoders"
      ],
      "metadata": {
        "id": "UoMy1GrIk8jg"
      }
    },
    {
      "cell_type": "code",
      "execution_count": null,
      "metadata": {
        "id": "zGmhMAepkH5E"
      },
      "outputs": [],
      "source": [
        "\"\"\"\n",
        "Deep Learning on Graphs - ALTEGRAD - Jan 2022\n",
        "\"\"\"\n",
        "\n",
        "import scipy.sparse as sp\n",
        "import numpy as np\n",
        "import torch\n",
        "import torch.nn as nn\n",
        "\n",
        "def normalize_adjacency(A):\n",
        "    ############## Task 1\n",
        "    \n",
        "    ##################\n",
        "    # your code here #\n",
        "    ##################\n",
        "    diag = A.sum(axis = 1)\n",
        "    d = sp.identity(A.shape[0])\n",
        "    d.setdiag(1/diag[0])\n",
        "\n",
        "    A_normalized = d@(A + sp.identity(A.shape[0]))\n",
        "\n",
        "    return A_normalized\n",
        "\n",
        "\n",
        "def sparse_to_torch_sparse(M):\n",
        "    \"\"\"Converts a sparse SciPy matrix to a sparse PyTorch tensor\"\"\"\n",
        "    M = M.tocoo().astype(np.float32)\n",
        "    indices = torch.from_numpy(np.vstack((M.row, M.col)).astype(np.int64))\n",
        "    values = torch.from_numpy(M.data)\n",
        "    shape = torch.Size(M.shape)\n",
        "    return torch.sparse.FloatTensor(indices, values, shape)\n",
        "\n",
        "\n",
        "def loss_function(z, adj, device):\n",
        "    mse_loss = nn.MSELoss()\n",
        "\n",
        "    ############## Task 3\n",
        "    \n",
        "    ##################\n",
        "    # your code here #\n",
        "    ##################\n",
        "    indices = adj._indices()\n",
        "    #indices -> (2,nb_elements)\n",
        "    \n",
        "    adj_hat = torch.sigmoid(z@(z.T))\n",
        "\n",
        "    zero_indices = torch.zeros_like(indices)\n",
        "    cpt = 0\n",
        "    i = 0\n",
        "    while cpt < indices.shape[1]:\n",
        "      a,b = np.random.randint(0, len(adj_hat), size = 2)\n",
        "      if adj[a,b] == 0:\n",
        "        zero_indices[0, i] = a\n",
        "        zero_indices[1, i] = b\n",
        "        i+=1\n",
        "        cpt +=1\n",
        "\n",
        "\n",
        "    adj_hat_indices = adj_hat[indices[0,:], indices[1,:]]\n",
        "    adj_hat_zeros = adj_hat[zero_indices[0,:], zero_indices[1,:]]\n",
        "    adj_indices = adj._values()\n",
        "\n",
        "    y = torch.cat([adj_indices, torch.zeros_like(adj_indices)])\n",
        "    y_pred = torch.cat([adj_hat_indices, adj_hat_zeros])\n",
        "\n",
        "    \n",
        "    loss = mse_loss(y_pred, y)\n",
        "    return loss\n"
      ]
    },
    {
      "cell_type": "code",
      "source": [
        "\"\"\"\n",
        "Deep Learning on Graphs - ALTEGRAD - Jan 2022\n",
        "\"\"\"\n",
        "\n",
        "import torch\n",
        "import torch.nn as nn\n",
        "import torch.nn.functional as F\n",
        "\n",
        "class GAE(nn.Module):\n",
        "    \"\"\"GAE model\"\"\"\n",
        "    def __init__(self, n_feat, n_hidden_1, n_hidden_2, dropout):\n",
        "        super(GAE, self).__init__()\n",
        "\n",
        "        self.fc1 = nn.Linear(n_feat, n_hidden_1)\n",
        "        self.fc2 = nn.Linear(n_hidden_1, n_hidden_2)\n",
        "        self.dropout = nn.Dropout(dropout)\n",
        "        self.relu = nn.ReLU()\n",
        "\n",
        "    def forward(self, x_in, adj):\n",
        "        ############## Task 2\n",
        "    \n",
        "        ##################\n",
        "        # your code here #\n",
        "        ##################\n",
        "        h = self.relu(self.fc1(torch.mm(adj, x_in)))\n",
        "        h = self.dropout(h)\n",
        "        z = self.fc2(torch.mm(adj,h))\n",
        "\n",
        "        return z\n"
      ],
      "metadata": {
        "id": "8qgr4CHGkaMh"
      },
      "execution_count": null,
      "outputs": []
    },
    {
      "cell_type": "code",
      "source": [
        "\"\"\"\n",
        "Deep Learning on Graphs - ALTEGRAD - Jan 2022\n",
        "\"\"\"\n",
        "\n",
        "import time\n",
        "import numpy as np\n",
        "import networkx as nx\n",
        "import matplotlib.pyplot as plt\n",
        "import torch\n",
        "import torch.optim as optim\n",
        "import torch.nn as nn\n",
        "from sklearn.decomposition import PCA\n",
        "from sklearn.cluster import KMeans\n",
        "from sklearn.metrics import homogeneity_score\n",
        "\n",
        "\n",
        "\n",
        "\n",
        "# Initialize device\n",
        "device = torch.device(\"cuda\") if torch.cuda.is_available() else torch.device(\"cpu\")\n",
        "\n",
        "# Hyperparameters\n",
        "epochs = 200\n",
        "n_hidden_1 = 16\n",
        "n_hidden_2 = 32\n",
        "learning_rate = 0.01\n",
        "dropout_rate = 0.1\n",
        "\n",
        "# Loads the karate network\n",
        "G = nx.read_weighted_edgelist(PATH_KARATE_EDGE_LIST, delimiter=' ', nodetype=int, create_using=nx.Graph())\n",
        "print(G.number_of_nodes())\n",
        "print(G.number_of_edges())\n",
        "\n",
        "n = G.number_of_nodes()\n",
        "\n",
        "adj = nx.adjacency_matrix(G) # Obtains the adjacency matrix\n",
        "adj = normalize_adjacency(adj) # Normalizes the adjacency matrix\n",
        "\n",
        "features = np.random.randn(n, 10) # Generates node features\n",
        "\n",
        "# Transforms the numpy matrices/vectors to torch tensors\n",
        "features = torch.FloatTensor(features).to(device)\n",
        "adj = sparse_to_torch_sparse(adj).to(device)\n",
        "\n",
        "# Creates the model and specifies the optimizer\n",
        "model = GAE(features.shape[1], n_hidden_1, n_hidden_2, dropout_rate).to(device)\n",
        "optimizer = optim.Adam(model.parameters(), lr=learning_rate)\n",
        "\n",
        "# Trains the model\n",
        "for epoch in range(epochs):\n",
        "    t = time.time()\n",
        "    model.train()\n",
        "    optimizer.zero_grad()\n",
        "    z = model(features, adj)\n",
        "    loss = loss_function(z, adj, device)\n",
        "    loss.backward()\n",
        "    optimizer.step()\n",
        "    \n",
        "    if epoch % 10 == 0:\n",
        "        print('Epoch: {:04d}'.format(epoch+1),\n",
        "              'loss_train: {:.4f}'.format(loss.item()),\n",
        "              'time: {:.4f}s'.format(time.time() - t))\n",
        "\n",
        "\n",
        "# Loads the class labels\n",
        "class_labels = np.loadtxt(PATH_KARATE_LABELS, delimiter=',', dtype=np.int32)\n",
        "idx_to_class_label = dict()\n",
        "for i in range(class_labels.shape[0]):\n",
        "    idx_to_class_label[class_labels[i,0]] = class_labels[i,1]\n",
        "\n",
        "y = list()\n",
        "for node in G.nodes():\n",
        "    y.append(idx_to_class_label[node])\n",
        "\n",
        "############## Task 4\n",
        "    \n",
        "##################\n",
        "# your code here #\n",
        "##################\n",
        "embeddings = z.detach().cpu().numpy()\n",
        "embeddings_2d = PCA(n_components = 2).fit_transform(embeddings)\n",
        "\n",
        "# Visualizes the nodes\n",
        "plt.scatter(embeddings_2d[:,0], embeddings_2d[:,1], c=y)\n",
        "plt.title('PCA Visualization of the nodes')\n",
        "plt.xlabel('1st dimension')\n",
        "plt.ylabel('2nd dimension')\n",
        "plt.show()\n",
        "\n",
        "############## Task 5\n",
        "    \n",
        "##################\n",
        "# your code here #\n",
        "##################\n",
        "\n",
        "kmeans = KMeans(n_clusters = 2)\n",
        "kmeans.fit(embeddings)\n",
        "\n",
        "print(\"homogeneity_score\", homogeneity_score(y,kmeans.predict(embeddings)))\n",
        "\n"
      ],
      "metadata": {
        "colab": {
          "base_uri": "https://localhost:8080/",
          "height": 694
        },
        "id": "qb2ZV5V0kevi",
        "outputId": "acd75eae-ba8a-4f54-81e0-be369d3e0c61"
      },
      "execution_count": null,
      "outputs": [
        {
          "output_type": "stream",
          "name": "stdout",
          "text": [
            "34\n",
            "78\n",
            "Epoch: 0001 loss_train: 0.5392 time: 0.0217s\n",
            "Epoch: 0011 loss_train: 0.2761 time: 0.0235s\n",
            "Epoch: 0021 loss_train: 0.3080 time: 0.0211s\n",
            "Epoch: 0031 loss_train: 0.2412 time: 0.0221s\n",
            "Epoch: 0041 loss_train: 0.2871 time: 0.0228s\n",
            "Epoch: 0051 loss_train: 0.3489 time: 0.0249s\n",
            "Epoch: 0061 loss_train: 0.2745 time: 0.0218s\n",
            "Epoch: 0071 loss_train: 0.2689 time: 0.0210s\n",
            "Epoch: 0081 loss_train: 0.2661 time: 0.0378s\n",
            "Epoch: 0091 loss_train: 0.2962 time: 0.0256s\n",
            "Epoch: 0101 loss_train: 0.2953 time: 0.0229s\n",
            "Epoch: 0111 loss_train: 0.2531 time: 0.0227s\n",
            "Epoch: 0121 loss_train: 0.2874 time: 0.0219s\n",
            "Epoch: 0131 loss_train: 0.2926 time: 0.0224s\n",
            "Epoch: 0141 loss_train: 0.2689 time: 0.0364s\n",
            "Epoch: 0151 loss_train: 0.3124 time: 0.0330s\n",
            "Epoch: 0161 loss_train: 0.2850 time: 0.0291s\n",
            "Epoch: 0171 loss_train: 0.2691 time: 0.0235s\n",
            "Epoch: 0181 loss_train: 0.3114 time: 0.0255s\n",
            "Epoch: 0191 loss_train: 0.2987 time: 0.0266s\n"
          ]
        },
        {
          "output_type": "display_data",
          "data": {
            "image/png": "[encoded data removed]",
            "text/plain": [
              "<Figure size 432x288 with 1 Axes>"
            ]
          },
          "metadata": {
            "needs_background": "light"
          }
        },
        {
          "output_type": "stream",
          "name": "stdout",
          "text": [
            "homogeneity_score 0.36833966164876614\n"
          ]
        }
      ]
    },
    {
      "cell_type": "code",
      "source": [
        "plt.scatter(embeddings_2d[:,0], embeddings_2d[:,1], c=kmeans.predict(embeddings))\n",
        "plt.title('PCA Visualization of the nodes, with cluster labels')\n",
        "plt.xlabel('1st dimension')\n",
        "plt.ylabel('2nd dimension')\n",
        "plt.show()"
      ],
      "metadata": {
        "colab": {
          "base_uri": "https://localhost:8080/",
          "height": 295
        },
        "id": "cz00ZaK5yXJt",
        "outputId": "4a962c75-925b-474c-d63a-fa86e71a3297"
      },
      "execution_count": null,
      "outputs": [
        {
          "output_type": "display_data",
          "data": {
            "image/png": "[encoded data removed]",
            "text/plain": [
              "<Figure size 432x288 with 1 Axes>"
            ]
          },
          "metadata": {
            "needs_background": "light"
          }
        }
      ]
    },
    {
      "cell_type": "markdown",
      "source": [
        "## GNN for Graph-Level Tasks"
      ],
      "metadata": {
        "id": "o5knjNjckiuR"
      }
    },
    {
      "cell_type": "code",
      "source": [
        "\"\"\"\n",
        "Deep Learning on Graphs - ALTEGRAD - Jan 2022\n",
        "\"\"\"\n",
        "\n",
        "import networkx as nx\n",
        "import numpy as np\n",
        "import torch\n",
        "from random import randint\n",
        "\n",
        "def create_dataset():\n",
        "    Gs = list()\n",
        "    y = list()\n",
        "\n",
        "    ############## Task 6\n",
        "    \n",
        "    ##################\n",
        "    # your code here #\n",
        "    ##################\n",
        "    Gs = [nx.generators.random_graphs.fast_gnp_random_graph(n,0.2) for n in np.random.randint(10,21, size = 50)]\n",
        "    Gs = Gs + [nx.generators.random_graphs.fast_gnp_random_graph(n,0.4) for n in np.random.randint(10,21, size = 50)]\n",
        "\n",
        "    y = [0] * 50 + [1]*50\n",
        "    return Gs, y\n",
        "\n",
        "\n",
        "def sparse_mx_to_torch_sparse_tensor(sparse_mx):\n",
        "    sparse_mx = sparse_mx.tocoo().astype(np.float32)\n",
        "    indices = torch.from_numpy(np.vstack((sparse_mx.row, sparse_mx.col)).astype(np.int64))\n",
        "    values = torch.from_numpy(sparse_mx.data)\n",
        "    shape = torch.Size(sparse_mx.shape)\n",
        "    return torch.sparse.FloatTensor(indices, values, shape)\n"
      ],
      "metadata": {
        "id": "noVHVy7ykqOM"
      },
      "execution_count": null,
      "outputs": []
    },
    {
      "cell_type": "code",
      "source": [
        "\"\"\"\n",
        "Deep Learning on Graphs - ALTEGRAD - Jan 2022\n",
        "\"\"\"\n",
        "\n",
        "import torch\n",
        "import torch.nn as nn\n",
        "import torch.nn.functional as F\n",
        "\n",
        "class GNN(nn.Module):\n",
        "    def __init__(self, input_dim, hidden_dim_1, hidden_dim_2, hidden_dim_3, n_class, device):\n",
        "        super(GNN, self).__init__()\n",
        "        self.device = device\n",
        "        self.fc1 = nn.Linear(input_dim, hidden_dim_1)\n",
        "        self.fc2 = nn.Linear(hidden_dim_1, hidden_dim_2)\n",
        "        self.fc3 = nn.Linear(hidden_dim_2, hidden_dim_3)\n",
        "        self.fc4 = nn.Linear(hidden_dim_3, n_class)\n",
        "        self.relu = nn.ReLU()\n",
        "\n",
        "    def forward(self, x_in, adj, idx):\n",
        "        \n",
        "        ############## Task 7\n",
        "    \n",
        "        ##################\n",
        "        # your code here #\n",
        "        ##################\n",
        "        z0 = self.relu(self.fc1(torch.mm(adj, x_in)))\n",
        "        x = self.fc2(torch.mm(adj, z0))\n",
        "        #readout\n",
        "        idx = idx.unsqueeze(1).repeat(1, x.size(1)).type(torch.int64)\n",
        "        out = torch.zeros(int(torch.max(idx).item()+1), x.size(1)).to(self.device)\n",
        "        out = out.scatter_add_(0, idx, x) \n",
        "        \n",
        "        ##################\n",
        "        # your code here #\n",
        "        ##################\n",
        "        out = self.relu(self.fc3(out))\n",
        "        out = self.fc4(out)\n",
        "\n",
        "        return F.log_softmax(out, dim=1)\n"
      ],
      "metadata": {
        "id": "N9ebsvBPkvD3"
      },
      "execution_count": null,
      "outputs": []
    },
    {
      "cell_type": "code",
      "source": [
        "\"\"\"\n",
        "Deep Learning on Graphs - ALTEGRAD - Jan 2022\n",
        "\"\"\"\n",
        "\n",
        "import time\n",
        "import networkx as nx\n",
        "import numpy as np\n",
        "import scipy.sparse as sp\n",
        "from sklearn.model_selection import train_test_split\n",
        "import torch\n",
        "import torch.nn as nn\n",
        "from torch import optim\n",
        "\n",
        "# Initializes device\n",
        "device = torch.device(\"cuda\") if torch.cuda.is_available() else torch.device(\"cpu\")\n",
        "\n",
        "# Hyperparameters\n",
        "epochs = 200\n",
        "batch_size = 8\n",
        "n_hidden_1 = 16\n",
        "n_hidden_2 = 32\n",
        "n_hidden_3 = 32\n",
        "learning_rate = 0.01\n",
        "\n",
        "# Generates synthetic dataset\n",
        "Gs, y = create_dataset()\n",
        "n_class = np.unique(y).size\n",
        "\n",
        "# Splits the dataset into a training and a test set\n",
        "G_train, G_test, y_train, y_test = train_test_split(Gs, y, test_size=0.1)\n",
        "\n",
        "N_train = len(G_train)\n",
        "N_test = len(G_test)\n",
        "\n",
        "# Initializes model and optimizer\n",
        "model = GNN(1, n_hidden_1, n_hidden_2, n_hidden_3, n_class, device).to(device)\n",
        "optimizer = optim.Adam(model.parameters(), lr=learning_rate)\n",
        "loss_function = nn.CrossEntropyLoss()\n",
        "\n",
        "# Trains the model\n",
        "for epoch in range(epochs):\n",
        "    t = time.time()\n",
        "    model.train()\n",
        "    \n",
        "    train_loss = 0\n",
        "    correct = 0\n",
        "    count = 0\n",
        "    for i in range(0, N_train, batch_size):\n",
        "        adj_batch = list()\n",
        "        idx_batch = list()\n",
        "        y_batch = list()\n",
        "\n",
        "        ############## Task 8\n",
        "        \n",
        "        ##################\n",
        "        # your code here #\n",
        "        ##################\n",
        "        adj_batch = sp.block_diag([nx.linalg.graphmatrix.adjacency_matrix(G) for G in G_train[i: i+batch_size]])\n",
        "        for j,G in enumerate(G_train[i: i+batch_size]):\n",
        "          idx_batch = idx_batch + [j]*G.number_of_nodes()\n",
        "        y_batch = y_train[i:i+batch_size]\n",
        "        features_batch = np.ones((adj_batch.shape[0],1))\n",
        "\n",
        "\n",
        "\n",
        "        adj_batch = sparse_mx_to_torch_sparse_tensor(adj_batch)\n",
        "        y_batch = torch.Tensor(y_batch).type(torch.long)\n",
        "        features_batch = torch.Tensor(features_batch)\n",
        "        idx_batch = torch.Tensor(idx_batch)\n",
        "\n",
        "        \n",
        "        optimizer.zero_grad()\n",
        "        output = model(features_batch, adj_batch, idx_batch)\n",
        "\n",
        "        loss = loss_function(output, y_batch)\n",
        "        train_loss += loss.item() * output.size(0)\n",
        "        count += output.size(0)\n",
        "        preds = output.max(1)[1].type_as(y_batch)\n",
        "        correct += torch.sum(preds.eq(y_batch).double())\n",
        "        loss.backward()\n",
        "        optimizer.step()\n",
        "    \n",
        "    if epoch % 10 == 0:\n",
        "        print('Epoch: {:04d}'.format(epoch+1),\n",
        "              'loss_train: {:.4f}'.format(train_loss / count),\n",
        "              'acc_train: {:.4f}'.format(correct / count),\n",
        "              'time: {:.4f}s'.format(time.time() - t))\n",
        "        \n",
        "print('Optimization finished!')\n",
        "\n",
        "# Evaluates the model\n",
        "model.eval()\n",
        "test_loss = 0\n",
        "correct = 0\n",
        "count = 0\n",
        "for i in range(0, N_test, batch_size):\n",
        "    adj_batch = list()\n",
        "    idx_batch = list()\n",
        "    y_batch = list()\n",
        "\n",
        "    ############## Task 8\n",
        "    \n",
        "    ##################\n",
        "    # your code here #\n",
        "    ##################\n",
        "    adj_batch = sp.block_diag([nx.linalg.graphmatrix.adjacency_matrix(G) for G in G_train[i: i+batch_size]])\n",
        "    for j,G in enumerate(G_train[i: i+batch_size]):\n",
        "      idx_batch = idx_batch + [j]*G.number_of_nodes()\n",
        "    y_batch = y_train[i:i+batch_size]\n",
        "    features_batch = np.ones((adj_batch.shape[0],1))\n",
        "\n",
        "\n",
        "\n",
        "    adj_batch = sparse_mx_to_torch_sparse_tensor(adj_batch)\n",
        "    y_batch = torch.Tensor(y_batch).type(torch.long)\n",
        "    features_batch = torch.Tensor(features_batch)\n",
        "    idx_batch = torch.Tensor(idx_batch)\n",
        "\n",
        "    output = model(features_batch, adj_batch, idx_batch)\n",
        "    loss = loss_function(output, y_batch)\n",
        "    test_loss += loss.item() * output.size(0)\n",
        "    count += output.size(0)\n",
        "    preds = output.max(1)[1].type_as(y_batch)\n",
        "    correct += torch.sum(preds.eq(y_batch).double())\n",
        "\n",
        "print('loss_test: {:.4f}'.format(test_loss / count),\n",
        "      'acc_test: {:.4f}'.format(correct / count),\n",
        "      'time: {:.4f}s'.format(time.time() - t))\n"
      ],
      "metadata": {
        "colab": {
          "base_uri": "https://localhost:8080/"
        },
        "id": "DPlexhG6kxWV",
        "outputId": "7726490c-8bbd-4b70-ba55-665f37ca26dc"
      },
      "execution_count": null,
      "outputs": [
        {
          "output_type": "stream",
          "name": "stdout",
          "text": [
            "Epoch: 0001 loss_train: 5.9328 acc_train: 0.4333 time: 0.1193s\n",
            "Epoch: 0011 loss_train: 0.2630 acc_train: 0.8667 time: 0.1166s\n",
            "Epoch: 0021 loss_train: 0.2634 acc_train: 0.8778 time: 0.1216s\n",
            "Epoch: 0031 loss_train: 0.2538 acc_train: 0.8778 time: 0.0663s\n",
            "Epoch: 0041 loss_train: 0.2413 acc_train: 0.8889 time: 0.0654s\n",
            "Epoch: 0051 loss_train: 0.2274 acc_train: 0.8778 time: 0.0633s\n",
            "Epoch: 0061 loss_train: 0.2286 acc_train: 0.8889 time: 0.0612s\n",
            "Epoch: 0071 loss_train: 0.2032 acc_train: 0.9000 time: 0.0605s\n",
            "Epoch: 0081 loss_train: 0.2245 acc_train: 0.8667 time: 0.0654s\n",
            "Epoch: 0091 loss_train: 0.1742 acc_train: 0.9222 time: 0.0798s\n",
            "Epoch: 0101 loss_train: 0.2656 acc_train: 0.8889 time: 0.0691s\n",
            "Epoch: 0111 loss_train: 0.1833 acc_train: 0.9222 time: 0.0633s\n",
            "Epoch: 0121 loss_train: 0.1514 acc_train: 0.9556 time: 0.0727s\n",
            "Epoch: 0131 loss_train: 0.1546 acc_train: 0.9556 time: 0.0637s\n",
            "Epoch: 0141 loss_train: 0.1436 acc_train: 0.9444 time: 0.0620s\n",
            "Epoch: 0151 loss_train: 0.5514 acc_train: 0.8667 time: 0.0620s\n",
            "Epoch: 0161 loss_train: 0.1697 acc_train: 0.9333 time: 0.0639s\n",
            "Epoch: 0171 loss_train: 0.1664 acc_train: 0.9111 time: 0.0603s\n",
            "Epoch: 0181 loss_train: 0.1353 acc_train: 0.9667 time: 0.0632s\n",
            "Epoch: 0191 loss_train: 0.1305 acc_train: 0.9444 time: 0.0634s\n",
            "Optimization finished!\n",
            "loss_test: 0.0848 acc_test: 0.9375 time: 0.0800s\n"
          ]
        }
      ]
    }
  ]
}