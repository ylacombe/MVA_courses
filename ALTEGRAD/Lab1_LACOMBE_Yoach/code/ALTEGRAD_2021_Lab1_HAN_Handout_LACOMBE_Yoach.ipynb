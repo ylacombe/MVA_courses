{
  "nbformat": 4,
  "nbformat_minor": 0,
  "metadata": {
    "colab": {
      "name": "ALTEGRAD_2021_Lab1_HAN_Handout_LACOMBE_Yoach.ipynb",
      "provenance": [],
      "collapsed_sections": []
    },
    "kernelspec": {
      "display_name": "Python 3",
      "name": "python3"
    },
    "language_info": {
      "codemirror_mode": {
        "name": "ipython",
        "version": 3
      },
      "file_extension": ".py",
      "mimetype": "text/x-python",
      "name": "python",
      "nbconvert_exporter": "python",
      "pygments_lexer": "ipython3",
      "version": "3.6.13"
    }
  },
  "cells": [
    {
      "cell_type": "markdown",
      "metadata": {
        "id": "MuVouapRmjEW"
      },
      "source": [
        "<center><h2>ALTeGraD 2021<br>Lab Session 1: HAN</h2><h3>Hierarchical Attention Network Using GRU</h3> 09 / 11 / 2021<br> M. Kamal Eddine, H. Abdine</center>\n",
        "\n",
        "\n"
      ]
    },
    {
      "cell_type": "code",
      "metadata": {
        "id": "ogg6hkhFW8Jz",
        "colab": {
          "base_uri": "https://localhost:8080/"
        },
        "outputId": "c513bca1-61c9-472a-d68c-a7f1a0aed9ff"
      },
      "source": [
        "# In case you are using google colab:\n",
        "# uncomment the following two lines: \n",
        "\n",
        "%tensorflow_version 1.9\n",
        "!pip install keras==2.2.5\n",
        "\n",
        "!wget -c \"https://onedrive.live.com/download?cid=AE69638675180117&resid=AE69638675180117%2199289&authkey=AHgxt3xmgG0Fu5A\" -O \"data.zip\"\n",
        "!unzip data.zip"
      ],
      "execution_count": null,
      "outputs": [
        {
          "output_type": "stream",
          "name": "stdout",
          "text": [
            "`%tensorflow_version` only switches the major version: 1.x or 2.x.\n",
            "You set: `1.9`. This will be interpreted as: `1.x`.\n",
            "\n",
            "\n",
            "TensorFlow is already loaded. Please restart the runtime to change versions.\n",
            "Collecting keras==2.2.5\n",
            "  Using cached Keras-2.2.5-py2.py3-none-any.whl (336 kB)\n",
            "Requirement already satisfied: keras-applications>=1.0.8 in /tensorflow-1.15.2/python3.7 (from keras==2.2.5) (1.0.8)\n",
            "Requirement already satisfied: scipy>=0.14 in /usr/local/lib/python3.7/dist-packages (from keras==2.2.5) (1.4.1)\n",
            "Requirement already satisfied: pyyaml in /usr/local/lib/python3.7/dist-packages (from keras==2.2.5) (3.13)\n",
            "Requirement already satisfied: numpy>=1.9.1 in /usr/local/lib/python3.7/dist-packages (from keras==2.2.5) (1.19.5)\n",
            "Requirement already satisfied: h5py in /usr/local/lib/python3.7/dist-packages (from keras==2.2.5) (3.1.0)\n",
            "Requirement already satisfied: keras-preprocessing>=1.1.0 in /usr/local/lib/python3.7/dist-packages (from keras==2.2.5) (1.1.2)\n",
            "Requirement already satisfied: six>=1.9.0 in /usr/local/lib/python3.7/dist-packages (from keras==2.2.5) (1.15.0)\n",
            "Requirement already satisfied: cached-property in /usr/local/lib/python3.7/dist-packages (from h5py->keras==2.2.5) (1.5.2)\n",
            "Installing collected packages: keras\n",
            "  Attempting uninstall: keras\n",
            "    Found existing installation: keras 2.6.0\n",
            "    Uninstalling keras-2.6.0:\n",
            "      Successfully uninstalled keras-2.6.0\n",
            "Successfully installed keras-2.2.5\n",
            "--2021-11-09 13:51:27--  https://onedrive.live.com/download?cid=AE69638675180117&resid=AE69638675180117%2199289&authkey=AHgxt3xmgG0Fu5A\n",
            "Resolving onedrive.live.com (onedrive.live.com)... 13.107.42.13\n",
            "Connecting to onedrive.live.com (onedrive.live.com)|13.107.42.13|:443... connected.\n",
            "HTTP request sent, awaiting response... 302 Found\n",
            "Location: https://vqtlqw.am.files.1drv.com/y4m5qwqZrUPNqlPwxGAkD3JyqrEtTGm-E8ncJ_7CLvsXd2_UruXfQjWH_0zmEvFW5CcC3-UM6uHRSRaywW1aPFGD_d0PrixvrGKpwCqXaykMNeez8hwL_S34bcrwhmM2kfSjz8gsP47zjO-3kl1JErygyH4Drtwbpq3ymAbIrUfFmz3AQm9C9zfj53HY8Ml_ct3x4zNlQ5JHKoqCelHA7NvQw/data.zip?download&psid=1 [following]\n",
            "--2021-11-09 13:51:27--  https://vqtlqw.am.files.1drv.com/y4m5qwqZrUPNqlPwxGAkD3JyqrEtTGm-E8ncJ_7CLvsXd2_UruXfQjWH_0zmEvFW5CcC3-UM6uHRSRaywW1aPFGD_d0PrixvrGKpwCqXaykMNeez8hwL_S34bcrwhmM2kfSjz8gsP47zjO-3kl1JErygyH4Drtwbpq3ymAbIrUfFmz3AQm9C9zfj53HY8Ml_ct3x4zNlQ5JHKoqCelHA7NvQw/data.zip?download&psid=1\n",
            "Resolving vqtlqw.am.files.1drv.com (vqtlqw.am.files.1drv.com)... 13.107.42.12\n",
            "Connecting to vqtlqw.am.files.1drv.com (vqtlqw.am.files.1drv.com)|13.107.42.12|:443... connected.\n",
            "HTTP request sent, awaiting response... 416 Requested Range Not Satisfiable\n",
            "\n",
            "    The file is already fully retrieved; nothing to do.\n",
            "\n",
            "Archive:  data.zip\n",
            "replace __MACOSX/._data? [y]es, [n]o, [A]ll, [N]one, [r]ename: N\n"
          ]
        }
      ]
    },
    {
      "cell_type": "markdown",
      "metadata": {
        "id": "xJaSJaIP1xRy"
      },
      "source": [
        "# = = = = = Attention Layer = = = = ="
      ]
    },
    {
      "cell_type": "code",
      "metadata": {
        "id": "MeXk--0rncj4"
      },
      "source": [
        "def dot_product(x, kernel):\n",
        "    \"\"\"\n",
        "    https://github.com/richliao/textClassifier/issues/13#issuecomment-377323318\n",
        "    Wrapper for dot product operation, in order to be compatible with both\n",
        "    Theano and Tensorflow\n",
        "    Args:\n",
        "        x (): input\n",
        "        kernel (): weights\n",
        "    Returns:\n",
        "    \"\"\"\n",
        "    if K.backend() == 'tensorflow':\n",
        "        return K.squeeze(K.dot(x, K.expand_dims(kernel)), axis=-1)\n",
        "    else:\n",
        "        return K.dot(x, kernel)"
      ],
      "execution_count": null,
      "outputs": []
    },
    {
      "cell_type": "code",
      "metadata": {
        "id": "yoM7H0KQncpF"
      },
      "source": [
        "import keras.backend as K\n",
        "from keras.layers import Layer as Layer\n",
        "from keras import initializers, regularizers, constraints\n",
        "\n",
        "\n",
        "class AttentionWithContext(Layer):\n",
        "    \"\"\"\n",
        "    Follows the work of Yang et al. [https://www.cs.cmu.edu/~diyiy/docs/naacl16.pdf]\n",
        "    \"Hierarchical Attention Networks for Document Classification\"\n",
        "    by using a context vector to assist the attention\n",
        "    # Input shape\n",
        "        3D tensor with shape: `(samples, steps, features)`.\n",
        "    # Output shape\n",
        "        2D tensor with shape: `(samples, features)`.\n",
        "    \n",
        "    How to use:\n",
        "    Just put it on top of an RNN Layer (GRU/LSTM/SimpleRNN) with return_sequences=True.\n",
        "    The dimensions are inferred based on the output shape of the RNN.\n",
        "    \n",
        "    Example:\n",
        "        model.add(LSTM(64, return_sequences=True))\n",
        "        model.add(AttentionWithContext())\n",
        "        # next add a Dense layer (for classification/regression) or whatever...\n",
        "    \"\"\"\n",
        "    \n",
        "    def __init__(self, return_coefficients=False,\n",
        "                 W_regularizer=None, u_regularizer=None, b_regularizer=None,\n",
        "                 W_constraint=None, u_constraint=None, b_constraint=None,\n",
        "                 bias=True, **kwargs):\n",
        "        self.supports_masking = True\n",
        "        self.return_coefficients = return_coefficients\n",
        "        self.init = initializers.get('glorot_uniform')\n",
        "        \n",
        "        self.W_regularizer = regularizers.get(W_regularizer)\n",
        "        self.u_regularizer = regularizers.get(u_regularizer)\n",
        "        self.b_regularizer = regularizers.get(b_regularizer)\n",
        "        \n",
        "        self.W_constraint = constraints.get(W_constraint)\n",
        "        self.u_constraint = constraints.get(u_constraint)\n",
        "        self.b_constraint = constraints.get(b_constraint)\n",
        "        \n",
        "        self.bias = bias\n",
        "        super(AttentionWithContext, self).__init__(**kwargs)\n",
        "    \n",
        "    def build(self, input_shape):\n",
        "        assert len(input_shape) == 3\n",
        "        \n",
        "        self.W = self.add_weight((input_shape[-1], input_shape[-1],),\n",
        "                                 initializer=self.init,\n",
        "                                 name='{}_W'.format(self.name),\n",
        "                                 regularizer=self.W_regularizer,\n",
        "                                 constraint=self.W_constraint)\n",
        "        if self.bias:\n",
        "            self.b = self.add_weight((input_shape[-1],),\n",
        "                                     initializer='zero',\n",
        "                                     name='{}_b'.format(self.name),\n",
        "                                     regularizer=self.b_regularizer,\n",
        "                                     constraint=self.b_constraint)\n",
        "        \n",
        "        self.u = self.add_weight((input_shape[-1],),\n",
        "                                 initializer=self.init,\n",
        "                                 name='{}_u'.format(self.name),\n",
        "                                 regularizer=self.u_regularizer,\n",
        "                                 constraint=self.u_constraint)\n",
        "        \n",
        "        super(AttentionWithContext, self).build(input_shape)\n",
        "    \n",
        "    def compute_mask(self, input, input_mask=None):\n",
        "        # do not pass the mask to the next layers\n",
        "        return None\n",
        "    \n",
        "    def call(self, x, mask=None):\n",
        "        uit = dot_product(x, self.W)\n",
        "        \n",
        "        if self.bias:\n",
        "            uit += self.b\n",
        "        \n",
        "        uit = K.tanh(uit)\n",
        "        ait = dot_product(uit, self.u)\n",
        "        \n",
        "        a = K.exp(ait)\n",
        "        \n",
        "        # apply mask after the exp. will be re-normalized next\n",
        "        if mask is not None:\n",
        "            # Cast the mask to floatX to avoid float64 upcasting in theano\n",
        "            a *= K.cast(mask, K.floatx())\n",
        "        \n",
        "        # in some cases especially in the early stages of training the sum may be almost zero\n",
        "        # and this results in NaN's. A workaround is to add a very small positive number ε to the sum.\n",
        "        # a /= K.cast(K.sum(a, axis=1, keepdims=True), K.floatx())\n",
        "        a /= K.cast(K.sum(a, axis=1, keepdims=True) + K.epsilon(), K.floatx())\n",
        "        \n",
        "        a = K.expand_dims(a)\n",
        "        weighted_input = K.sum(a*x, axis = 1)### fill the gap ### # compute the attentional vector\n",
        "        \n",
        "        if self.return_coefficients:\n",
        "            return [weighted_input, a] ### fill the gap - [attentional vector, coefficients] ###\n",
        "        else:\n",
        "            return weighted_input ### fill the gap - attentional vector only ###\n",
        "    \n",
        "    \n",
        "    \n",
        "    def compute_output_shape(self, input_shape):\n",
        "        if self.return_coefficients:\n",
        "            return [(input_shape[0], input_shape[-1]), (input_shape[0], input_shape[-1], 1)]\n",
        "        else:\n",
        "            return input_shape[0], input_shape[-1]"
      ],
      "execution_count": null,
      "outputs": []
    },
    {
      "cell_type": "markdown",
      "metadata": {
        "id": "AB-WOy4YHlsr"
      },
      "source": [
        "# = = = = = Bidirectional GRU = = = = =\n",
        "#### fill the gaps in the bidir_gru function below ###\n",
        "#### add a RNN-GRU layer and a bidirectional wrapper ###\n",
        "#### bidirectional: search for 'bidirectional' [here](https://keras.io/layers/wrappers/)\n",
        "#### GRU: search for 'GRU' [here](https://keras.io/layers/recurrent/)\n",
        "#### layers can be combined by nesting them as: layer_b(parameters_b)(layer_a(parameters_a)(input))"
      ]
    },
    {
      "cell_type": "code",
      "metadata": {
        "id": "qoFkuGwNncwy"
      },
      "source": [
        "from keras.layers import Bidirectional, GRU\n",
        "\n",
        "def bidir_gru(my_seq,n_units):\n",
        "    '''\n",
        "    just a convenient wrapper for bidirectional RNN with GRU units\n",
        "    '''\n",
        "    return (Bidirectional(GRU(n_units, return_sequences=True)))(my_seq)"
      ],
      "execution_count": null,
      "outputs": []
    },
    {
      "cell_type": "markdown",
      "metadata": {
        "id": "DgTP6GrOHlss"
      },
      "source": [
        "# = = = = = Parameters = = = = ="
      ]
    },
    {
      "cell_type": "code",
      "metadata": {
        "id": "czsVjxgYnczb"
      },
      "source": [
        "import sys\n",
        "import json\n",
        "import operator\n",
        "import numpy as np\n",
        "\n",
        "#path_root = 'for_moodle/'\n",
        "path_root = './'\n",
        "path_to_data = path_root + 'data/'\n",
        "\n",
        "d = 30 # dimensionality of word embeddings\n",
        "n_units = 50 # RNN layer dimensionality\n",
        "drop_rate = 0.5 # dropout\n",
        "mfw_idx = 2 # index of the most frequent words in the dictionary \n",
        "            # 0 is for the special padding token\n",
        "            # 1 is for the special out-of-vocabulary token\n",
        "\n",
        "padding_idx = 0\n",
        "oov_idx = 1\n",
        "batch_size = 32\n",
        "nb_epochs = 6\n",
        "my_optimizer = 'adam'\n",
        "my_patience = 2 # for early stopping strategy"
      ],
      "execution_count": null,
      "outputs": []
    },
    {
      "cell_type": "markdown",
      "metadata": {
        "id": "K8Vot_C7Hlst"
      },
      "source": [
        "# = = = = = Data Loading = = = = ="
      ]
    },
    {
      "cell_type": "code",
      "metadata": {
        "id": "UD6hRh0OHlst"
      },
      "source": [
        "my_docs_array_train = np.load(path_to_data + 'docs_train.npy')\n",
        "my_docs_array_test = np.load(path_to_data + 'docs_test.npy')\n",
        "\n",
        "my_labels_array_train = np.load(path_to_data + 'labels_train.npy')\n",
        "my_labels_array_test = np.load(path_to_data + 'labels_test.npy')\n",
        "\n",
        "# load dictionary of word indexes (sorted by decreasing frequency across the corpus)\n",
        "with open(path_to_data + 'word_to_index.json', 'r') as my_file:\n",
        "    word_to_index = json.load(my_file)\n",
        "\n",
        "# invert mapping\n",
        "index_to_word = dict((v,k) for k,v in word_to_index.items()) ### fill the gap (use a dict comprehension) ###"
      ],
      "execution_count": null,
      "outputs": []
    },
    {
      "cell_type": "markdown",
      "metadata": {
        "id": "6rzqEGOdHlst"
      },
      "source": [
        "# = = = = = Defining Architecture = = = = ="
      ]
    },
    {
      "cell_type": "code",
      "metadata": {
        "id": "AMj9j1_pHlst",
        "colab": {
          "base_uri": "https://localhost:8080/"
        },
        "outputId": "9edddefb-5393-4f5e-e0e5-86de9f2038d9"
      },
      "source": [
        "from keras.models import Model\n",
        "from keras.layers import Input, Embedding, Dropout, TimeDistributed, Dense\n",
        "\n",
        "sent_ints = Input(shape=(my_docs_array_train.shape[2],)) # vec of ints of variable size\n",
        "\n",
        "sent_wv = Embedding(input_dim=len(index_to_word)+2, # vocab size\n",
        "                    output_dim=d, # dimensionality of embedding space\n",
        "                    input_length=my_docs_array_train.shape[2],\n",
        "                    trainable=True\n",
        "                    )(sent_ints)\n",
        "\n",
        "sent_wv_dr = Dropout(drop_rate)(sent_wv)\n",
        "sent_wa = bidir_gru(sent_wv_dr,n_units)### fill the gap ### # get the annotations for each word in the sent\n",
        "sent_att_vec,word_att_coeffs =  AttentionWithContext(return_coefficients=True)(sent_wa)### fill the gap ### # get the attentional vector for the sentence\n",
        "sent_att_vec_dr = Dropout(drop_rate)(sent_att_vec)                      \n",
        "sent_encoder = Model(sent_ints,sent_att_vec_dr)\n",
        "\n",
        "doc_ints = Input(shape=(my_docs_array_train.shape[1],my_docs_array_train.shape[2],))\n",
        "sent_att_vecs_dr = TimeDistributed(sent_encoder)(doc_ints)### fill the gap ### # apply the sentence encoder model to each sentence in the document. Search for 'TimeDistributed' in https://keras.io/layers/wrappers/\n",
        "doc_sa = bidir_gru(sent_att_vecs_dr,n_units) ### fill the gap ### # get annotations for each sent in the doc\n",
        "doc_att_vec,sent_att_coeffs = AttentionWithContext(return_coefficients=True)(doc_sa)### fill the gap ### # get attentional vector for the doc\n",
        "doc_att_vec_dr = Dropout(drop_rate)(doc_att_vec)\n",
        "                  \n",
        "preds = Dense(units=1,\n",
        "              activation='sigmoid')(doc_att_vec_dr)\n",
        "model = Model(doc_ints,preds)\n",
        "\n",
        "model.compile(loss='binary_crossentropy',\n",
        "              optimizer = my_optimizer,\n",
        "              metrics = ['accuracy'])\n",
        "\n",
        "print('model compiled')"
      ],
      "execution_count": null,
      "outputs": [
        {
          "output_type": "stream",
          "name": "stdout",
          "text": [
            "WARNING:tensorflow:From /usr/local/lib/python3.7/dist-packages/keras/backend/tensorflow_backend.py:66: The name tf.get_default_graph is deprecated. Please use tf.compat.v1.get_default_graph instead.\n",
            "\n",
            "WARNING:tensorflow:From /usr/local/lib/python3.7/dist-packages/keras/backend/tensorflow_backend.py:541: The name tf.placeholder is deprecated. Please use tf.compat.v1.placeholder instead.\n",
            "\n",
            "WARNING:tensorflow:From /usr/local/lib/python3.7/dist-packages/keras/backend/tensorflow_backend.py:4432: The name tf.random_uniform is deprecated. Please use tf.random.uniform instead.\n",
            "\n",
            "WARNING:tensorflow:From /usr/local/lib/python3.7/dist-packages/keras/backend/tensorflow_backend.py:148: The name tf.placeholder_with_default is deprecated. Please use tf.compat.v1.placeholder_with_default instead.\n",
            "\n",
            "WARNING:tensorflow:From /usr/local/lib/python3.7/dist-packages/keras/backend/tensorflow_backend.py:3733: calling dropout (from tensorflow.python.ops.nn_ops) with keep_prob is deprecated and will be removed in a future version.\n",
            "Instructions for updating:\n",
            "Please use `rate` instead of `keep_prob`. Rate should be set to `rate = 1 - keep_prob`.\n",
            "WARNING:tensorflow:From /usr/local/lib/python3.7/dist-packages/keras/optimizers.py:793: The name tf.train.Optimizer is deprecated. Please use tf.compat.v1.train.Optimizer instead.\n",
            "\n",
            "WARNING:tensorflow:From /usr/local/lib/python3.7/dist-packages/keras/backend/tensorflow_backend.py:3657: The name tf.log is deprecated. Please use tf.math.log instead.\n",
            "\n",
            "WARNING:tensorflow:From /tensorflow-1.15.2/python3.7/tensorflow_core/python/ops/nn_impl.py:183: where (from tensorflow.python.ops.array_ops) is deprecated and will be removed in a future version.\n",
            "Instructions for updating:\n",
            "Use tf.where in 2.0, which has the same broadcast rule as np.where\n",
            "model compiled\n"
          ]
        }
      ]
    },
    {
      "cell_type": "markdown",
      "metadata": {
        "id": "sgreR5AcHlst"
      },
      "source": [
        "# = = = = = Training = = = = ="
      ]
    },
    {
      "cell_type": "code",
      "metadata": {
        "id": "rbW_vheGHlst",
        "colab": {
          "base_uri": "https://localhost:8080/"
        },
        "outputId": "f2caea6f-3691-4c9a-b589-d77c77b58688"
      },
      "source": [
        "from keras.callbacks import EarlyStopping, ModelCheckpoint\n",
        "\n",
        "loading_pretrained = False\n",
        "\n",
        "if not loading_pretrained:\n",
        "    early_stopping = EarlyStopping(monitor='val_acc',\n",
        "                                   patience=my_patience,\n",
        "                                   mode='max')\n",
        "    \n",
        "    # save model corresponding to best epoch\n",
        "    checkpointer = ModelCheckpoint(filepath=path_to_data + 'model', \n",
        "                                   verbose=1, \n",
        "                                   save_best_only=True,\n",
        "                                   save_weights_only=True)\n",
        "    \n",
        "    # 200s/epoch on CPU - reaches 84.38% accuracy in 2 epochs\n",
        "    ### fill the gap ### # call the .fit() method on your model with the arguments: my_docs_array_train, my_labels_array_train, batch_size, nb_epochs, my_docs_array_test, my_labels_array_test, early_stopping\n",
        "    # look at: https://keras.io/models/sequential/#fit\n",
        "    model.fit(my_docs_array_train, my_labels_array_train, batch_size = batch_size,  epochs = nb_epochs, validation_data = (my_docs_array_test, my_labels_array_test), callbacks=[checkpointer, early_stopping]) # checkpointer\n",
        "\n",
        "else:\n",
        "    model.load_weights(path_to_data + 'model')"
      ],
      "execution_count": null,
      "outputs": [
        {
          "output_type": "stream",
          "name": "stdout",
          "text": [
            "WARNING:tensorflow:From /usr/local/lib/python3.7/dist-packages/keras/backend/tensorflow_backend.py:1033: The name tf.assign_add is deprecated. Please use tf.compat.v1.assign_add instead.\n",
            "\n",
            "WARNING:tensorflow:From /usr/local/lib/python3.7/dist-packages/keras/backend/tensorflow_backend.py:1020: The name tf.assign is deprecated. Please use tf.compat.v1.assign instead.\n",
            "\n",
            "WARNING:tensorflow:From /usr/local/lib/python3.7/dist-packages/keras/backend/tensorflow_backend.py:3005: The name tf.Session is deprecated. Please use tf.compat.v1.Session instead.\n",
            "\n",
            "Train on 25000 samples, validate on 25000 samples\n",
            "Epoch 1/6\n",
            "WARNING:tensorflow:From /usr/local/lib/python3.7/dist-packages/keras/backend/tensorflow_backend.py:190: The name tf.get_default_session is deprecated. Please use tf.compat.v1.get_default_session instead.\n",
            "\n",
            "WARNING:tensorflow:From /usr/local/lib/python3.7/dist-packages/keras/backend/tensorflow_backend.py:197: The name tf.ConfigProto is deprecated. Please use tf.compat.v1.ConfigProto instead.\n",
            "\n",
            "WARNING:tensorflow:From /usr/local/lib/python3.7/dist-packages/keras/backend/tensorflow_backend.py:207: The name tf.global_variables is deprecated. Please use tf.compat.v1.global_variables instead.\n",
            "\n",
            "WARNING:tensorflow:From /usr/local/lib/python3.7/dist-packages/keras/backend/tensorflow_backend.py:216: The name tf.is_variable_initialized is deprecated. Please use tf.compat.v1.is_variable_initialized instead.\n",
            "\n",
            "WARNING:tensorflow:From /usr/local/lib/python3.7/dist-packages/keras/backend/tensorflow_backend.py:223: The name tf.variables_initializer is deprecated. Please use tf.compat.v1.variables_initializer instead.\n",
            "\n",
            "25000/25000 [==============================] - 116s 5ms/step - loss: 0.4603 - acc: 0.7646 - val_loss: 0.3575 - val_acc: 0.8418\n",
            "\n",
            "Epoch 00001: val_loss improved from inf to 0.35755, saving model to ./data/model\n",
            "Epoch 2/6\n",
            "25000/25000 [==============================] - 111s 4ms/step - loss: 0.2661 - acc: 0.8934 - val_loss: 0.3815 - val_acc: 0.8339\n",
            "\n",
            "Epoch 00002: val_loss did not improve from 0.35755\n",
            "Epoch 3/6\n",
            "25000/25000 [==============================] - 112s 4ms/step - loss: 0.1878 - acc: 0.9270 - val_loss: 0.3898 - val_acc: 0.8319\n",
            "\n",
            "Epoch 00003: val_loss did not improve from 0.35755\n"
          ]
        }
      ]
    },
    {
      "cell_type": "markdown",
      "metadata": {
        "id": "Dvyr8B5QHlst"
      },
      "source": [
        "# = = = = = Extraction of Attention Coefficients = = = = ="
      ]
    },
    {
      "cell_type": "code",
      "metadata": {
        "id": "UVr8cS4MHlst"
      },
      "source": [
        "from keras.models import Model\n",
        "\n",
        "# define intermediate models\n",
        "### fill the two gaps below ###\n",
        "get_word_att_coeffs = Model(sent_ints,word_att_coeffs) # attention coeffs over the words in a sent\n",
        "get_sent_attention_coeffs = Model(doc_ints,sent_att_coeffs) # attention coeffs over the sents in the doc\n",
        "\n",
        "my_review = my_docs_array_test[-1:,:,:] # select last review\n",
        "\n",
        "\n",
        "# convert integer review to text\n",
        "index_to_word[1] = 'OOV'\n",
        "my_review_text = [[index_to_word[idx] for idx in sent if idx in index_to_word] for sent in my_review.tolist()[0]]"
      ],
      "execution_count": null,
      "outputs": []
    },
    {
      "cell_type": "markdown",
      "metadata": {
        "id": "wHDJ7JiqHlsu"
      },
      "source": [
        "# = = = = = Attention Over Sentences in the Document = = = = ="
      ]
    },
    {
      "cell_type": "code",
      "metadata": {
        "id": "yooWg3kkHlsu",
        "colab": {
          "base_uri": "https://localhost:8080/"
        },
        "outputId": "f621fe18-5c54-45be-8d99-4342352ac0b4"
      },
      "source": [
        "sent_coeffs = get_sent_attention_coeffs.predict(my_review)\n",
        "sent_coeffs = sent_coeffs[0,:,:]\n",
        "\n",
        "for elt in zip(sent_coeffs[:,0].tolist(),[' '.join(elt) for elt in my_review_text]):\n",
        "    print(round(elt[0]*100,2),elt[1])"
      ],
      "execution_count": null,
      "outputs": [
        {
          "output_type": "stream",
          "name": "stdout",
          "text": [
            "22.57 There 's a sign on The Lost Highway that says : OOV SPOILERS OOV ( but you already knew that , did n't you ? )\n",
            "17.3 Since there 's a great deal of people that apparently did not get the point of this movie , I 'd like to contribute my interpretation of why the plot\n",
            "19.21 As others have pointed out , one single viewing of this movie is not sufficient .\n",
            "17.07 If you have the DVD of MD , you can OOV ' by looking at David Lynch 's 'Top 10 OOV to OOV MD ' ( but only upon second\n",
            "10.55 ; ) First of all , Mulholland Drive is downright brilliant .\n",
            "6.25 A masterpiece .\n",
            "7.04 This is the kind of movie that refuse to leave your head .\n"
          ]
        }
      ]
    },
    {
      "cell_type": "markdown",
      "metadata": {
        "id": "rII-DNrKHlsu"
      },
      "source": [
        "# = = = = = Attention Over Words in Each Sentence = = = = ="
      ]
    },
    {
      "cell_type": "code",
      "metadata": {
        "id": "JyFjAga6Hlsu",
        "colab": {
          "base_uri": "https://localhost:8080/"
        },
        "outputId": "2c0f7c9e-c3e6-4715-acf7-ee6f26407ad8"
      },
      "source": [
        "from keras.backend.tensorflow_backend import _to_tensor\n",
        "\n",
        "my_review_tensor = _to_tensor(my_review,dtype='float32') # a layer, unlike a model, requires a TensorFlow tensor as input\n",
        "\n",
        "word_coeffs = TimeDistributed(get_word_att_coeffs)(my_review_tensor)### fill the gap ### # get the word attentional coefficients for each sentence in the document\n",
        "word_coeffs = K.eval(word_coeffs) # shape = (1, 7, 30, 1): (batch size, nb of sents in doc, nb of words per sent, coeff)\n",
        "word_coeffs = word_coeffs[0,:,:,0] # shape = (7, 30) (coeff for each word in each sentence)\n",
        "word_coeffs = sent_coeffs * word_coeffs # re-weight by sentence importance\n",
        "word_coeffs = np.round((word_coeffs*100).astype(np.float64),2)\n",
        "\n",
        "word_coeffs_list = word_coeffs.tolist()\n",
        "\n",
        "# match text and coefficients\n",
        "text_word_coeffs = [list(zip(words,word_coeffs_list[idx][:len(words)])) for idx,words in enumerate(my_review_text)]\n",
        "\n",
        "for sent in text_word_coeffs:\n",
        "    [print(elt) for elt in sent]  \n",
        "    print('= = = =')\n",
        "\n",
        "# sort words by importance within each sentence\n",
        "text_word_coeffs_sorted = [sorted(elt,key=operator.itemgetter(1),reverse=True) for elt in text_word_coeffs]\n",
        "\n",
        "for sent in text_word_coeffs_sorted:\n",
        "    [print(elt) for elt in sent]\n",
        "    print('= = = =')"
      ],
      "execution_count": null,
      "outputs": [
        {
          "output_type": "stream",
          "name": "stdout",
          "text": [
            "('There', 0.36)\n",
            "(\"'s\", 0.43)\n",
            "('a', 0.6)\n",
            "('sign', 0.3)\n",
            "('on', 0.58)\n",
            "('The', 0.46)\n",
            "('Lost', 5.05)\n",
            "('Highway', 1.46)\n",
            "('that', 0.5)\n",
            "('says', 0.36)\n",
            "(':', 0.25)\n",
            "('OOV', 0.22)\n",
            "('SPOILERS', 0.18)\n",
            "('OOV', 0.21)\n",
            "('(', 0.24)\n",
            "('but', 1.05)\n",
            "('you', 2.02)\n",
            "('already', 2.72)\n",
            "('knew', 2.06)\n",
            "('that', 0.69)\n",
            "(',', 0.61)\n",
            "('did', 0.25)\n",
            "(\"n't\", 0.15)\n",
            "('you', 0.27)\n",
            "('?', 0.27)\n",
            "(')', 0.65)\n",
            "= = = =\n",
            "('Since', 1.01)\n",
            "('there', 0.67)\n",
            "(\"'s\", 0.67)\n",
            "('a', 0.96)\n",
            "('great', 4.01)\n",
            "('deal', 1.29)\n",
            "('of', 0.89)\n",
            "('people', 0.46)\n",
            "('that', 0.15)\n",
            "('apparently', 0.1)\n",
            "('did', 0.07)\n",
            "('not', 0.03)\n",
            "('get', 0.04)\n",
            "('the', 0.07)\n",
            "('point', 0.12)\n",
            "('of', 0.15)\n",
            "('this', 0.36)\n",
            "('movie', 0.54)\n",
            "(',', 0.58)\n",
            "('I', 0.4)\n",
            "(\"'d\", 0.18)\n",
            "('like', 0.18)\n",
            "('to', 0.17)\n",
            "('contribute', 0.43)\n",
            "('my', 0.32)\n",
            "('interpretation', 0.79)\n",
            "('of', 0.61)\n",
            "('why', 0.71)\n",
            "('the', 0.6)\n",
            "('plot', 0.75)\n",
            "= = = =\n",
            "('As', 1.29)\n",
            "('others', 1.06)\n",
            "('have', 1.0)\n",
            "('pointed', 0.37)\n",
            "('out', 0.24)\n",
            "(',', 0.34)\n",
            "('one', 0.67)\n",
            "('single', 0.25)\n",
            "('viewing', 0.69)\n",
            "('of', 0.6)\n",
            "('this', 1.4)\n",
            "('movie', 1.95)\n",
            "('is', 3.99)\n",
            "('not', 1.09)\n",
            "('sufficient', 2.22)\n",
            "('.', 0.8)\n",
            "= = = =\n",
            "('If', 0.33)\n",
            "('you', 0.45)\n",
            "('have', 0.4)\n",
            "('the', 0.44)\n",
            "('DVD', 0.68)\n",
            "('of', 0.62)\n",
            "('MD', 1.91)\n",
            "(',', 1.11)\n",
            "('you', 1.33)\n",
            "('can', 0.93)\n",
            "('OOV', 0.68)\n",
            "(\"'\", 0.29)\n",
            "('by', 0.64)\n",
            "('looking', 0.75)\n",
            "('at', 0.27)\n",
            "('David', 0.35)\n",
            "('Lynch', 0.36)\n",
            "(\"'s\", 0.4)\n",
            "(\"'Top\", 0.64)\n",
            "('10', 0.36)\n",
            "('OOV', 0.33)\n",
            "('to', 0.29)\n",
            "('OOV', 0.28)\n",
            "('MD', 0.85)\n",
            "(\"'\", 0.24)\n",
            "('(', 0.27)\n",
            "('but', 0.92)\n",
            "('only', 0.33)\n",
            "('upon', 0.3)\n",
            "('second', 0.34)\n",
            "= = = =\n",
            "(';', 0.48)\n",
            "(')', 0.69)\n",
            "('First', 0.24)\n",
            "('of', 0.35)\n",
            "('all', 0.18)\n",
            "(',', 0.29)\n",
            "('Mulholland', 0.34)\n",
            "('Drive', 0.28)\n",
            "('is', 0.53)\n",
            "('downright', 0.98)\n",
            "('brilliant', 4.79)\n",
            "('.', 0.71)\n",
            "= = = =\n",
            "('A', 0.7)\n",
            "('masterpiece', 3.96)\n",
            "('.', 0.73)\n",
            "= = = =\n",
            "('This', 1.09)\n",
            "('is', 2.03)\n",
            "('the', 1.63)\n",
            "('kind', 0.4)\n",
            "('of', 0.49)\n",
            "('movie', 0.56)\n",
            "('that', 0.2)\n",
            "('refuse', 0.16)\n",
            "('to', 0.13)\n",
            "('leave', 0.08)\n",
            "('your', 0.07)\n",
            "('head', 0.04)\n",
            "('.', 0.03)\n",
            "= = = =\n",
            "('Lost', 5.05)\n",
            "('already', 2.72)\n",
            "('knew', 2.06)\n",
            "('you', 2.02)\n",
            "('Highway', 1.46)\n",
            "('but', 1.05)\n",
            "('that', 0.69)\n",
            "(')', 0.65)\n",
            "(',', 0.61)\n",
            "('a', 0.6)\n",
            "('on', 0.58)\n",
            "('that', 0.5)\n",
            "('The', 0.46)\n",
            "(\"'s\", 0.43)\n",
            "('There', 0.36)\n",
            "('says', 0.36)\n",
            "('sign', 0.3)\n",
            "('you', 0.27)\n",
            "('?', 0.27)\n",
            "(':', 0.25)\n",
            "('did', 0.25)\n",
            "('(', 0.24)\n",
            "('OOV', 0.22)\n",
            "('OOV', 0.21)\n",
            "('SPOILERS', 0.18)\n",
            "(\"n't\", 0.15)\n",
            "= = = =\n",
            "('great', 4.01)\n",
            "('deal', 1.29)\n",
            "('Since', 1.01)\n",
            "('a', 0.96)\n",
            "('of', 0.89)\n",
            "('interpretation', 0.79)\n",
            "('plot', 0.75)\n",
            "('why', 0.71)\n",
            "('there', 0.67)\n",
            "(\"'s\", 0.67)\n",
            "('of', 0.61)\n",
            "('the', 0.6)\n",
            "(',', 0.58)\n",
            "('movie', 0.54)\n",
            "('people', 0.46)\n",
            "('contribute', 0.43)\n",
            "('I', 0.4)\n",
            "('this', 0.36)\n",
            "('my', 0.32)\n",
            "(\"'d\", 0.18)\n",
            "('like', 0.18)\n",
            "('to', 0.17)\n",
            "('that', 0.15)\n",
            "('of', 0.15)\n",
            "('point', 0.12)\n",
            "('apparently', 0.1)\n",
            "('did', 0.07)\n",
            "('the', 0.07)\n",
            "('get', 0.04)\n",
            "('not', 0.03)\n",
            "= = = =\n",
            "('is', 3.99)\n",
            "('sufficient', 2.22)\n",
            "('movie', 1.95)\n",
            "('this', 1.4)\n",
            "('As', 1.29)\n",
            "('not', 1.09)\n",
            "('others', 1.06)\n",
            "('have', 1.0)\n",
            "('.', 0.8)\n",
            "('viewing', 0.69)\n",
            "('one', 0.67)\n",
            "('of', 0.6)\n",
            "('pointed', 0.37)\n",
            "(',', 0.34)\n",
            "('single', 0.25)\n",
            "('out', 0.24)\n",
            "= = = =\n",
            "('MD', 1.91)\n",
            "('you', 1.33)\n",
            "(',', 1.11)\n",
            "('can', 0.93)\n",
            "('but', 0.92)\n",
            "('MD', 0.85)\n",
            "('looking', 0.75)\n",
            "('DVD', 0.68)\n",
            "('OOV', 0.68)\n",
            "('by', 0.64)\n",
            "(\"'Top\", 0.64)\n",
            "('of', 0.62)\n",
            "('you', 0.45)\n",
            "('the', 0.44)\n",
            "('have', 0.4)\n",
            "(\"'s\", 0.4)\n",
            "('Lynch', 0.36)\n",
            "('10', 0.36)\n",
            "('David', 0.35)\n",
            "('second', 0.34)\n",
            "('If', 0.33)\n",
            "('OOV', 0.33)\n",
            "('only', 0.33)\n",
            "('upon', 0.3)\n",
            "(\"'\", 0.29)\n",
            "('to', 0.29)\n",
            "('OOV', 0.28)\n",
            "('at', 0.27)\n",
            "('(', 0.27)\n",
            "(\"'\", 0.24)\n",
            "= = = =\n",
            "('brilliant', 4.79)\n",
            "('downright', 0.98)\n",
            "('.', 0.71)\n",
            "(')', 0.69)\n",
            "('is', 0.53)\n",
            "(';', 0.48)\n",
            "('of', 0.35)\n",
            "('Mulholland', 0.34)\n",
            "(',', 0.29)\n",
            "('Drive', 0.28)\n",
            "('First', 0.24)\n",
            "('all', 0.18)\n",
            "= = = =\n",
            "('masterpiece', 3.96)\n",
            "('.', 0.73)\n",
            "('A', 0.7)\n",
            "= = = =\n",
            "('is', 2.03)\n",
            "('the', 1.63)\n",
            "('This', 1.09)\n",
            "('movie', 0.56)\n",
            "('of', 0.49)\n",
            "('kind', 0.4)\n",
            "('that', 0.2)\n",
            "('refuse', 0.16)\n",
            "('to', 0.13)\n",
            "('leave', 0.08)\n",
            "('your', 0.07)\n",
            "('head', 0.04)\n",
            "('.', 0.03)\n",
            "= = = =\n"
          ]
        }
      ]
    },
    {
      "cell_type": "code",
      "metadata": {
        "colab": {
          "base_uri": "https://localhost:8080/",
          "height": 1000
        },
        "id": "_03ikK01d4Tp",
        "outputId": "597de15a-36fe-4317-f2c0-c0986f342aca"
      },
      "source": [
        "import matplotlib.pyplot as plt\n",
        "\n",
        "plt.rcParams[\"figure.figsize\"] = (20,3)\n",
        "\n",
        "\n",
        "for sent in text_word_coeffs:\n",
        "    plt.bar([elt[0] for elt in sent],[elt[1] for elt in sent])\n",
        "    plt.show()\n",
        "    print('= = = =')\n"
      ],
      "execution_count": null,
      "outputs": [
        {
          "output_type": "display_data",
          "data": {
            "image/png": "[encoded data removed]",
            "text/plain": [
              "<Figure size 1440x216 with 1 Axes>"
            ]
          },
          "metadata": {
            "needs_background": "light"
          }
        },
        {
          "output_type": "stream",
          "name": "stdout",
          "text": [
            "= = = =\n"
          ]
        },
        {
          "output_type": "display_data",
          "data": {
            "image/png": "[encoded data removed]",
            "text/plain": [
              "<Figure size 1440x216 with 1 Axes>"
            ]
          },
          "metadata": {
            "needs_background": "light"
          }
        },
        {
          "output_type": "stream",
          "name": "stdout",
          "text": [
            "= = = =\n"
          ]
        },
        {
          "output_type": "display_data",
          "data": {
            "image/png": "[encoded data removed]",
            "text/plain": [
              "<Figure size 1440x216 with 1 Axes>"
            ]
          },
          "metadata": {
            "needs_background": "light"
          }
        },
        {
          "output_type": "stream",
          "name": "stdout",
          "text": [
            "= = = =\n"
          ]
        },
        {
          "output_type": "display_data",
          "data": {
            "image/png": "[encoded data removed]",
            "text/plain": [
              "<Figure size 1440x216 with 1 Axes>"
            ]
          },
          "metadata": {
            "needs_background": "light"
          }
        },
        {
          "output_type": "stream",
          "name": "stdout",
          "text": [
            "= = = =\n"
          ]
        },
        {
          "output_type": "display_data",
          "data": {
            "image/png": "[encoded data removed]",
            "text/plain": [
              "<Figure size 1440x216 with 1 Axes>"
            ]
          },
          "metadata": {
            "needs_background": "light"
          }
        },
        {
          "output_type": "stream",
          "name": "stdout",
          "text": [
            "= = = =\n"
          ]
        },
        {
          "output_type": "display_data",
          "data": {
            "image/png": "[encoded data removed]",
            "text/plain": [
              "<Figure size 1440x216 with 1 Axes>"
            ]
          },
          "metadata": {
            "needs_background": "light"
          }
        },
        {
          "output_type": "stream",
          "name": "stdout",
          "text": [
            "= = = =\n"
          ]
        },
        {
          "output_type": "display_data",
          "data": {
            "image/png": "[encoded data removed]",
            "text/plain": [
              "<Figure size 1440x216 with 1 Axes>"
            ]
          },
          "metadata": {
            "needs_background": "light"
          }
        },
        {
          "output_type": "stream",
          "name": "stdout",
          "text": [
            "= = = =\n"
          ]
        }
      ]
    },
    {
      "cell_type": "code",
      "metadata": {
        "id": "4x81m576CHdf"
      },
      "source": [
        "# Commentary: First sentence is deemed most important, even though it is obsviously not the case. Lot of cases in which it doesn't focus on the most important words (',',';', 'is') and totally overlook the sense of the phrase (refuse to leave your head...)\n"
      ],
      "execution_count": null,
      "outputs": []
    }
  ]
}