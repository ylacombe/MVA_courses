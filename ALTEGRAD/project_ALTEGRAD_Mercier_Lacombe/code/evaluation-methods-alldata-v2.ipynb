{
 "cells": [
  {
   "cell_type": "code",
   "execution_count": 1,
   "id": "3a44eb8b",
   "metadata": {
    "_cell_guid": "b1076dfc-b9ad-4769-8c92-a6c4dae69d19",
    "_uuid": "8f2839f25d086af736a60e9eeb907d3b93b6e0e5",
    "execution": {
     "iopub.execute_input": "2022-02-18T18:06:47.490023Z",
     "iopub.status.busy": "2022-02-18T18:06:47.484354Z",
     "iopub.status.idle": "2022-02-18T18:06:48.980149Z",
     "shell.execute_reply": "2022-02-18T18:06:48.979267Z",
     "shell.execute_reply.started": "2022-02-17T22:44:55.437446Z"
    },
    "papermill": {
     "duration": 1.584822,
     "end_time": "2022-02-18T18:06:48.980326",
     "exception": false,
     "start_time": "2022-02-18T18:06:47.395504",
     "status": "completed"
    },
    "tags": []
   },
   "outputs": [],
   "source": [
    "import csv\n",
    "import networkx as nx\n",
    "import numpy as np\n",
    "from random import randint\n",
    "import random\n",
    "import csv\n",
    "import networkx as nx\n",
    "import numpy as np\n",
    "from random import randint\n",
    "from sklearn.linear_model import LogisticRegression\n",
    "from xgboost import plot_importance\n",
    "\n",
    "\n",
    "EDGE_LIST_PATH = '../input/citation-prediction-altegrad/edgelist.txt'\n",
    "AUTHORS_LIST_PATH = '../input/citation-prediction-altegrad/authors.txt'\n"
   ]
  },
  {
   "cell_type": "code",
   "execution_count": 2,
   "id": "1760a745",
   "metadata": {
    "execution": {
     "iopub.execute_input": "2022-02-18T18:06:49.068679Z",
     "iopub.status.busy": "2022-02-18T18:06:49.063250Z",
     "iopub.status.idle": "2022-02-18T18:06:49.248720Z",
     "shell.execute_reply": "2022-02-18T18:06:49.248079Z",
     "shell.execute_reply.started": "2022-02-17T22:44:56.607021Z"
    },
    "papermill": {
     "duration": 0.229602,
     "end_time": "2022-02-18T18:06:49.248888",
     "exception": false,
     "start_time": "2022-02-18T18:06:49.019286",
     "status": "completed"
    },
    "tags": []
   },
   "outputs": [],
   "source": [
    "from sklearn.metrics import plot_confusion_matrix, log_loss, accuracy_score, roc_auc_score\n",
    "import matplotlib.pyplot as plt\n",
    "import xgboost as xgb\n",
    "import pandas as pd\n",
    "import smart_open\n",
    "import gensim\n",
    "import re\n",
    "import unidecode\n",
    "regex = re.compile('[^a-zA-Z ,]')\n",
    "\n",
    "def read_corpus(fname, tokens_only=False):\n",
    "    with smart_open.open(fname, encoding=\"iso-8859-1\") as f:\n",
    "        for i, line in enumerate(f):\n",
    "            tokens = gensim.utils.simple_preprocess(line)\n",
    "            if tokens_only:\n",
    "                yield tokens\n",
    "            else:\n",
    "                # For training data, add tags\n",
    "                yield gensim.models.doc2vec.TaggedDocument(tokens, [i])\n",
    "\n",
    "\n",
    "def evaluate_estimator(clf, X_test, y_test):\n",
    "    plot_confusion_matrix(clf, X_test, y_test)\n",
    "    plt.show()\n",
    "    y_pred = clf.predict_proba(X_test)[:, 1]\n",
    "    print(\"accuracy\",accuracy_score(y_test, (y_pred>0.5)))\n",
    "    print(\"log_loss\", log_loss(y_test, y_pred, eps=1e-7))\n",
    "    print(\"auc\", roc_auc_score(y_test, y_pred))\n",
    "    plt.hist(y_pred)\n",
    "    plt.show()\n",
    "    \n",
    "    \n",
    "\n",
    "\n",
    "def process_author(s):\n",
    "    l = s.split()\n",
    "    l = [m[:3].upper() for m in l]\n",
    "    return ' '.join(l)\n",
    "\n",
    "def process_authors_split(s):\n",
    "    s = s.replace('Janne Heikkil #x E', 'Janne Heikkila')\n",
    "    s = s.replace('Samuel Rota Bul #x F', \"Samuel Rota Bulo\")\n",
    "    s = s.replace('Maria Salam #x F,Llorente', 'Maria Salamo Llorente')\n",
    "    s = s.replace('Patrick H #x E,as,dric Herzet', 'Patrick Heas, Cedric Herzet')\n",
    "    s = s.replace('Etienne M #x E,min', 'Etienne Memin')\n",
    "    s = regex.sub('', s)\n",
    "    \n",
    "    authors_split = s.split(',')\n",
    "    authors_split = [process_author(a) for a in authors_split]\n",
    "    \n",
    "    return authors_split\n"
   ]
  },
  {
   "cell_type": "markdown",
   "id": "ac05b82e",
   "metadata": {
    "papermill": {
     "duration": 0.034908,
     "end_time": "2022-02-18T18:06:49.321103",
     "exception": false,
     "start_time": "2022-02-18T18:06:49.286195",
     "status": "completed"
    },
    "tags": []
   },
   "source": [
    "**Load graph**"
   ]
  },
  {
   "cell_type": "code",
   "execution_count": 3,
   "id": "71b78169",
   "metadata": {
    "execution": {
     "iopub.execute_input": "2022-02-18T18:06:49.399937Z",
     "iopub.status.busy": "2022-02-18T18:06:49.399222Z",
     "iopub.status.idle": "2022-02-18T18:06:56.624651Z",
     "shell.execute_reply": "2022-02-18T18:06:56.626028Z",
     "shell.execute_reply.started": "2022-02-17T22:44:56.846626Z"
    },
    "papermill": {
     "duration": 7.269741,
     "end_time": "2022-02-18T18:06:56.626325",
     "exception": false,
     "start_time": "2022-02-18T18:06:49.356584",
     "status": "completed"
    },
    "tags": []
   },
   "outputs": [
    {
     "name": "stdout",
     "output_type": "stream",
     "text": [
      "Number of nodes: 138499\n",
      "Number of edges: 1091955\n"
     ]
    }
   ],
   "source": [
    "# Create a graph\n",
    "G = nx.read_edgelist(EDGE_LIST_PATH, delimiter=',', create_using=nx.Graph(), nodetype=int)\n",
    "nodes = list(G.nodes())\n",
    "n = G.number_of_nodes()\n",
    "m = G.number_of_edges()\n",
    "print('Number of nodes:', n)\n",
    "print('Number of edges:', m)"
   ]
  },
  {
   "cell_type": "markdown",
   "id": "1a2ccda8",
   "metadata": {
    "papermill": {
     "duration": 0.05743,
     "end_time": "2022-02-18T18:06:56.742536",
     "exception": false,
     "start_time": "2022-02-18T18:06:56.685106",
     "status": "completed"
    },
    "tags": []
   },
   "source": [
    "**negative edges**: random sampling of pair of nodes"
   ]
  },
  {
   "cell_type": "code",
   "execution_count": 4,
   "id": "6c055b95",
   "metadata": {
    "execution": {
     "iopub.execute_input": "2022-02-18T18:06:56.856381Z",
     "iopub.status.busy": "2022-02-18T18:06:56.855284Z",
     "iopub.status.idle": "2022-02-18T18:06:56.859314Z",
     "shell.execute_reply": "2022-02-18T18:06:56.858629Z",
     "shell.execute_reply.started": "2022-02-17T22:50:40.98081Z"
    },
    "papermill": {
     "duration": 0.053768,
     "end_time": "2022-02-18T18:06:56.859510",
     "exception": false,
     "start_time": "2022-02-18T18:06:56.805742",
     "status": "completed"
    },
    "tags": []
   },
   "outputs": [],
   "source": [
    "def generate_negative_edges(G, m):\n",
    "    #f = open(\"/content/drive/negative_edgelist.txt\", \"w\")\n",
    "    f = open(\"./negative_edgelist.txt\", \"w\")\n",
    "    my_set = set()\n",
    "    edges = set(G.edges())\n",
    "    for i in range(m):\n",
    "        n1 = nodes[randint(0, n-1)]\n",
    "        n2 = nodes[randint(0, n-1)]\n",
    "        while ((n1,n2) in my_set or (n2,n1) in my_set) or ((n1,n2) in edges or (n2,n1) in edges):\n",
    "            n2 = nodes[randint(0, n-1)]\n",
    "        my_set.add((n1,n2))\n",
    "        f.write(str(n1) +',' +str(n2)+'\\n')\n",
    "    f.close() \n",
    "    verif = sum(1 for line in open('negative_edgelist.txt'))\n",
    "    if m != len(my_set) or m != verif:\n",
    "        print(\"Attention, mauvais nombre de negative edges\")\n",
    "        print(m, len(my_set), verif)\n",
    "    f.close()\n",
    "    del my_set\n",
    "\n",
    "#generate_negative_edges(G, m=2*G.number_of_edges())"
   ]
  },
  {
   "cell_type": "code",
   "execution_count": 5,
   "id": "a589fc18",
   "metadata": {
    "execution": {
     "iopub.execute_input": "2022-02-18T18:06:56.949872Z",
     "iopub.status.busy": "2022-02-18T18:06:56.947735Z",
     "iopub.status.idle": "2022-02-18T18:06:56.950713Z",
     "shell.execute_reply": "2022-02-18T18:06:56.951316Z",
     "shell.execute_reply.started": "2022-02-17T22:50:42.190815Z"
    },
    "papermill": {
     "duration": 0.049474,
     "end_time": "2022-02-18T18:06:56.951497",
     "exception": false,
     "start_time": "2022-02-18T18:06:56.902023",
     "status": "completed"
    },
    "tags": []
   },
   "outputs": [],
   "source": [
    "#neg_G = nx.read_edgelist('../input/second-order-metrics-train-test/negative_edgelist.txt', delimiter=',', nodetype=int)\n",
    "#neg_G = nx.read_edgelist('./negative_edgelist.txt', delimiter=',', nodetype=int)\n",
    "#print('Number of nodes:', neg_G.number_of_nodes())\n",
    "#print('Number of edges:', neg_G.number_of_edges())"
   ]
  },
  {
   "cell_type": "markdown",
   "id": "e4a540fe",
   "metadata": {
    "papermill": {
     "duration": 0.034418,
     "end_time": "2022-02-18T18:06:57.023191",
     "exception": false,
     "start_time": "2022-02-18T18:06:56.988773",
     "status": "completed"
    },
    "tags": []
   },
   "source": [
    "**train-test split** :\n",
    "* training_graph : train edges positive\n",
    "* neg_G: train edges negative\n",
    "\n",
    "* test_edge_list : test edges positive\n",
    "* test_neg_edge_list: test edges negative\n"
   ]
  },
  {
   "cell_type": "code",
   "execution_count": 6,
   "id": "ced62b86",
   "metadata": {
    "execution": {
     "iopub.execute_input": "2022-02-18T18:06:57.111943Z",
     "iopub.status.busy": "2022-02-18T18:06:57.110865Z",
     "iopub.status.idle": "2022-02-18T18:07:14.096425Z",
     "shell.execute_reply": "2022-02-18T18:07:14.097292Z",
     "shell.execute_reply.started": "2022-02-17T22:50:43.482729Z"
    },
    "papermill": {
     "duration": 17.039573,
     "end_time": "2022-02-18T18:07:14.097556",
     "exception": false,
     "start_time": "2022-02-18T18:06:57.057983",
     "status": "completed"
    },
    "tags": []
   },
   "outputs": [
    {
     "name": "stdout",
     "output_type": "stream",
     "text": [
      "Number of nodes: 138499\n",
      "Number of edges: 1456999\n"
     ]
    }
   ],
   "source": [
    "import random\n",
    "\n",
    "training_graph = G.copy()\n",
    "neg_G = nx.read_edgelist('../input/sage-alldata-same-ratio/negative_edgelist.txt', delimiter=',', nodetype=int)\n",
    "print('Number of nodes:', neg_G.number_of_nodes())\n",
    "print('Number of edges:', neg_G.number_of_edges())"
   ]
  },
  {
   "cell_type": "code",
   "execution_count": 7,
   "id": "76f7091b",
   "metadata": {
    "execution": {
     "iopub.execute_input": "2022-02-18T18:07:14.223326Z",
     "iopub.status.busy": "2022-02-18T18:07:14.208850Z",
     "iopub.status.idle": "2022-02-18T18:07:14.388662Z",
     "shell.execute_reply": "2022-02-18T18:07:14.389235Z",
     "shell.execute_reply.started": "2022-02-17T22:50:57.498134Z"
    },
    "papermill": {
     "duration": 0.255787,
     "end_time": "2022-02-18T18:07:14.389441",
     "exception": false,
     "start_time": "2022-02-18T18:07:14.133654",
     "status": "completed"
    },
    "tags": []
   },
   "outputs": [
    {
     "name": "stdout",
     "output_type": "stream",
     "text": [
      "verification 1091955 1456999\n"
     ]
    }
   ],
   "source": [
    " print(\"verification\",training_graph.number_of_edges(), neg_G.number_of_edges())\n"
   ]
  },
  {
   "cell_type": "markdown",
   "id": "c032955b",
   "metadata": {
    "papermill": {
     "duration": 0.035461,
     "end_time": "2022-02-18T18:07:14.459928",
     "exception": false,
     "start_time": "2022-02-18T18:07:14.424467",
     "status": "completed"
    },
    "tags": []
   },
   "source": [
    "**first iteration:** sum of degrees and diff of degrees."
   ]
  },
  {
   "cell_type": "code",
   "execution_count": 8,
   "id": "f7b5fc50",
   "metadata": {
    "execution": {
     "iopub.execute_input": "2022-02-18T18:07:14.553275Z",
     "iopub.status.busy": "2022-02-18T18:07:14.551942Z",
     "iopub.status.idle": "2022-02-18T18:07:14.554493Z",
     "shell.execute_reply": "2022-02-18T18:07:14.555155Z",
     "shell.execute_reply.started": "2022-02-17T22:56:28.517977Z"
    },
    "papermill": {
     "duration": 0.059872,
     "end_time": "2022-02-18T18:07:14.555358",
     "exception": false,
     "start_time": "2022-02-18T18:07:14.495486",
     "status": "completed"
    },
    "tags": []
   },
   "outputs": [],
   "source": [
    "import gc\n",
    "\n",
    "\n",
    "def give_features_baseline(graph, edges, abstracts = None):\n",
    "    \n",
    "    sum_degree = [G.degree(n1) + G.degree(n2) for (n1,n2) in edges]\n",
    "    diff_degree = [abs(G.degree(n1) - G.degree(n2)) for (n1,n2) in edges]\n",
    "    \n",
    "    if abstracts is not None:\n",
    "        len1 = np.array([len(abstracts[edge[0]]) for edge in edges])\n",
    "        len2 = np.array([len(abstracts[edge[1]]) for edge in edges])\n",
    "        ab1 = len1 + len2\n",
    "        ab2 = np.abs(len1 - len2)\n",
    "        del len1, len2\n",
    "        ab3 = [len(abstracts[edge[0]].intersection(abstracts[edge[1]])) for edge in edges]\n",
    "        return np.c_[sum_degree, diff_degree, ab1, ab2, ab3]\n",
    "    \n",
    "    return np.c_[sum_degree, diff_degree]\n",
    "\n",
    "\n",
    "def give_features_from_list_pairs(graph, edges):\n",
    "    '''\n",
    "    graph must be from igraph (not anymore)\n",
    "    graph  = igraph.Graph.from_networkx(training_graph)\n",
    "    '''\n",
    "    #similarity_dice = graph.similarity_dice(pairs = edges)\n",
    "    #similarity_jaccard = graph.similarity_jaccard(pairs = edges)\n",
    "    \n",
    "    adamic_adar = nx.adamic_adar_index(graph, edges)\n",
    "    ressource_allocation = nx.resource_allocation_index(graph, edges)\n",
    "    jaccard_coeff = nx.jaccard_coefficient(graph, edges)\n",
    "    \n",
    "    \n",
    "    return (np.c_[list(adamic_adar),list(ressource_allocation), list(jaccard_coeff)])[:,2::3]\n",
    "\n",
    "\n",
    "def give_features_from_embedding(emb, edges):\n",
    "    '''\n",
    "    edges can be an iterator\n",
    "    '''\n",
    "    dist = emb[[i for i in map(lambda x: x[0], edges)]] - emb[[i for i in map(lambda x: x[1], edges)]]\n",
    "    l2_dist_neg = np.linalg.norm(dist, ord = 2, axis = 1)\n",
    "    l1_dist_neg = np.linalg.norm(dist, ord = 1, axis = 1)\n",
    "    del dist\n",
    "    \n",
    "    hadamard_neg = np.sum(emb[[i for i in map(lambda x: x[0],  edges)]] * emb[[i for i in map(lambda x: x[1],  edges)]], axis = 1)\n",
    "    \n",
    "    return np.c_[l2_dist_neg, l1_dist_neg, hadamard_neg]\n",
    "\n",
    "\n",
    "def give_authors_features(authors_list_per_node, edges, nodes_per_authors):\n",
    "    intersect_edges = [(np.intersect1d(authors_list_per_node[n1], authors_list_per_node[n2] ,assume_unique=True)) for (n1,n2) in edges]\n",
    "    \n",
    "    common_authors = [len(l) for l in intersect_edges]\n",
    "    weighted_common = [sum([len(nodes_per_authors[a]) for a in l]) for l in intersect_edges]\n",
    "    \n",
    "    del intersect_edges\n",
    "    len_ = [[len(authors_list_per_node[n1]), len(authors_list_per_node[n2])] for (n1,n2) in edges]\n",
    "    \n",
    "    popularity = [(sum([len(nodes_per_authors[a]) for a in authors_list_per_node[n1]]),\n",
    "                    sum([len(nodes_per_authors[b]) for b in authors_list_per_node[n2]])) for (n1,n2) in edges]\n",
    "\n",
    "    #weighted len en fonction de la popularité des auteurs ?\n",
    "    return np.c_[common_authors, weighted_common, np.array(len_), popularity]\n",
    "\n",
    "\n"
   ]
  },
  {
   "cell_type": "markdown",
   "id": "6113c2a7",
   "metadata": {
    "papermill": {
     "duration": 0.036887,
     "end_time": "2022-02-18T18:07:14.628735",
     "exception": false,
     "start_time": "2022-02-18T18:07:14.591848",
     "status": "completed"
    },
    "tags": []
   },
   "source": [
    "**USE embeddings**"
   ]
  },
  {
   "cell_type": "code",
   "execution_count": 9,
   "id": "4e19ffb1",
   "metadata": {
    "execution": {
     "iopub.execute_input": "2022-02-18T18:07:14.710056Z",
     "iopub.status.busy": "2022-02-18T18:07:14.709259Z",
     "iopub.status.idle": "2022-02-18T18:07:45.802873Z",
     "shell.execute_reply": "2022-02-18T18:07:45.803404Z"
    },
    "papermill": {
     "duration": 31.137334,
     "end_time": "2022-02-18T18:07:45.803627",
     "exception": false,
     "start_time": "2022-02-18T18:07:14.666293",
     "status": "completed"
    },
    "tags": []
   },
   "outputs": [
    {
     "name": "stdout",
     "output_type": "stream",
     "text": [
      "(138499, 512)\n"
     ]
    },
    {
     "data": {
      "text/plain": [
       "29"
      ]
     },
     "execution_count": 9,
     "metadata": {},
     "output_type": "execute_result"
    }
   ],
   "source": [
    "with open('../input/altegrad-use/USE_embedding.npy', 'rb') as f:\n",
    "    vecs = np.load(f)\n",
    "    print(vecs.shape)\n",
    "\n",
    "X_train_pos_USE = give_features_from_embedding(vecs, training_graph.edges())\n",
    "X_train_neg_USE = give_features_from_embedding(vecs, neg_G.edges())\n",
    "\n",
    "del vecs\n",
    "\n",
    "gc.collect()"
   ]
  },
  {
   "cell_type": "markdown",
   "id": "e8ba3f1b",
   "metadata": {
    "papermill": {
     "duration": 0.036271,
     "end_time": "2022-02-18T18:07:45.877025",
     "exception": false,
     "start_time": "2022-02-18T18:07:45.840754",
     "status": "completed"
    },
    "tags": []
   },
   "source": [
    "**docVec embeddings**"
   ]
  },
  {
   "cell_type": "code",
   "execution_count": 10,
   "id": "209c5aae",
   "metadata": {
    "execution": {
     "iopub.execute_input": "2022-02-18T18:07:45.956606Z",
     "iopub.status.busy": "2022-02-18T18:07:45.955888Z",
     "iopub.status.idle": "2022-02-18T18:08:20.827393Z",
     "shell.execute_reply": "2022-02-18T18:08:20.828014Z"
    },
    "papermill": {
     "duration": 34.914592,
     "end_time": "2022-02-18T18:08:20.828244",
     "exception": false,
     "start_time": "2022-02-18T18:07:45.913652",
     "status": "completed"
    },
    "tags": []
   },
   "outputs": [
    {
     "data": {
      "text/plain": [
       "45"
      ]
     },
     "execution_count": 10,
     "metadata": {},
     "output_type": "execute_result"
    }
   ],
   "source": [
    "docVec = gensim.models.doc2vec.Doc2Vec.load('../input/altegrad-gensim-draft/docVec.model')\n",
    "vecs = docVec.dv.get_normed_vectors()\n",
    "del docVec\n",
    "\n",
    "X_train_pos_docVec = give_features_from_embedding(vecs, training_graph.edges())\n",
    "X_train_neg_docVec = give_features_from_embedding(vecs, neg_G.edges())\n",
    "\n",
    "del vecs\n",
    "\n",
    "gc.collect()"
   ]
  },
  {
   "cell_type": "markdown",
   "id": "6ccf3071",
   "metadata": {
    "execution": {
     "iopub.execute_input": "2022-02-10T11:44:12.275614Z",
     "iopub.status.busy": "2022-02-10T11:44:12.275304Z",
     "iopub.status.idle": "2022-02-10T11:44:12.283389Z",
     "shell.execute_reply": "2022-02-10T11:44:12.281769Z",
     "shell.execute_reply.started": "2022-02-10T11:44:12.275582Z"
    },
    "papermill": {
     "duration": 0.03653,
     "end_time": "2022-02-18T18:08:20.901811",
     "exception": false,
     "start_time": "2022-02-18T18:08:20.865281",
     "status": "completed"
    },
    "tags": []
   },
   "source": [
    "**baseline**"
   ]
  },
  {
   "cell_type": "code",
   "execution_count": 11,
   "id": "e24356a6",
   "metadata": {
    "execution": {
     "iopub.execute_input": "2022-02-18T18:08:20.983265Z",
     "iopub.status.busy": "2022-02-18T18:08:20.982525Z",
     "iopub.status.idle": "2022-02-18T18:10:17.025942Z",
     "shell.execute_reply": "2022-02-18T18:10:17.026517Z"
    },
    "papermill": {
     "duration": 116.087808,
     "end_time": "2022-02-18T18:10:17.026772",
     "exception": false,
     "start_time": "2022-02-18T18:08:20.938964",
     "status": "completed"
    },
    "tags": []
   },
   "outputs": [
    {
     "data": {
      "text/plain": [
       "0"
      ]
     },
     "execution_count": 11,
     "metadata": {},
     "output_type": "execute_result"
    }
   ],
   "source": [
    "# Read the abstract of each paper\n",
    "abstracts = dict()\n",
    "with open(\"../input/citation-prediction-altegrad/abstracts.txt\", 'r') as f:\n",
    "    for line in f:\n",
    "        node, abstract = line.split('|--|')\n",
    "        abstracts[int(node)] = abstract\n",
    "\n",
    "# Map text to set of terms\n",
    "for node in abstracts:\n",
    "    abstracts[node] = set(gensim.utils.simple_preprocess(abstracts[node]))\n",
    "    \n",
    "X_train_pos_baseline = give_features_baseline(training_graph, training_graph.edges(), abstracts = abstracts)\n",
    "X_train_neg_baseline = give_features_baseline(training_graph, neg_G.edges(), abstracts = abstracts)\n",
    "\n",
    "del abstracts\n",
    "\n",
    "gc.collect()\n"
   ]
  },
  {
   "cell_type": "code",
   "execution_count": 12,
   "id": "def7e0d6",
   "metadata": {
    "execution": {
     "iopub.execute_input": "2022-02-18T18:10:17.113529Z",
     "iopub.status.busy": "2022-02-18T18:10:17.112376Z",
     "iopub.status.idle": "2022-02-18T18:11:58.367487Z",
     "shell.execute_reply": "2022-02-18T18:11:58.368128Z"
    },
    "papermill": {
     "duration": 101.303854,
     "end_time": "2022-02-18T18:11:58.368322",
     "exception": false,
     "start_time": "2022-02-18T18:10:17.064468",
     "status": "completed"
    },
    "tags": []
   },
   "outputs": [
    {
     "name": "stdout",
     "output_type": "stream",
     "text": [
      "previous author count 106201\n",
      "new author count 51487\n"
     ]
    },
    {
     "data": {
      "text/plain": [
       "0"
      ]
     },
     "execution_count": 12,
     "metadata": {},
     "output_type": "execute_result"
    }
   ],
   "source": [
    "authors_per_node = [] # for hot encoder\n",
    "author_dic = {} # attribute a number to all authors\n",
    "count_authors = 0\n",
    "nodes_per_author = {}\n",
    "\n",
    "with open(AUTHORS_LIST_PATH, 'r', errors = 'strict') as f:\n",
    "    for line in f:\n",
    "        #do stuff\n",
    "        node, authors = line.split('|--|')\n",
    "        \n",
    "        #process errors\n",
    "        authors = unidecode.unidecode(authors)\n",
    "\n",
    "        #', -'\n",
    "        authors_split = process_authors_split(authors)\n",
    "        authors_node = []\n",
    "\n",
    "        for author in authors_split:\n",
    "            if author not in author_dic:\n",
    "                author_dic[author] = count_authors\n",
    "                count_authors += 1\n",
    "            authors_node.append(author_dic[author])\n",
    "            \n",
    "            l = nodes_per_author.get(author_dic[author], [])\n",
    "            nodes_per_author[author_dic[author]] = l + [int(node)]\n",
    "            \n",
    "        authors_per_node.append(authors_node)\n",
    "\n",
    "print(\"previous author count\", count_authors)\n",
    "count_authors = 0\n",
    "new_author_dic = {}\n",
    "new_nodes_per_author = {}\n",
    "authors_per_node = [] # for hot encoder\n",
    "\n",
    "with open(AUTHORS_LIST_PATH, 'r', errors = 'strict') as f:\n",
    "    for line in f:\n",
    "        #do stuff\n",
    "        node, authors = line.split('|--|')\n",
    "        \n",
    "        #process errors\n",
    "        authors = unidecode.unidecode(authors)\n",
    "\n",
    "        #', -'\n",
    "        authors_split = process_authors_split(authors)\n",
    "        authors_node = []\n",
    "\n",
    "        for author in authors_split:\n",
    "            if len(nodes_per_author.get(author_dic[author], []))>1 or len(authors_split) == 1:\n",
    "                if author not in new_author_dic:\n",
    "                    new_author_dic[author] = count_authors\n",
    "                    count_authors += 1\n",
    "                authors_node.append(new_author_dic[author])\n",
    "                \n",
    "                l = new_nodes_per_author.get(new_author_dic[author], [])\n",
    "                new_nodes_per_author[new_author_dic[author]] = l + [int(node)]\n",
    "                        \n",
    "        authors_per_node.append(authors_node)\n",
    "        \n",
    "print(\"new author count\", count_authors)\n",
    "\n",
    "\n",
    "X_train_pos_authors = give_authors_features(authors_per_node,  training_graph.edges(), new_nodes_per_author)\n",
    "X_train_neg_authors = give_authors_features(authors_per_node,  neg_G.edges(), new_nodes_per_author)\n",
    "\n",
    "del authors_per_node, author_dic, new_nodes_per_author, new_author_dic\n",
    "\n",
    "gc.collect()"
   ]
  },
  {
   "cell_type": "markdown",
   "id": "19c23672",
   "metadata": {
    "papermill": {
     "duration": 0.03893,
     "end_time": "2022-02-18T18:11:58.446265",
     "exception": false,
     "start_time": "2022-02-18T18:11:58.407335",
     "status": "completed"
    },
    "tags": []
   },
   "source": [
    "**SAGE**"
   ]
  },
  {
   "cell_type": "code",
   "execution_count": 13,
   "id": "642ff413",
   "metadata": {
    "execution": {
     "iopub.execute_input": "2022-02-18T18:11:58.530286Z",
     "iopub.status.busy": "2022-02-18T18:11:58.529450Z",
     "iopub.status.idle": "2022-02-18T18:12:10.604915Z",
     "shell.execute_reply": "2022-02-18T18:12:10.604198Z",
     "shell.execute_reply.started": "2022-02-17T22:50:57.70481Z"
    },
    "papermill": {
     "duration": 12.119685,
     "end_time": "2022-02-18T18:12:10.605068",
     "exception": false,
     "start_time": "2022-02-18T18:11:58.485383",
     "status": "completed"
    },
    "tags": []
   },
   "outputs": [
    {
     "name": "stdout",
     "output_type": "stream",
     "text": [
      "(138499, 32)\n"
     ]
    },
    {
     "data": {
      "text/plain": [
       "29"
      ]
     },
     "execution_count": 13,
     "metadata": {},
     "output_type": "execute_result"
    }
   ],
   "source": [
    "#with open('../input/marine-sub/embeddingSAGE.npy', 'rb') as f:\n",
    "with open('../input/sage-alldata-same-ratio/embeddingSAGE.npy', 'rb') as f:\n",
    "\n",
    "    vecs = np.load(f)\n",
    "    print(vecs.shape)\n",
    "\n",
    "X_train_pos_SAGE = give_features_from_embedding(vecs, training_graph.edges())\n",
    "X_train_neg_SAGE = give_features_from_embedding(vecs, neg_G.edges())\n",
    "\n",
    "del vecs\n",
    "\n",
    "gc.collect()"
   ]
  },
  {
   "cell_type": "markdown",
   "id": "f7fba66e",
   "metadata": {
    "papermill": {
     "duration": 0.040387,
     "end_time": "2022-02-18T18:12:10.686707",
     "exception": false,
     "start_time": "2022-02-18T18:12:10.646320",
     "status": "completed"
    },
    "tags": []
   },
   "source": [
    "**similarity gx**"
   ]
  },
  {
   "cell_type": "code",
   "execution_count": 14,
   "id": "0a1f72cd",
   "metadata": {
    "execution": {
     "iopub.execute_input": "2022-02-18T18:12:10.787260Z",
     "iopub.status.busy": "2022-02-18T18:12:10.777042Z",
     "iopub.status.idle": "2022-02-18T18:35:14.238725Z",
     "shell.execute_reply": "2022-02-18T18:35:14.237678Z"
    },
    "papermill": {
     "duration": 1383.511362,
     "end_time": "2022-02-18T18:35:14.238885",
     "exception": false,
     "start_time": "2022-02-18T18:12:10.727523",
     "status": "completed"
    },
    "tags": []
   },
   "outputs": [],
   "source": [
    "X_train_pos_sim = give_features_from_list_pairs(training_graph, training_graph.edges())\n",
    "X_train_neg_sim = give_features_from_list_pairs(training_graph, neg_G.edges())"
   ]
  },
  {
   "cell_type": "markdown",
   "id": "c85db294",
   "metadata": {
    "papermill": {
     "duration": 0.039378,
     "end_time": "2022-02-18T18:35:14.318595",
     "exception": false,
     "start_time": "2022-02-18T18:35:14.279217",
     "status": "completed"
    },
    "tags": []
   },
   "source": [
    "**Validation with metrics**"
   ]
  },
  {
   "cell_type": "code",
   "execution_count": 15,
   "id": "c9825324",
   "metadata": {
    "execution": {
     "iopub.execute_input": "2022-02-18T18:35:14.464894Z",
     "iopub.status.busy": "2022-02-18T18:35:14.455899Z",
     "iopub.status.idle": "2022-02-18T18:35:15.010625Z",
     "shell.execute_reply": "2022-02-18T18:35:15.011226Z"
    },
    "papermill": {
     "duration": 0.65312,
     "end_time": "2022-02-18T18:35:15.011469",
     "exception": false,
     "start_time": "2022-02-18T18:35:14.358349",
     "status": "completed"
    },
    "tags": []
   },
   "outputs": [],
   "source": [
    "nb_x = training_graph.number_of_edges() + neg_G.number_of_edges()\n",
    "y_train = np.zeros(training_graph.number_of_edges() + neg_G.number_of_edges())\n",
    "y_train[:training_graph.number_of_edges()] = 1\n",
    "\n",
    "idx_shuffle = np.arange(nb_x)\n",
    "np.random.shuffle(idx_shuffle)\n",
    "y_train = y_train[idx_shuffle]"
   ]
  },
  {
   "cell_type": "code",
   "execution_count": 16,
   "id": "35485299",
   "metadata": {
    "execution": {
     "iopub.execute_input": "2022-02-18T18:35:15.100634Z",
     "iopub.status.busy": "2022-02-18T18:35:15.099049Z",
     "iopub.status.idle": "2022-02-18T18:35:15.118498Z",
     "shell.execute_reply": "2022-02-18T18:35:15.117852Z"
    },
    "papermill": {
     "duration": 0.066291,
     "end_time": "2022-02-18T18:35:15.118667",
     "exception": false,
     "start_time": "2022-02-18T18:35:15.052376",
     "status": "completed"
    },
    "tags": []
   },
   "outputs": [],
   "source": [
    "X_train = np.concatenate([X_train_pos_authors, X_train_neg_authors])\n"
   ]
  },
  {
   "cell_type": "code",
   "execution_count": 17,
   "id": "8e77aac4",
   "metadata": {
    "execution": {
     "iopub.execute_input": "2022-02-18T18:35:15.211091Z",
     "iopub.status.busy": "2022-02-18T18:35:15.209401Z",
     "iopub.status.idle": "2022-02-18T18:35:15.397744Z",
     "shell.execute_reply": "2022-02-18T18:35:15.397049Z"
    },
    "papermill": {
     "duration": 0.237893,
     "end_time": "2022-02-18T18:35:15.397897",
     "exception": false,
     "start_time": "2022-02-18T18:35:15.160004",
     "status": "completed"
    },
    "tags": []
   },
   "outputs": [],
   "source": [
    "X_train = np.c_[X_train,np.concatenate([X_train_pos_baseline, X_train_neg_baseline])]\n"
   ]
  },
  {
   "cell_type": "code",
   "execution_count": 18,
   "id": "7b5d155b",
   "metadata": {
    "execution": {
     "iopub.execute_input": "2022-02-18T18:35:15.484822Z",
     "iopub.status.busy": "2022-02-18T18:35:15.484138Z",
     "iopub.status.idle": "2022-02-18T18:35:15.667892Z",
     "shell.execute_reply": "2022-02-18T18:35:15.667259Z"
    },
    "papermill": {
     "duration": 0.22962,
     "end_time": "2022-02-18T18:35:15.668072",
     "exception": false,
     "start_time": "2022-02-18T18:35:15.438452",
     "status": "completed"
    },
    "tags": []
   },
   "outputs": [],
   "source": [
    "X_train = np.c_[X_train,np.concatenate([X_train_pos_USE, X_train_neg_USE])]\n"
   ]
  },
  {
   "cell_type": "code",
   "execution_count": 19,
   "id": "178f62ea",
   "metadata": {
    "execution": {
     "iopub.execute_input": "2022-02-18T18:35:15.755949Z",
     "iopub.status.busy": "2022-02-18T18:35:15.755147Z",
     "iopub.status.idle": "2022-02-18T18:35:15.975988Z",
     "shell.execute_reply": "2022-02-18T18:35:15.975382Z"
    },
    "papermill": {
     "duration": 0.267024,
     "end_time": "2022-02-18T18:35:15.976179",
     "exception": false,
     "start_time": "2022-02-18T18:35:15.709155",
     "status": "completed"
    },
    "tags": []
   },
   "outputs": [],
   "source": [
    "X_train = np.c_[X_train,np.concatenate([X_train_pos_docVec, X_train_neg_docVec])]\n"
   ]
  },
  {
   "cell_type": "code",
   "execution_count": 20,
   "id": "258dc6e4",
   "metadata": {
    "execution": {
     "iopub.execute_input": "2022-02-18T18:35:16.065423Z",
     "iopub.status.busy": "2022-02-18T18:35:16.063570Z",
     "iopub.status.idle": "2022-02-18T18:35:16.314341Z",
     "shell.execute_reply": "2022-02-18T18:35:16.313702Z"
    },
    "papermill": {
     "duration": 0.29696,
     "end_time": "2022-02-18T18:35:16.314496",
     "exception": false,
     "start_time": "2022-02-18T18:35:16.017536",
     "status": "completed"
    },
    "tags": []
   },
   "outputs": [],
   "source": [
    "X_train = np.c_[X_train,np.concatenate([X_train_pos_SAGE, X_train_neg_SAGE])]\n"
   ]
  },
  {
   "cell_type": "code",
   "execution_count": 21,
   "id": "7d6997de",
   "metadata": {
    "execution": {
     "iopub.execute_input": "2022-02-18T18:35:16.401193Z",
     "iopub.status.busy": "2022-02-18T18:35:16.400143Z",
     "iopub.status.idle": "2022-02-18T18:35:36.549788Z",
     "shell.execute_reply": "2022-02-18T18:35:36.549046Z"
    },
    "papermill": {
     "duration": 20.194524,
     "end_time": "2022-02-18T18:35:36.549958",
     "exception": false,
     "start_time": "2022-02-18T18:35:16.355434",
     "status": "completed"
    },
    "tags": []
   },
   "outputs": [
    {
     "name": "stderr",
     "output_type": "stream",
     "text": [
      "/opt/conda/lib/python3.7/site-packages/xgboost/sklearn.py:1224: UserWarning: The use of label encoder in XGBClassifier is deprecated and will be removed in a future release. To remove this warning, do the following: 1) Pass option use_label_encoder=False when constructing XGBClassifier object; and 2) Encode your labels (y) as integers starting with 0, i.e. 0, 1, 2, ..., [num_class - 1].\n",
      "  warnings.warn(label_encoder_deprecation_msg, UserWarning)\n"
     ]
    },
    {
     "name": "stdout",
     "output_type": "stream",
     "text": [
      "[18:35:22] WARNING: ../src/learner.cc:1115: Starting in XGBoost 1.3.0, the default evaluation metric used with the objective 'binary:logistic' was changed from 'error' to 'logloss'. Explicitly set eval_metric if you'd like to restore the old behavior.\n"
     ]
    },
    {
     "data": {
      "text/plain": [
       "XGBClassifier(base_score=0.5, booster='gbtree', colsample_bylevel=1,\n",
       "              colsample_bynode=1, colsample_bytree=0.7,\n",
       "              enable_categorical=False, gamma=0, gpu_id=0,\n",
       "              importance_type='weight', interaction_constraints='',\n",
       "              learning_rate=0.300000012, max_delta_step=0, max_depth=4,\n",
       "              min_child_weight=1, missing=nan, monotone_constraints='()',\n",
       "              n_estimators=1500, n_jobs=2, num_parallel_tree=1,\n",
       "              predictor='auto', random_state=0, reg_alpha=0, reg_lambda=1,\n",
       "              scale_pos_weight=1, subsample=0.4, tree_method='gpu_hist',\n",
       "              validate_parameters=1, verbosity=None)"
      ]
     },
     "execution_count": 21,
     "metadata": {},
     "output_type": "execute_result"
    }
   ],
   "source": [
    "X_train = np.c_[X_train,np.concatenate([X_train_pos_sim, X_train_neg_sim])]\n",
    "\n",
    "\n",
    "clf = xgb.XGBClassifier(n_estimators = 1500, max_depth = 4, subsample = 0.4, colsample_bytree = 0.7,  tree_method = 'gpu_hist',\n",
    "                       importance_type = \"weight\")\n",
    "clf.fit(X_train[idx_shuffle,:], y_train)\n",
    "\n"
   ]
  },
  {
   "cell_type": "code",
   "execution_count": 22,
   "id": "a9f9fa11",
   "metadata": {
    "execution": {
     "iopub.execute_input": "2022-02-18T18:35:36.643012Z",
     "iopub.status.busy": "2022-02-18T18:35:36.641892Z",
     "iopub.status.idle": "2022-02-18T18:35:37.231705Z",
     "shell.execute_reply": "2022-02-18T18:35:37.232240Z"
    },
    "papermill": {
     "duration": 0.639839,
     "end_time": "2022-02-18T18:35:37.232463",
     "exception": false,
     "start_time": "2022-02-18T18:35:36.592624",
     "status": "completed"
    },
    "tags": []
   },
   "outputs": [
    {
     "data": {
      "text/plain": [
       "<AxesSubplot:title={'center':'Feature importance'}, xlabel='F score', ylabel='Features'>"
      ]
     },
     "execution_count": 22,
     "metadata": {},
     "output_type": "execute_result"
    },
    {
     "data": {
      "image/png": "[encoded data removed]",
      "text/plain": [
       "<Figure size 432x288 with 1 Axes>"
      ]
     },
     "metadata": {
      "needs_background": "light"
     },
     "output_type": "display_data"
    }
   ],
   "source": [
    "plot_importance(clf, importance_type =  'weight')"
   ]
  },
  {
   "cell_type": "code",
   "execution_count": 23,
   "id": "0d910ee5",
   "metadata": {
    "execution": {
     "iopub.execute_input": "2022-02-18T18:35:37.327847Z",
     "iopub.status.busy": "2022-02-18T18:35:37.326777Z",
     "iopub.status.idle": "2022-02-18T18:35:37.916528Z",
     "shell.execute_reply": "2022-02-18T18:35:37.917095Z"
    },
    "papermill": {
     "duration": 0.641057,
     "end_time": "2022-02-18T18:35:37.917272",
     "exception": false,
     "start_time": "2022-02-18T18:35:37.276215",
     "status": "completed"
    },
    "tags": []
   },
   "outputs": [
    {
     "data": {
      "text/plain": [
       "<AxesSubplot:title={'center':'Feature importance'}, xlabel='F score', ylabel='Features'>"
      ]
     },
     "execution_count": 23,
     "metadata": {},
     "output_type": "execute_result"
    },
    {
     "data": {
      "image/png": "[encoded data removed]",
      "text/plain": [
       "<Figure size 432x288 with 1 Axes>"
      ]
     },
     "metadata": {
      "needs_background": "light"
     },
     "output_type": "display_data"
    }
   ],
   "source": [
    "plot_importance(clf, importance_type =  'gain')"
   ]
  },
  {
   "cell_type": "code",
   "execution_count": 24,
   "id": "35ed3fda",
   "metadata": {
    "execution": {
     "iopub.execute_input": "2022-02-18T18:35:38.013836Z",
     "iopub.status.busy": "2022-02-18T18:35:38.012781Z",
     "iopub.status.idle": "2022-02-18T18:35:38.620824Z",
     "shell.execute_reply": "2022-02-18T18:35:38.621368Z"
    },
    "papermill": {
     "duration": 0.65911,
     "end_time": "2022-02-18T18:35:38.621565",
     "exception": false,
     "start_time": "2022-02-18T18:35:37.962455",
     "status": "completed"
    },
    "tags": []
   },
   "outputs": [
    {
     "data": {
      "text/plain": [
       "<AxesSubplot:title={'center':'Feature importance'}, xlabel='F score', ylabel='Features'>"
      ]
     },
     "execution_count": 24,
     "metadata": {},
     "output_type": "execute_result"
    },
    {
     "data": {
      "image/png": "[encoded data removed]",
      "text/plain": [
       "<Figure size 432x288 with 1 Axes>"
      ]
     },
     "metadata": {
      "needs_background": "light"
     },
     "output_type": "display_data"
    }
   ],
   "source": [
    "plot_importance(clf, importance_type =  'cover')"
   ]
  },
  {
   "cell_type": "code",
   "execution_count": 25,
   "id": "25e0bd83",
   "metadata": {
    "execution": {
     "iopub.execute_input": "2022-02-18T18:35:38.725829Z",
     "iopub.status.busy": "2022-02-18T18:35:38.724729Z",
     "iopub.status.idle": "2022-02-18T18:35:38.728172Z",
     "shell.execute_reply": "2022-02-18T18:35:38.727484Z"
    },
    "papermill": {
     "duration": 0.058828,
     "end_time": "2022-02-18T18:35:38.728363",
     "exception": false,
     "start_time": "2022-02-18T18:35:38.669535",
     "status": "completed"
    },
    "tags": []
   },
   "outputs": [],
   "source": [
    "\n",
    "\n",
    "use_feat = [\"l2_USE\", \"l1_USE\", \"sim_USE\"]\n",
    "docvec_feat = [\"l2_doc2vec\", \"l1_doc2vec\", \"sim_doc2vec\"]\n",
    "sage_feat = [\"l2_sage\", \"l1_sage\", \"sim_sage\"]\n",
    "base_feat = [\"sum_deg\", 'diff_deg', \"len_abs1\", \"len_abs2\", \"len_abs_inters\"]\n",
    "sim_feat = [\"adamic_adar\", 'ress_alloc', \"jacc_coeff\"]\n",
    "authors_feat = [\"nb_common_auth\", \"weighted_common\", \"nb_auth1\", \"nb_auth2\", \"popularity_auth1\", \"popularity_auth2\"]\n",
    "\n",
    "\n",
    "feature_names = authors_feat + base_feat + use_feat + docvec_feat + sage_feat + sim_feat\n",
    "feature_names = np.array(feature_names)"
   ]
  },
  {
   "cell_type": "code",
   "execution_count": 26,
   "id": "130a4d0c",
   "metadata": {
    "execution": {
     "iopub.execute_input": "2022-02-18T18:35:38.832745Z",
     "iopub.status.busy": "2022-02-18T18:35:38.831690Z",
     "iopub.status.idle": "2022-02-18T18:35:39.636892Z",
     "shell.execute_reply": "2022-02-18T18:35:39.637452Z"
    },
    "papermill": {
     "duration": 0.859687,
     "end_time": "2022-02-18T18:35:39.637657",
     "exception": false,
     "start_time": "2022-02-18T18:35:38.777970",
     "status": "completed"
    },
    "tags": []
   },
   "outputs": [
    {
     "data": {
      "image/png": "[encoded data removed]",
      "text/plain": [
       "<Figure size 2160x720 with 1 Axes>"
      ]
     },
     "metadata": {
      "needs_background": "light"
     },
     "output_type": "display_data"
    },
    {
     "data": {
      "image/png": "[encoded data removed]",
      "text/plain": [
       "<Figure size 2160x720 with 1 Axes>"
      ]
     },
     "metadata": {
      "needs_background": "light"
     },
     "output_type": "display_data"
    }
   ],
   "source": [
    "from matplotlib import pyplot as plt\n",
    "\n",
    "plt.rcParams[\"figure.figsize\"] = (30,10)\n",
    "plt.barh(feature_names, clf.feature_importances_)\n",
    "plt.show()\n",
    "sorted_idx = clf.feature_importances_.argsort()[::-1]\n",
    "plt.barh(feature_names[sorted_idx], clf.feature_importances_[sorted_idx])\n",
    "plt.xlabel(\"Xgboost Feature Importance\")\n",
    "plt.show()\n"
   ]
  },
  {
   "cell_type": "markdown",
   "id": "d74375a8",
   "metadata": {
    "papermill": {
     "duration": 0.048701,
     "end_time": "2022-02-18T18:35:39.735974",
     "exception": false,
     "start_time": "2022-02-18T18:35:39.687273",
     "status": "completed"
    },
    "tags": []
   },
   "source": [
    "# submit"
   ]
  },
  {
   "cell_type": "code",
   "execution_count": 27,
   "id": "3e9c2702",
   "metadata": {
    "execution": {
     "iopub.execute_input": "2022-02-18T18:35:39.840651Z",
     "iopub.status.busy": "2022-02-18T18:35:39.839804Z",
     "iopub.status.idle": "2022-02-18T18:35:39.992918Z",
     "shell.execute_reply": "2022-02-18T18:35:39.993415Z"
    },
    "papermill": {
     "duration": 0.207963,
     "end_time": "2022-02-18T18:35:39.993640",
     "exception": false,
     "start_time": "2022-02-18T18:35:39.785677",
     "status": "completed"
    },
    "tags": []
   },
   "outputs": [],
   "source": [
    "# Read test data. Each sample is a pair of nodes\n",
    "node_pairs = list()\n",
    "with open('../input/citation-prediction-altegrad/test.txt', 'r') as f:\n",
    "    for line in f:\n",
    "        t = line.split(',')\n",
    "        node_pairs.append((int(t[0]), int(t[1])))"
   ]
  },
  {
   "cell_type": "code",
   "execution_count": 28,
   "id": "749707d9",
   "metadata": {
    "execution": {
     "iopub.execute_input": "2022-02-18T18:35:40.097747Z",
     "iopub.status.busy": "2022-02-18T18:35:40.096909Z",
     "iopub.status.idle": "2022-02-18T18:35:42.146828Z",
     "shell.execute_reply": "2022-02-18T18:35:42.146167Z"
    },
    "papermill": {
     "duration": 2.103881,
     "end_time": "2022-02-18T18:35:42.147030",
     "exception": false,
     "start_time": "2022-02-18T18:35:40.043149",
     "status": "completed"
    },
    "tags": []
   },
   "outputs": [
    {
     "name": "stdout",
     "output_type": "stream",
     "text": [
      "(138499, 512)\n"
     ]
    },
    {
     "data": {
      "text/plain": [
       "11181"
      ]
     },
     "execution_count": 28,
     "metadata": {},
     "output_type": "execute_result"
    }
   ],
   "source": [
    "with open('../input/altegrad-use/USE_embedding.npy', 'rb') as f:\n",
    "    vecs = np.load(f)\n",
    "    print(vecs.shape)\n",
    "\n",
    "X_valid_USE = give_features_from_embedding(vecs, node_pairs)\n",
    "\n",
    "del vecs\n",
    "\n",
    "gc.collect()"
   ]
  },
  {
   "cell_type": "code",
   "execution_count": 29,
   "id": "0b90c857",
   "metadata": {
    "execution": {
     "iopub.execute_input": "2022-02-18T18:35:42.254165Z",
     "iopub.status.busy": "2022-02-18T18:35:42.253400Z",
     "iopub.status.idle": "2022-02-18T18:35:45.715814Z",
     "shell.execute_reply": "2022-02-18T18:35:45.716968Z"
    },
    "papermill": {
     "duration": 3.519186,
     "end_time": "2022-02-18T18:35:45.717291",
     "exception": false,
     "start_time": "2022-02-18T18:35:42.198105",
     "status": "completed"
    },
    "tags": []
   },
   "outputs": [
    {
     "data": {
      "text/plain": [
       "45"
      ]
     },
     "execution_count": 29,
     "metadata": {},
     "output_type": "execute_result"
    }
   ],
   "source": [
    "docVec = gensim.models.doc2vec.Doc2Vec.load('../input/altegrad-gensim-draft/docVec.model')\n",
    "vecs = docVec.dv.get_normed_vectors()\n",
    "del docVec\n",
    "\n",
    "X_valid_docVec = give_features_from_embedding(vecs, node_pairs)\n",
    "\n",
    "del vecs\n",
    "\n",
    "gc.collect()"
   ]
  },
  {
   "cell_type": "code",
   "execution_count": 30,
   "id": "ede294b1",
   "metadata": {
    "execution": {
     "iopub.execute_input": "2022-02-18T18:35:45.899995Z",
     "iopub.status.busy": "2022-02-18T18:35:45.898613Z",
     "iopub.status.idle": "2022-02-18T18:35:47.464202Z",
     "shell.execute_reply": "2022-02-18T18:35:47.464990Z"
    },
    "papermill": {
     "duration": 1.660477,
     "end_time": "2022-02-18T18:35:47.465187",
     "exception": false,
     "start_time": "2022-02-18T18:35:45.804710",
     "status": "completed"
    },
    "tags": []
   },
   "outputs": [
    {
     "name": "stdout",
     "output_type": "stream",
     "text": [
      "(138499, 16)\n"
     ]
    },
    {
     "data": {
      "text/plain": [
       "29"
      ]
     },
     "execution_count": 30,
     "metadata": {},
     "output_type": "execute_result"
    }
   ],
   "source": [
    "#with open('../input/marine-sub/embeddingSAGE.npy', 'rb') as f:\n",
    "with open('../input/sage-v2/embeddingSAGE.npy', 'rb') as f:\n",
    "    vecs = np.load(f)\n",
    "    print(vecs.shape)\n",
    "\n",
    "\n",
    "X_valid_SAGE = give_features_from_embedding(vecs, node_pairs)\n",
    "\n",
    "del vecs\n",
    "\n",
    "gc.collect()"
   ]
  },
  {
   "cell_type": "code",
   "execution_count": 31,
   "id": "77e20e8d",
   "metadata": {
    "execution": {
     "iopub.execute_input": "2022-02-18T18:35:47.581816Z",
     "iopub.status.busy": "2022-02-18T18:35:47.580734Z",
     "iopub.status.idle": "2022-02-18T18:36:03.345009Z",
     "shell.execute_reply": "2022-02-18T18:36:03.345511Z"
    },
    "papermill": {
     "duration": 15.826767,
     "end_time": "2022-02-18T18:36:03.345736",
     "exception": false,
     "start_time": "2022-02-18T18:35:47.518969",
     "status": "completed"
    },
    "tags": []
   },
   "outputs": [
    {
     "name": "stdout",
     "output_type": "stream",
     "text": [
      "previous author count 106201\n",
      "new author count 51487\n"
     ]
    },
    {
     "data": {
      "text/plain": [
       "0"
      ]
     },
     "execution_count": 31,
     "metadata": {},
     "output_type": "execute_result"
    }
   ],
   "source": [
    "authors_per_node = [] # for hot encoder\n",
    "author_dic = {} # attribute a number to all authors\n",
    "count_authors = 0\n",
    "nodes_per_author = {}\n",
    "\n",
    "with open(AUTHORS_LIST_PATH, 'r', errors = 'strict') as f:\n",
    "    for line in f:\n",
    "        #do stuff\n",
    "        node, authors = line.split('|--|')\n",
    "        \n",
    "        #process errors\n",
    "        authors = unidecode.unidecode(authors)\n",
    "\n",
    "        #', -'\n",
    "        authors_split = process_authors_split(authors)\n",
    "        authors_node = []\n",
    "\n",
    "        for author in authors_split:\n",
    "            if author not in author_dic:\n",
    "                author_dic[author] = count_authors\n",
    "                count_authors += 1\n",
    "            authors_node.append(author_dic[author])\n",
    "            \n",
    "            l = nodes_per_author.get(author_dic[author], [])\n",
    "            nodes_per_author[author_dic[author]] = l + [int(node)]\n",
    "            \n",
    "        authors_per_node.append(authors_node)\n",
    "\n",
    "print(\"previous author count\", count_authors)\n",
    "count_authors = 0\n",
    "new_author_dic = {}\n",
    "new_nodes_per_author = {}\n",
    "authors_per_node = [] # for hot encoder\n",
    "\n",
    "with open(AUTHORS_LIST_PATH, 'r', errors = 'strict') as f:\n",
    "    for line in f:\n",
    "        #do stuff\n",
    "        node, authors = line.split('|--|')\n",
    "        \n",
    "        #process errors\n",
    "        authors = unidecode.unidecode(authors)\n",
    "\n",
    "        #', -'\n",
    "        authors_split = process_authors_split(authors)\n",
    "        authors_node = []\n",
    "\n",
    "        for author in authors_split:\n",
    "            if len(nodes_per_author.get(author_dic[author], []))>1 or len(authors_split) == 1:\n",
    "                if author not in new_author_dic:\n",
    "                    new_author_dic[author] = count_authors\n",
    "                    count_authors += 1\n",
    "                authors_node.append(new_author_dic[author])\n",
    "                \n",
    "                l = new_nodes_per_author.get(new_author_dic[author], [])\n",
    "                new_nodes_per_author[new_author_dic[author]] = l + [int(node)]\n",
    "                        \n",
    "        authors_per_node.append(authors_node)\n",
    "        \n",
    "print(\"new author count\", count_authors)\n",
    "\n",
    "X_valid_authors = give_authors_features(authors_per_node,  node_pairs, new_nodes_per_author)\n",
    "\n",
    "del authors_per_node, author_dic, new_nodes_per_author, new_author_dic\n",
    "\n",
    "gc.collect()"
   ]
  },
  {
   "cell_type": "code",
   "execution_count": 32,
   "id": "c3ec2b06",
   "metadata": {
    "execution": {
     "iopub.execute_input": "2022-02-18T18:36:03.456155Z",
     "iopub.status.busy": "2022-02-18T18:36:03.455129Z",
     "iopub.status.idle": "2022-02-18T18:37:01.178611Z",
     "shell.execute_reply": "2022-02-18T18:37:01.179154Z"
    },
    "papermill": {
     "duration": 57.7806,
     "end_time": "2022-02-18T18:37:01.179343",
     "exception": false,
     "start_time": "2022-02-18T18:36:03.398743",
     "status": "completed"
    },
    "tags": []
   },
   "outputs": [
    {
     "data": {
      "text/plain": [
       "0"
      ]
     },
     "execution_count": 32,
     "metadata": {},
     "output_type": "execute_result"
    }
   ],
   "source": [
    "# Read the abstract of each paper\n",
    "abstracts = dict()\n",
    "with open(\"../input/citation-prediction-altegrad/abstracts.txt\", 'r') as f:\n",
    "    for line in f:\n",
    "        node, abstract = line.split('|--|')\n",
    "        abstracts[int(node)] = abstract\n",
    "\n",
    "# Map text to set of terms\n",
    "for node in abstracts:\n",
    "    abstracts[node] = set(gensim.utils.simple_preprocess(abstracts[node]))\n",
    "    \n",
    "X_valid_baseline = give_features_baseline(training_graph, node_pairs, abstracts = abstracts)\n",
    "\n",
    "del abstracts\n",
    "\n",
    "gc.collect()\n"
   ]
  },
  {
   "cell_type": "code",
   "execution_count": 33,
   "id": "cbb08629",
   "metadata": {
    "execution": {
     "iopub.execute_input": "2022-02-18T18:37:01.323258Z",
     "iopub.status.busy": "2022-02-18T18:37:01.313205Z",
     "iopub.status.idle": "2022-02-18T18:38:12.468850Z",
     "shell.execute_reply": "2022-02-18T18:38:12.468228Z"
    },
    "papermill": {
     "duration": 71.22825,
     "end_time": "2022-02-18T18:38:12.469020",
     "exception": false,
     "start_time": "2022-02-18T18:37:01.240770",
     "status": "completed"
    },
    "tags": []
   },
   "outputs": [],
   "source": [
    "X_valid_sim = give_features_from_list_pairs(training_graph, node_pairs)"
   ]
  },
  {
   "cell_type": "code",
   "execution_count": 34,
   "id": "5723920d",
   "metadata": {
    "execution": {
     "iopub.execute_input": "2022-02-18T18:38:12.583093Z",
     "iopub.status.busy": "2022-02-18T18:38:12.582053Z",
     "iopub.status.idle": "2022-02-18T18:38:12.604175Z",
     "shell.execute_reply": "2022-02-18T18:38:12.604802Z"
    },
    "papermill": {
     "duration": 0.081771,
     "end_time": "2022-02-18T18:38:12.604981",
     "exception": false,
     "start_time": "2022-02-18T18:38:12.523210",
     "status": "completed"
    },
    "tags": []
   },
   "outputs": [
    {
     "name": "stdout",
     "output_type": "stream",
     "text": [
      "(106692, 23)\n"
     ]
    }
   ],
   "source": [
    "X_valid = np.c_[X_valid_authors, X_valid_baseline, X_valid_USE, X_valid_docVec, X_valid_SAGE, X_valid_sim]\n",
    "print(X_valid.shape)"
   ]
  },
  {
   "cell_type": "code",
   "execution_count": 35,
   "id": "fd071034",
   "metadata": {
    "execution": {
     "iopub.execute_input": "2022-02-18T18:38:12.721730Z",
     "iopub.status.busy": "2022-02-18T18:38:12.720732Z",
     "iopub.status.idle": "2022-02-18T18:38:17.476596Z",
     "shell.execute_reply": "2022-02-18T18:38:17.477972Z"
    },
    "papermill": {
     "duration": 4.818939,
     "end_time": "2022-02-18T18:38:17.478258",
     "exception": false,
     "start_time": "2022-02-18T18:38:12.659319",
     "status": "completed"
    },
    "tags": []
   },
   "outputs": [
    {
     "name": "stdout",
     "output_type": "stream",
     "text": [
      "(106692, 2) [[0.02414918 0.9758508 ]\n",
      " [0.9592732  0.04072678]\n",
      " [0.21129203 0.788708  ]\n",
      " [0.02728033 0.97271967]\n",
      " [0.95359284 0.04640716]] [1. 0. 1. 1. 0.]\n"
     ]
    }
   ],
   "source": [
    "y_pred = clf.predict_proba(X_valid)\n",
    "print(y_pred.shape, y_pred[:5], clf.predict(X_valid)[:5])\n",
    "y_pred = y_pred[:,1]\n",
    "\n",
    "# Write predictions to a file\n",
    "predictions = zip(range(len(y_pred)), y_pred)\n",
    "with open(\"submission.csv\",\"w\") as pred:\n",
    "    csv_out = csv.writer(pred)\n",
    "    csv_out.writerow(['id','predicted'])\n",
    "    for row in predictions:\n",
    "        csv_out.writerow(row) "
   ]
  },
  {
   "cell_type": "code",
   "execution_count": null,
   "id": "fb9263ba",
   "metadata": {
    "papermill": {
     "duration": 0.089919,
     "end_time": "2022-02-18T18:38:17.658813",
     "exception": false,
     "start_time": "2022-02-18T18:38:17.568894",
     "status": "completed"
    },
    "tags": []
   },
   "outputs": [],
   "source": []
  },
  {
   "cell_type": "code",
   "execution_count": null,
   "id": "19531b33",
   "metadata": {
    "papermill": {
     "duration": 0.090542,
     "end_time": "2022-02-18T18:38:17.839643",
     "exception": false,
     "start_time": "2022-02-18T18:38:17.749101",
     "status": "completed"
    },
    "tags": []
   },
   "outputs": [],
   "source": []
  }
 ],
 "metadata": {
  "kernelspec": {
   "display_name": "Python 3",
   "language": "python",
   "name": "python3"
  },
  "language_info": {
   "codemirror_mode": {
    "name": "ipython",
    "version": 3
   },
   "file_extension": ".py",
   "mimetype": "text/x-python",
   "name": "python",
   "nbconvert_exporter": "python",
   "pygments_lexer": "ipython3",
   "version": "3.7.12"
  },
  "papermill": {
   "default_parameters": {},
   "duration": 1903.361037,
   "end_time": "2022-02-18T18:38:20.645833",
   "environment_variables": {},
   "exception": null,
   "input_path": "__notebook__.ipynb",
   "output_path": "__notebook__.ipynb",
   "parameters": {},
   "start_time": "2022-02-18T18:06:37.284796",
   "version": "2.3.3"
  }
 },
 "nbformat": 4,
 "nbformat_minor": 5
}
