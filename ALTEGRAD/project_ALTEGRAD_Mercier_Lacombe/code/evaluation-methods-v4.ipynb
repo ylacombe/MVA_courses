{
 "cells": [
  {
   "cell_type": "code",
   "execution_count": 1,
   "id": "a4d4afd3",
   "metadata": {
    "_cell_guid": "b1076dfc-b9ad-4769-8c92-a6c4dae69d19",
    "_uuid": "8f2839f25d086af736a60e9eeb907d3b93b6e0e5",
    "execution": {
     "iopub.execute_input": "2022-02-14T18:41:20.109180Z",
     "iopub.status.busy": "2022-02-14T18:41:20.108535Z",
     "iopub.status.idle": "2022-02-14T18:41:21.292771Z",
     "shell.execute_reply": "2022-02-14T18:41:21.293281Z",
     "shell.execute_reply.started": "2022-02-14T16:17:04.729642Z"
    },
    "papermill": {
     "duration": 1.23305,
     "end_time": "2022-02-14T18:41:21.293561",
     "exception": false,
     "start_time": "2022-02-14T18:41:20.060511",
     "status": "completed"
    },
    "tags": []
   },
   "outputs": [],
   "source": [
    "import csv\n",
    "import networkx as nx\n",
    "import numpy as np\n",
    "from random import randint\n",
    "import random\n",
    "import csv\n",
    "import networkx as nx\n",
    "import numpy as np\n",
    "from random import randint\n",
    "from sklearn.linear_model import LogisticRegression\n",
    "from xgboost import plot_importance\n",
    "\n",
    "\n",
    "EDGE_LIST_PATH = '../input/citation-prediction-altegrad/edgelist.txt'"
   ]
  },
  {
   "cell_type": "code",
   "execution_count": 2,
   "id": "c0dd25ea",
   "metadata": {
    "execution": {
     "iopub.execute_input": "2022-02-14T18:41:21.351259Z",
     "iopub.status.busy": "2022-02-14T18:41:21.350589Z",
     "iopub.status.idle": "2022-02-14T18:41:21.494383Z",
     "shell.execute_reply": "2022-02-14T18:41:21.493927Z",
     "shell.execute_reply.started": "2022-02-14T16:17:05.913527Z"
    },
    "papermill": {
     "duration": 0.176055,
     "end_time": "2022-02-14T18:41:21.494510",
     "exception": false,
     "start_time": "2022-02-14T18:41:21.318455",
     "status": "completed"
    },
    "tags": []
   },
   "outputs": [],
   "source": [
    "from sklearn.metrics import plot_confusion_matrix, log_loss, accuracy_score, roc_auc_score\n",
    "import matplotlib.pyplot as plt\n",
    "import xgboost as xgb\n",
    "import pandas as pd\n",
    "import smart_open\n",
    "import gensim\n",
    "\n",
    "def read_corpus(fname, tokens_only=False):\n",
    "    with smart_open.open(fname, encoding=\"iso-8859-1\") as f:\n",
    "        for i, line in enumerate(f):\n",
    "            tokens = gensim.utils.simple_preprocess(line)\n",
    "            if tokens_only:\n",
    "                yield tokens\n",
    "            else:\n",
    "                # For training data, add tags\n",
    "                yield gensim.models.doc2vec.TaggedDocument(tokens, [i])\n",
    "\n",
    "def other_metrics(graph, edges):\n",
    "    similarity_dice = graph.similarity_dice(pairs = edges)\n",
    "    similarity_jaccard = graph.similarity_jaccard(pairs = edges)\n",
    "    return similarity_dice, similarity_jaccard\n",
    "\n",
    "def evaluate_estimator(clf, X_test, y_test):\n",
    "    plot_confusion_matrix(clf, X_test, y_test)\n",
    "    plt.show()\n",
    "    y_pred = clf.predict_proba(X_test)[:, 1]\n",
    "    print(\"accuracy\",accuracy_score(y_test, (y_pred>0.5)))\n",
    "    print(\"log_loss\", log_loss(y_test, y_pred, eps=1e-7))\n",
    "    print(\"auc\", roc_auc_score(y_test, y_pred))\n",
    "    plt.hist(y_pred)\n",
    "    plt.show()\n",
    "    "
   ]
  },
  {
   "cell_type": "markdown",
   "id": "f2dffad6",
   "metadata": {
    "papermill": {
     "duration": 0.022231,
     "end_time": "2022-02-14T18:41:21.539393",
     "exception": false,
     "start_time": "2022-02-14T18:41:21.517162",
     "status": "completed"
    },
    "tags": []
   },
   "source": [
    "**Load graph**"
   ]
  },
  {
   "cell_type": "code",
   "execution_count": 3,
   "id": "bf1238b9",
   "metadata": {
    "execution": {
     "iopub.execute_input": "2022-02-14T18:41:21.590310Z",
     "iopub.status.busy": "2022-02-14T18:41:21.589646Z",
     "iopub.status.idle": "2022-02-14T18:41:27.357465Z",
     "shell.execute_reply": "2022-02-14T18:41:27.358060Z",
     "shell.execute_reply.started": "2022-02-14T16:17:06.131156Z"
    },
    "papermill": {
     "duration": 5.795831,
     "end_time": "2022-02-14T18:41:27.358261",
     "exception": false,
     "start_time": "2022-02-14T18:41:21.562430",
     "status": "completed"
    },
    "tags": []
   },
   "outputs": [
    {
     "name": "stdout",
     "output_type": "stream",
     "text": [
      "Number of nodes: 138499\n",
      "Number of edges: 1091955\n"
     ]
    }
   ],
   "source": [
    "# Create a graph\n",
    "G = nx.read_edgelist(EDGE_LIST_PATH, delimiter=',', create_using=nx.Graph(), nodetype=int)\n",
    "nodes = list(G.nodes())\n",
    "n = G.number_of_nodes()\n",
    "m = G.number_of_edges()\n",
    "print('Number of nodes:', n)\n",
    "print('Number of edges:', m)"
   ]
  },
  {
   "cell_type": "markdown",
   "id": "b945696c",
   "metadata": {
    "papermill": {
     "duration": 0.022883,
     "end_time": "2022-02-14T18:41:27.405511",
     "exception": false,
     "start_time": "2022-02-14T18:41:27.382628",
     "status": "completed"
    },
    "tags": []
   },
   "source": [
    "**negative edges**: random sampling of pair of nodes"
   ]
  },
  {
   "cell_type": "code",
   "execution_count": 4,
   "id": "03168e59",
   "metadata": {
    "execution": {
     "iopub.execute_input": "2022-02-14T18:41:27.463366Z",
     "iopub.status.busy": "2022-02-14T18:41:27.458956Z",
     "iopub.status.idle": "2022-02-14T18:41:27.465731Z",
     "shell.execute_reply": "2022-02-14T18:41:27.465314Z",
     "shell.execute_reply.started": "2022-02-14T16:17:12.501407Z"
    },
    "papermill": {
     "duration": 0.037667,
     "end_time": "2022-02-14T18:41:27.465861",
     "exception": false,
     "start_time": "2022-02-14T18:41:27.428194",
     "status": "completed"
    },
    "tags": []
   },
   "outputs": [],
   "source": [
    "def generate_negative_edges(G, m):\n",
    "    #f = open(\"/content/drive/negative_edgelist.txt\", \"w\")\n",
    "    f = open(\"./negative_edgelist.txt\", \"w\")\n",
    "    my_set = set()\n",
    "    edges = set(G.edges())\n",
    "    for i in range(m):\n",
    "        n1 = nodes[randint(0, n-1)]\n",
    "        n2 = nodes[randint(0, n-1)]\n",
    "        while ((n1,n2) in my_set or (n2,n1) in my_set) or ((n1,n2) in edges or (n2,n1) in edges):\n",
    "            n2 = nodes[randint(0, n-1)]\n",
    "        my_set.add((n1,n2))\n",
    "        f.write(str(n1) +',' +str(n2)+'\\n')\n",
    "    f.close() \n",
    "    verif = sum(1 for line in open('negative_edgelist.txt'))\n",
    "    if m != len(my_set) or m != verif:\n",
    "        print(\"Attention, mauvais nombre de negative edges\")\n",
    "        print(m, len(my_set), verif)\n",
    "    f.close()\n",
    "    del my_set\n",
    "\n",
    "#generate_negative_edges(G, m=2*G.number_of_edges())"
   ]
  },
  {
   "cell_type": "code",
   "execution_count": 5,
   "id": "3114a08e",
   "metadata": {
    "execution": {
     "iopub.execute_input": "2022-02-14T18:41:27.515284Z",
     "iopub.status.busy": "2022-02-14T18:41:27.514565Z",
     "iopub.status.idle": "2022-02-14T18:41:27.516884Z",
     "shell.execute_reply": "2022-02-14T18:41:27.516355Z",
     "shell.execute_reply.started": "2022-02-14T16:17:12.514575Z"
    },
    "papermill": {
     "duration": 0.028344,
     "end_time": "2022-02-14T18:41:27.516993",
     "exception": false,
     "start_time": "2022-02-14T18:41:27.488649",
     "status": "completed"
    },
    "tags": []
   },
   "outputs": [],
   "source": [
    "#neg_G = nx.read_edgelist('../input/second-order-metrics-train-test/negative_edgelist.txt', delimiter=',', nodetype=int)\n",
    "#neg_G = nx.read_edgelist('./negative_edgelist.txt', delimiter=',', nodetype=int)\n",
    "#print('Number of nodes:', neg_G.number_of_nodes())\n",
    "#print('Number of edges:', neg_G.number_of_edges())"
   ]
  },
  {
   "cell_type": "markdown",
   "id": "35aaea41",
   "metadata": {
    "papermill": {
     "duration": 0.022761,
     "end_time": "2022-02-14T18:41:27.563864",
     "exception": false,
     "start_time": "2022-02-14T18:41:27.541103",
     "status": "completed"
    },
    "tags": []
   },
   "source": [
    "**train-test split** :\n",
    "* training_graph : train edges positive\n",
    "* neg_G: train edges negative\n",
    "\n",
    "* test_edge_list : test edges positive\n",
    "* test_neg_edge_list: test edges negative\n"
   ]
  },
  {
   "cell_type": "code",
   "execution_count": 6,
   "id": "523860de",
   "metadata": {
    "execution": {
     "iopub.execute_input": "2022-02-14T18:41:27.618476Z",
     "iopub.status.busy": "2022-02-14T18:41:27.617960Z",
     "iopub.status.idle": "2022-02-14T18:42:01.661216Z",
     "shell.execute_reply": "2022-02-14T18:42:01.660663Z",
     "shell.execute_reply.started": "2022-02-14T16:17:12.526085Z"
    },
    "papermill": {
     "duration": 34.074752,
     "end_time": "2022-02-14T18:42:01.661362",
     "exception": false,
     "start_time": "2022-02-14T18:41:27.586610",
     "status": "completed"
    },
    "tags": []
   },
   "outputs": [
    {
     "name": "stdout",
     "output_type": "stream",
     "text": [
      "Number of nodes: 138499\n",
      "Number of edges: 3275865\n"
     ]
    }
   ],
   "source": [
    "import random\n",
    "boolSAGE = True\n",
    "\n",
    "if boolSAGE:\n",
    "    #with open('../input/marine-sub/train_test_split.npy', 'rb') as f:\n",
    "    with open('../input/sage-v2/train_test_split.npy', 'rb') as f:\n",
    "        \n",
    "        train_pos_u = np.load(f)\n",
    "        train_pos_v = np.load(f)\n",
    "        train_neg_u = np.load(f)\n",
    "        train_neg_v = np.load(f)\n",
    "\n",
    "        test_pos_u = np.load(f)\n",
    "        test_pos_v = np.load(f)\n",
    "        test_neg_u = np.load(f)\n",
    "        test_neg_v = np.load(f)\n",
    "        \n",
    "    test_edge_list_split = [(test_pos_u[i], test_pos_v[i]) for i in range(len(test_pos_u))]\n",
    "    test_neg_edge_list = [(test_neg_u[i], test_neg_v[i]) for i in range(len(test_neg_u))]\n",
    "    #neg_G = nx.read_edgelist('../input/marine-sub/negative_edgelist.txt', delimiter=',', nodetype=int)\n",
    "    neg_G = nx.read_edgelist('../input/sage-v2/negative_edgelist.txt', delimiter=',', nodetype=int)\n",
    "    print('Number of nodes:', neg_G.number_of_nodes())\n",
    "    print('Number of edges:', neg_G.number_of_edges())\n",
    "    del train_pos_u, train_pos_v, train_neg_u, train_neg_v, test_pos_u, test_pos_v, test_neg_u, test_neg_v\n",
    "else:\n",
    "    test_edge_list_split = random.sample(G.edges(), int(0.5 * G.number_of_edges()))\n",
    "    test_edge_list = list(test_edge_list_split)\n",
    "    test_neg_edge_list = random.sample(neg_G.edges(), int(0.5 * neg_G.number_of_edges()))\n",
    "\n",
    "# Remove some edges\n",
    "training_graph = G.copy()\n",
    "training_graph.remove_edges_from(test_edge_list_split)\n",
    "neg_G.remove_edges_from(test_neg_edge_list)\n"
   ]
  },
  {
   "cell_type": "code",
   "execution_count": 7,
   "id": "9f1469b4",
   "metadata": {
    "execution": {
     "iopub.execute_input": "2022-02-14T18:42:01.741460Z",
     "iopub.status.busy": "2022-02-14T18:42:01.726098Z",
     "iopub.status.idle": "2022-02-14T18:42:01.903279Z",
     "shell.execute_reply": "2022-02-14T18:42:01.902850Z",
     "shell.execute_reply.started": "2022-02-14T16:17:58.963756Z"
    },
    "papermill": {
     "duration": 0.2181,
     "end_time": "2022-02-14T18:42:01.903399",
     "exception": false,
     "start_time": "2022-02-14T18:42:01.685299",
     "status": "completed"
    },
    "tags": []
   },
   "outputs": [
    {
     "name": "stdout",
     "output_type": "stream",
     "text": [
      "verification 788853 2366964\n"
     ]
    }
   ],
   "source": [
    " print(\"verification\",training_graph.number_of_edges(), neg_G.number_of_edges())\n"
   ]
  },
  {
   "cell_type": "code",
   "execution_count": 8,
   "id": "0885f450",
   "metadata": {
    "execution": {
     "iopub.execute_input": "2022-02-14T18:42:01.955882Z",
     "iopub.status.busy": "2022-02-14T18:42:01.955044Z",
     "iopub.status.idle": "2022-02-14T18:42:01.985633Z",
     "shell.execute_reply": "2022-02-14T18:42:01.985185Z",
     "shell.execute_reply.started": "2022-02-14T16:17:59.160709Z"
    },
    "papermill": {
     "duration": 0.058655,
     "end_time": "2022-02-14T18:42:01.985751",
     "exception": false,
     "start_time": "2022-02-14T18:42:01.927096",
     "status": "completed"
    },
    "tags": []
   },
   "outputs": [],
   "source": [
    "y_test = np.zeros(len(test_edge_list_split) + len(test_neg_edge_list))\n",
    "y_test[:len(test_edge_list_split)] = 1\n",
    "test_nodes = test_edge_list_split + test_neg_edge_list\n",
    "del test_edge_list_split, test_neg_edge_list"
   ]
  },
  {
   "cell_type": "markdown",
   "id": "e05e56b6",
   "metadata": {
    "papermill": {
     "duration": 0.023515,
     "end_time": "2022-02-14T18:42:02.033054",
     "exception": false,
     "start_time": "2022-02-14T18:42:02.009539",
     "status": "completed"
    },
    "tags": []
   },
   "source": [
    "**first iteration:** sum of degrees and diff of degrees."
   ]
  },
  {
   "cell_type": "code",
   "execution_count": 9,
   "id": "172107a2",
   "metadata": {
    "execution": {
     "iopub.execute_input": "2022-02-14T18:42:02.116194Z",
     "iopub.status.busy": "2022-02-14T18:42:02.083628Z",
     "iopub.status.idle": "2022-02-14T18:42:02.118520Z",
     "shell.execute_reply": "2022-02-14T18:42:02.118124Z",
     "shell.execute_reply.started": "2022-02-14T16:17:59.255996Z"
    },
    "papermill": {
     "duration": 0.062318,
     "end_time": "2022-02-14T18:42:02.118646",
     "exception": false,
     "start_time": "2022-02-14T18:42:02.056328",
     "status": "completed"
    },
    "tags": []
   },
   "outputs": [],
   "source": [
    "import gc\n",
    "\n",
    "\n",
    "def give_features_baseline(graph, edges, abstracts = None):\n",
    "    \n",
    "    sum_degree = [G.degree(n1) + G.degree(n2) for (n1,n2) in edges]\n",
    "    diff_degree = [abs(G.degree(n1) - G.degree(n2)) for (n1,n2) in edges]\n",
    "    \n",
    "    if abstracts is not None:\n",
    "        len1 = np.array([len(abstracts[edge[0]]) for edge in edges])\n",
    "        len2 = np.array([len(abstracts[edge[1]]) for edge in edges])\n",
    "        ab1 = len1 + len2\n",
    "        ab2 = np.abs(len1 - len2)\n",
    "        del len1, len2\n",
    "        ab3 = [len(abstracts[edge[0]].intersection(abstracts[edge[1]])) for edge in edges]\n",
    "        return np.c_[sum_degree, diff_degree, ab1, ab2, ab3]\n",
    "    \n",
    "    return np.c_[sum_degree, diff_degree]\n",
    "\n",
    "\n",
    "def give_features_from_list_pairs(graph, edges):\n",
    "    '''\n",
    "    graph must be from igraph\n",
    "    graph  = igraph.Graph.from_networkx(training_graph)\n",
    "    '''\n",
    "    similarity_dice = graph.similarity_dice(pairs = edges)\n",
    "    similarity_jaccard = graph.similarity_jaccard(pairs = edges)\n",
    "    return np.c_[similarity_dice,similarity_jaccard]\n",
    "\n",
    "\n",
    "def give_features_from_embedding(emb, edges):\n",
    "    '''\n",
    "    edges can be an iterator\n",
    "    '''\n",
    "    dist = emb[[i for i in map(lambda x: x[0], edges)]] - emb[[i for i in map(lambda x: x[1], edges)]]\n",
    "    l2_dist_neg = np.linalg.norm(dist, ord = 2, axis = 1)\n",
    "    l1_dist_neg = np.linalg.norm(dist, ord = 1, axis = 1)\n",
    "    del dist\n",
    "    \n",
    "    hadamard_neg = np.sum(emb[[i for i in map(lambda x: x[0],  edges)]] * emb[[i for i in map(lambda x: x[1],  edges)]], axis = 1)\n",
    "    \n",
    "    return np.c_[l2_dist_neg, l1_dist_neg, hadamard_neg]\n",
    "\n",
    "\n",
    "def give_authors_features(authors_list_per_node, edges):\n",
    "    \n",
    "    common_authors = [len(np.intersect1d(authors_list_per_node[n1], authors_list_per_node[n2] ,assume_unique=True)) for (n1,n2) in edges]\n",
    "    #weighted len en fonction de la popularité des auteurs ?\n",
    "    return np.c_[common_authors]\n",
    "\n",
    "\n"
   ]
  },
  {
   "cell_type": "markdown",
   "id": "a27f2895",
   "metadata": {
    "papermill": {
     "duration": 0.0236,
     "end_time": "2022-02-14T18:42:02.165820",
     "exception": false,
     "start_time": "2022-02-14T18:42:02.142220",
     "status": "completed"
    },
    "tags": []
   },
   "source": [
    "**USE embeddings**"
   ]
  },
  {
   "cell_type": "code",
   "execution_count": 10,
   "id": "1336efc3",
   "metadata": {
    "execution": {
     "iopub.execute_input": "2022-02-14T18:42:02.217187Z",
     "iopub.status.busy": "2022-02-14T18:42:02.216664Z",
     "iopub.status.idle": "2022-02-14T18:42:45.716152Z",
     "shell.execute_reply": "2022-02-14T18:42:45.716613Z"
    },
    "papermill": {
     "duration": 43.527636,
     "end_time": "2022-02-14T18:42:45.716766",
     "exception": false,
     "start_time": "2022-02-14T18:42:02.189130",
     "status": "completed"
    },
    "tags": []
   },
   "outputs": [
    {
     "name": "stdout",
     "output_type": "stream",
     "text": [
      "(138499, 512)\n"
     ]
    },
    {
     "data": {
      "text/plain": [
       "29"
      ]
     },
     "execution_count": 10,
     "metadata": {},
     "output_type": "execute_result"
    }
   ],
   "source": [
    "with open('../input/altegrad-use/USE_embedding.npy', 'rb') as f:\n",
    "    vecs = np.load(f)\n",
    "    print(vecs.shape)\n",
    "\n",
    "X_train_pos_USE = give_features_from_embedding(vecs, training_graph.edges())\n",
    "X_train_neg_USE = give_features_from_embedding(vecs, neg_G.edges())\n",
    "X_test_USE = give_features_from_embedding(vecs, test_nodes)\n",
    "\n",
    "del vecs\n",
    "\n",
    "gc.collect()"
   ]
  },
  {
   "cell_type": "markdown",
   "id": "c64540b9",
   "metadata": {
    "papermill": {
     "duration": 0.023571,
     "end_time": "2022-02-14T18:42:45.764190",
     "exception": false,
     "start_time": "2022-02-14T18:42:45.740619",
     "status": "completed"
    },
    "tags": []
   },
   "source": [
    "**docVec embeddings**"
   ]
  },
  {
   "cell_type": "code",
   "execution_count": 11,
   "id": "0d4a4463",
   "metadata": {
    "execution": {
     "iopub.execute_input": "2022-02-14T18:42:45.818102Z",
     "iopub.status.busy": "2022-02-14T18:42:45.817394Z",
     "iopub.status.idle": "2022-02-14T18:43:29.538874Z",
     "shell.execute_reply": "2022-02-14T18:43:29.539303Z"
    },
    "papermill": {
     "duration": 43.751518,
     "end_time": "2022-02-14T18:43:29.539448",
     "exception": false,
     "start_time": "2022-02-14T18:42:45.787930",
     "status": "completed"
    },
    "tags": []
   },
   "outputs": [
    {
     "data": {
      "text/plain": [
       "45"
      ]
     },
     "execution_count": 11,
     "metadata": {},
     "output_type": "execute_result"
    }
   ],
   "source": [
    "docVec = gensim.models.doc2vec.Doc2Vec.load('../input/altegrad-gensim-draft/docVec.model')\n",
    "vecs = docVec.dv.get_normed_vectors()\n",
    "del docVec\n",
    "\n",
    "X_train_pos_docVec = give_features_from_embedding(vecs, training_graph.edges())\n",
    "X_train_neg_docVec = give_features_from_embedding(vecs, neg_G.edges())\n",
    "X_test_docVec = give_features_from_embedding(vecs, test_nodes)\n",
    "\n",
    "del vecs\n",
    "\n",
    "gc.collect()"
   ]
  },
  {
   "cell_type": "markdown",
   "id": "2dfb056a",
   "metadata": {
    "execution": {
     "iopub.execute_input": "2022-02-10T11:44:12.275614Z",
     "iopub.status.busy": "2022-02-10T11:44:12.275304Z",
     "iopub.status.idle": "2022-02-10T11:44:12.283389Z",
     "shell.execute_reply": "2022-02-10T11:44:12.281769Z",
     "shell.execute_reply.started": "2022-02-10T11:44:12.275582Z"
    },
    "papermill": {
     "duration": 0.024313,
     "end_time": "2022-02-14T18:43:29.588366",
     "exception": false,
     "start_time": "2022-02-14T18:43:29.564053",
     "status": "completed"
    },
    "tags": []
   },
   "source": [
    "**baseline**"
   ]
  },
  {
   "cell_type": "code",
   "execution_count": 12,
   "id": "9ceb5db6",
   "metadata": {
    "execution": {
     "iopub.execute_input": "2022-02-14T18:43:29.644065Z",
     "iopub.status.busy": "2022-02-14T18:43:29.643383Z",
     "iopub.status.idle": "2022-02-14T18:45:16.035067Z",
     "shell.execute_reply": "2022-02-14T18:45:16.035507Z"
    },
    "papermill": {
     "duration": 106.422603,
     "end_time": "2022-02-14T18:45:16.035662",
     "exception": false,
     "start_time": "2022-02-14T18:43:29.613059",
     "status": "completed"
    },
    "tags": []
   },
   "outputs": [
    {
     "data": {
      "text/plain": [
       "0"
      ]
     },
     "execution_count": 12,
     "metadata": {},
     "output_type": "execute_result"
    }
   ],
   "source": [
    "# Read the abstract of each paper\n",
    "abstracts = dict()\n",
    "with open(\"../input/citation-prediction-altegrad/abstracts.txt\", 'r') as f:\n",
    "    for line in f:\n",
    "        node, abstract = line.split('|--|')\n",
    "        abstracts[int(node)] = abstract\n",
    "\n",
    "# Map text to set of terms\n",
    "for node in abstracts:\n",
    "    abstracts[node] = set(abstracts[node].split())\n",
    "    \n",
    "X_train_pos_baseline = give_features_baseline(training_graph, training_graph.edges(), abstracts = abstracts)\n",
    "X_train_neg_baseline = give_features_baseline(training_graph, neg_G.edges(), abstracts = abstracts)\n",
    "X_test_baseline = give_features_baseline(training_graph, test_nodes, abstracts = abstracts)\n",
    "\n",
    "del abstracts\n",
    "\n",
    "gc.collect()\n"
   ]
  },
  {
   "cell_type": "code",
   "execution_count": 13,
   "id": "d1a85cc8",
   "metadata": {
    "execution": {
     "iopub.execute_input": "2022-02-14T18:45:16.098681Z",
     "iopub.status.busy": "2022-02-14T18:45:16.097953Z",
     "iopub.status.idle": "2022-02-14T18:46:38.996007Z",
     "shell.execute_reply": "2022-02-14T18:46:38.996424Z"
    },
    "papermill": {
     "duration": 82.935433,
     "end_time": "2022-02-14T18:46:38.996570",
     "exception": false,
     "start_time": "2022-02-14T18:45:16.061137",
     "status": "completed"
    },
    "tags": []
   },
   "outputs": [
    {
     "data": {
      "text/plain": [
       "0"
      ]
     },
     "execution_count": 13,
     "metadata": {},
     "output_type": "execute_result"
    }
   ],
   "source": [
    "import re\n",
    "import unidecode\n",
    "regex = re.compile('[^a-zA-Z ,]')\n",
    "\n",
    "def process_author(s):\n",
    "    l = s.split()\n",
    "    l = [m[:3].upper() for m in l]\n",
    "    return ' '.join(l)\n",
    "\n",
    "def process_authors_split(s):\n",
    "    s = s.replace('Janne Heikkil #x E', 'Janne Heikkila')\n",
    "    s = s.replace('Samuel Rota Bul #x F', \"Samuel Rota Bulo\")\n",
    "    s = s.replace('Maria Salam #x F,Llorente', 'Maria Salamo Llorente')\n",
    "    s = s.replace('Patrick H #x E,as,dric Herzet', 'Patrick Heas, Cedric Herzet')\n",
    "    s = s.replace('Etienne M #x E,min', 'Etienne Memin')\n",
    "    s = regex.sub('', s)\n",
    "    \n",
    "    authors_split = s.split(',')\n",
    "    authors_split = [process_author(a) for a in authors_split]\n",
    "    \n",
    "    return authors_split\n",
    "\n",
    "authors_list_per_node = []\n",
    "authors_list = []\n",
    "nodes = []\n",
    "nodes_per_authors = {}\n",
    "\n",
    "with open('../input/citation-prediction-altegrad/authors.txt', 'r', errors = 'strict') as f:\n",
    "    for line in f:\n",
    "        #do stuff\n",
    "        node, authors = line.split('|--|')\n",
    "        \n",
    "        #process errors\n",
    "        authors = unidecode.unidecode(authors)\n",
    "\n",
    "        #', -'\n",
    "        authors_split = process_authors_split(authors)\n",
    "    \n",
    "        authors_list_per_node.append(authors_split)\n",
    "        authors_list += authors_split\n",
    "        nodes.append(node)\n",
    "        \n",
    "        for a in authors_split:\n",
    "            l = nodes_per_authors.get(a, [])\n",
    "            nodes_per_authors[a] = l + [node]\n",
    "        \n",
    "\n",
    "del nodes_per_authors, authors_list\n",
    "\n",
    "\n",
    "X_train_pos_authors = give_authors_features(authors_list_per_node,  training_graph.edges())\n",
    "X_train_neg_authors = give_authors_features(authors_list_per_node,  neg_G.edges())\n",
    "X_test_authors = give_authors_features(authors_list_per_node,  test_nodes)\n",
    "\n",
    "del authors_list_per_node\n",
    "\n",
    "gc.collect()"
   ]
  },
  {
   "cell_type": "markdown",
   "id": "d3fc8446",
   "metadata": {
    "papermill": {
     "duration": 0.025983,
     "end_time": "2022-02-14T18:46:39.047670",
     "exception": false,
     "start_time": "2022-02-14T18:46:39.021687",
     "status": "completed"
    },
    "tags": []
   },
   "source": [
    "**SAGE**"
   ]
  },
  {
   "cell_type": "code",
   "execution_count": 14,
   "id": "dd0aa455",
   "metadata": {
    "execution": {
     "iopub.execute_input": "2022-02-14T18:46:39.105735Z",
     "iopub.status.busy": "2022-02-14T18:46:39.105186Z",
     "iopub.status.idle": "2022-02-14T18:46:54.727901Z",
     "shell.execute_reply": "2022-02-14T18:46:54.727468Z"
    },
    "papermill": {
     "duration": 15.654564,
     "end_time": "2022-02-14T18:46:54.728026",
     "exception": false,
     "start_time": "2022-02-14T18:46:39.073462",
     "status": "completed"
    },
    "tags": []
   },
   "outputs": [
    {
     "name": "stdout",
     "output_type": "stream",
     "text": [
      "(138499, 16)\n"
     ]
    },
    {
     "data": {
      "text/plain": [
       "29"
      ]
     },
     "execution_count": 14,
     "metadata": {},
     "output_type": "execute_result"
    }
   ],
   "source": [
    "#with open('../input/marine-sub/embeddingSAGE.npy', 'rb') as f:\n",
    "with open('../input/sage-v2/embeddingSAGE.npy', 'rb') as f:\n",
    "\n",
    "    vecs = np.load(f)\n",
    "    print(vecs.shape)\n",
    "\n",
    "X_train_pos_SAGE = give_features_from_embedding(vecs, training_graph.edges())\n",
    "X_train_neg_SAGE = give_features_from_embedding(vecs, neg_G.edges())\n",
    "X_test_SAGE = give_features_from_embedding(vecs, test_nodes)\n",
    "\n",
    "del vecs\n",
    "\n",
    "gc.collect()"
   ]
  },
  {
   "cell_type": "markdown",
   "id": "f616ffcf",
   "metadata": {
    "papermill": {
     "duration": 0.025802,
     "end_time": "2022-02-14T18:46:54.779720",
     "exception": false,
     "start_time": "2022-02-14T18:46:54.753918",
     "status": "completed"
    },
    "tags": []
   },
   "source": [
    "**Validation with metrics**"
   ]
  },
  {
   "cell_type": "code",
   "execution_count": 15,
   "id": "e68b8fe5",
   "metadata": {
    "execution": {
     "iopub.execute_input": "2022-02-14T18:46:54.843538Z",
     "iopub.status.busy": "2022-02-14T18:46:54.838755Z",
     "iopub.status.idle": "2022-02-14T18:46:55.383442Z",
     "shell.execute_reply": "2022-02-14T18:46:55.382975Z"
    },
    "papermill": {
     "duration": 0.578226,
     "end_time": "2022-02-14T18:46:55.383572",
     "exception": false,
     "start_time": "2022-02-14T18:46:54.805346",
     "status": "completed"
    },
    "tags": []
   },
   "outputs": [],
   "source": [
    "nb_x = training_graph.number_of_edges() + neg_G.number_of_edges()\n",
    "y_train = np.zeros(training_graph.number_of_edges() + neg_G.number_of_edges())\n",
    "y_train[:training_graph.number_of_edges()] = 1\n",
    "\n",
    "idx_shuffle = np.arange(nb_x)\n",
    "np.random.shuffle(idx_shuffle)\n",
    "y_train = y_train[idx_shuffle]"
   ]
  },
  {
   "cell_type": "code",
   "execution_count": 16,
   "id": "22f4f0e3",
   "metadata": {
    "execution": {
     "iopub.execute_input": "2022-02-14T18:46:55.438551Z",
     "iopub.status.busy": "2022-02-14T18:46:55.437766Z",
     "iopub.status.idle": "2022-02-14T18:47:15.398486Z",
     "shell.execute_reply": "2022-02-14T18:47:15.398927Z"
    },
    "papermill": {
     "duration": 19.989355,
     "end_time": "2022-02-14T18:47:15.399109",
     "exception": false,
     "start_time": "2022-02-14T18:46:55.409754",
     "status": "completed"
    },
    "tags": []
   },
   "outputs": [
    {
     "name": "stderr",
     "output_type": "stream",
     "text": [
      "/opt/conda/lib/python3.7/site-packages/xgboost/sklearn.py:1224: UserWarning: The use of label encoder in XGBClassifier is deprecated and will be removed in a future release. To remove this warning, do the following: 1) Pass option use_label_encoder=False when constructing XGBClassifier object; and 2) Encode your labels (y) as integers starting with 0, i.e. 0, 1, 2, ..., [num_class - 1].\n",
      "  warnings.warn(label_encoder_deprecation_msg, UserWarning)\n"
     ]
    },
    {
     "name": "stdout",
     "output_type": "stream",
     "text": [
      "[18:46:58] WARNING: ../src/learner.cc:576: \n",
      "Parameters: { \"gpu_predictor\" } might not be used.\n",
      "\n",
      "  This could be a false alarm, with some parameters getting used by language bindings but\n",
      "  then being mistakenly passed down to XGBoost core, or some parameter actually being used\n",
      "  but getting flagged wrongly here. Please open an issue if you find any such cases.\n",
      "\n",
      "\n",
      "[18:46:58] WARNING: ../src/learner.cc:1115: Starting in XGBoost 1.3.0, the default evaluation metric used with the objective 'binary:logistic' was changed from 'error' to 'logloss'. Explicitly set eval_metric if you'd like to restore the old behavior.\n"
     ]
    },
    {
     "data": {
      "image/png": "[encoded data removed]",
      "text/plain": [
       "<Figure size 432x288 with 2 Axes>"
      ]
     },
     "metadata": {
      "needs_background": "light"
     },
     "output_type": "display_data"
    },
    {
     "name": "stdout",
     "output_type": "stream",
     "text": [
      "accuracy 0.7753667927148957\n",
      "log_loss 0.5295445195849469\n",
      "auc 0.5547618418975406\n"
     ]
    },
    {
     "data": {
      "image/png": "[encoded data removed]",
      "text/plain": [
       "<Figure size 432x288 with 1 Axes>"
      ]
     },
     "metadata": {
      "needs_background": "light"
     },
     "output_type": "display_data"
    }
   ],
   "source": [
    "X_train = np.concatenate([X_train_pos_authors, X_train_neg_authors])\n",
    "X_test = X_test_authors\n",
    "\n",
    "clf = xgb.XGBClassifier(n_estimators = 800, max_depth = 4, subsample = 0.7, colsample_bytree = 0.75,  tree_method = 'gpu_hist',gpu_predictor = 'gpu_predictor')\n",
    "clf.fit(X_train[idx_shuffle,:], y_train)\n",
    "\n",
    "\n",
    "evaluate_estimator(clf, X_test, y_test)"
   ]
  },
  {
   "cell_type": "code",
   "execution_count": 17,
   "id": "c2eba4f6",
   "metadata": {
    "execution": {
     "iopub.execute_input": "2022-02-14T18:47:15.464823Z",
     "iopub.status.busy": "2022-02-14T18:47:15.463730Z",
     "iopub.status.idle": "2022-02-14T18:47:44.301474Z",
     "shell.execute_reply": "2022-02-14T18:47:44.301880Z"
    },
    "papermill": {
     "duration": 28.873475,
     "end_time": "2022-02-14T18:47:44.302038",
     "exception": false,
     "start_time": "2022-02-14T18:47:15.428563",
     "status": "completed"
    },
    "tags": []
   },
   "outputs": [
    {
     "name": "stdout",
     "output_type": "stream",
     "text": [
      "(3155817, 6) (1310345, 6)\n"
     ]
    },
    {
     "name": "stderr",
     "output_type": "stream",
     "text": [
      "/opt/conda/lib/python3.7/site-packages/xgboost/sklearn.py:1224: UserWarning: The use of label encoder in XGBClassifier is deprecated and will be removed in a future release. To remove this warning, do the following: 1) Pass option use_label_encoder=False when constructing XGBClassifier object; and 2) Encode your labels (y) as integers starting with 0, i.e. 0, 1, 2, ..., [num_class - 1].\n",
      "  warnings.warn(label_encoder_deprecation_msg, UserWarning)\n"
     ]
    },
    {
     "name": "stdout",
     "output_type": "stream",
     "text": [
      "[18:47:16] WARNING: ../src/learner.cc:576: \n",
      "Parameters: { \"gpu_predictor\" } might not be used.\n",
      "\n",
      "  This could be a false alarm, with some parameters getting used by language bindings but\n",
      "  then being mistakenly passed down to XGBoost core, or some parameter actually being used\n",
      "  but getting flagged wrongly here. Please open an issue if you find any such cases.\n",
      "\n",
      "\n",
      "[18:47:16] WARNING: ../src/learner.cc:1115: Starting in XGBoost 1.3.0, the default evaluation metric used with the objective 'binary:logistic' was changed from 'error' to 'logloss'. Explicitly set eval_metric if you'd like to restore the old behavior.\n"
     ]
    },
    {
     "data": {
      "image/png": "[encoded data removed]",
      "text/plain": [
       "<Figure size 432x288 with 2 Axes>"
      ]
     },
     "metadata": {
      "needs_background": "light"
     },
     "output_type": "display_data"
    },
    {
     "name": "stdout",
     "output_type": "stream",
     "text": [
      "accuracy 0.8897969618688208\n",
      "log_loss 0.2723804457054607\n",
      "auc 0.9306970296116173\n"
     ]
    },
    {
     "data": {
      "image/png": "[encoded data removed]",
      "text/plain": [
       "<Figure size 432x288 with 1 Axes>"
      ]
     },
     "metadata": {
      "needs_background": "light"
     },
     "output_type": "display_data"
    },
    {
     "data": {
      "text/plain": [
       "<AxesSubplot:title={'center':'Feature importance'}, xlabel='F score', ylabel='Features'>"
      ]
     },
     "execution_count": 17,
     "metadata": {},
     "output_type": "execute_result"
    },
    {
     "data": {
      "image/png": "[encoded data removed]",
      "text/plain": [
       "<Figure size 432x288 with 1 Axes>"
      ]
     },
     "metadata": {
      "needs_background": "light"
     },
     "output_type": "display_data"
    }
   ],
   "source": [
    "X_train = np.c_[X_train,np.concatenate([X_train_pos_baseline, X_train_neg_baseline])]\n",
    "X_test = np.c_[X_test, X_test_baseline]\n",
    "print(X_train.shape, X_test.shape)\n",
    "\n",
    "clf = xgb.XGBClassifier(n_estimators = 800, max_depth = 4, subsample = 0.7, colsample_bytree = 0.75,  tree_method = 'gpu_hist',gpu_predictor = 'gpu_predictor')\n",
    "clf.fit(X_train[idx_shuffle,:], y_train)\n",
    "\n",
    "\n",
    "evaluate_estimator(clf, X_test, y_test)\n",
    "plt.show()\n",
    "plot_importance(clf, )"
   ]
  },
  {
   "cell_type": "code",
   "execution_count": 18,
   "id": "9d1d3a4c",
   "metadata": {
    "execution": {
     "iopub.execute_input": "2022-02-14T18:47:44.375129Z",
     "iopub.status.busy": "2022-02-14T18:47:44.373971Z",
     "iopub.status.idle": "2022-02-14T18:48:14.438198Z",
     "shell.execute_reply": "2022-02-14T18:48:14.438600Z"
    },
    "papermill": {
     "duration": 30.103464,
     "end_time": "2022-02-14T18:48:14.438741",
     "exception": false,
     "start_time": "2022-02-14T18:47:44.335277",
     "status": "completed"
    },
    "tags": []
   },
   "outputs": [
    {
     "name": "stdout",
     "output_type": "stream",
     "text": [
      "(3155817, 9) (1310345, 9)\n"
     ]
    },
    {
     "name": "stderr",
     "output_type": "stream",
     "text": [
      "/opt/conda/lib/python3.7/site-packages/xgboost/sklearn.py:1224: UserWarning: The use of label encoder in XGBClassifier is deprecated and will be removed in a future release. To remove this warning, do the following: 1) Pass option use_label_encoder=False when constructing XGBClassifier object; and 2) Encode your labels (y) as integers starting with 0, i.e. 0, 1, 2, ..., [num_class - 1].\n",
      "  warnings.warn(label_encoder_deprecation_msg, UserWarning)\n"
     ]
    },
    {
     "name": "stdout",
     "output_type": "stream",
     "text": [
      "[18:47:45] WARNING: ../src/learner.cc:576: \n",
      "Parameters: { \"gpu_predictor\" } might not be used.\n",
      "\n",
      "  This could be a false alarm, with some parameters getting used by language bindings but\n",
      "  then being mistakenly passed down to XGBoost core, or some parameter actually being used\n",
      "  but getting flagged wrongly here. Please open an issue if you find any such cases.\n",
      "\n",
      "\n",
      "[18:47:45] WARNING: ../src/learner.cc:1115: Starting in XGBoost 1.3.0, the default evaluation metric used with the objective 'binary:logistic' was changed from 'error' to 'logloss'. Explicitly set eval_metric if you'd like to restore the old behavior.\n"
     ]
    },
    {
     "data": {
      "image/png": "[encoded data removed]",
      "text/plain": [
       "<Figure size 432x288 with 2 Axes>"
      ]
     },
     "metadata": {
      "needs_background": "light"
     },
     "output_type": "display_data"
    },
    {
     "name": "stdout",
     "output_type": "stream",
     "text": [
      "accuracy 0.9156703005696973\n",
      "log_loss 0.21513594749784568\n",
      "auc 0.9573919324034335\n"
     ]
    },
    {
     "data": {
      "image/png": "[encoded data removed]",
      "text/plain": [
       "<Figure size 432x288 with 1 Axes>"
      ]
     },
     "metadata": {
      "needs_background": "light"
     },
     "output_type": "display_data"
    },
    {
     "data": {
      "text/plain": [
       "<AxesSubplot:title={'center':'Feature importance'}, xlabel='F score', ylabel='Features'>"
      ]
     },
     "execution_count": 18,
     "metadata": {},
     "output_type": "execute_result"
    },
    {
     "data": {
      "image/png": "[encoded data removed]",
      "text/plain": [
       "<Figure size 432x288 with 1 Axes>"
      ]
     },
     "metadata": {
      "needs_background": "light"
     },
     "output_type": "display_data"
    }
   ],
   "source": [
    "X_train = np.c_[X_train,np.concatenate([X_train_pos_USE, X_train_neg_USE])]\n",
    "X_test = np.c_[X_test, X_test_USE]\n",
    "print(X_train.shape, X_test.shape)\n",
    "\n",
    "clf = xgb.XGBClassifier(n_estimators = 800, max_depth = 4, subsample = 0.7, colsample_bytree = 0.75,  tree_method = 'gpu_hist',gpu_predictor = 'gpu_predictor')\n",
    "clf.fit(X_train[idx_shuffle,:], y_train)\n",
    "\n",
    "\n",
    "evaluate_estimator(clf, X_test, y_test)\n",
    "plt.show()\n",
    "plot_importance(clf, )"
   ]
  },
  {
   "cell_type": "code",
   "execution_count": 19,
   "id": "18dffa6a",
   "metadata": {
    "execution": {
     "iopub.execute_input": "2022-02-14T18:48:14.521850Z",
     "iopub.status.busy": "2022-02-14T18:48:14.520279Z",
     "iopub.status.idle": "2022-02-14T18:48:45.328948Z",
     "shell.execute_reply": "2022-02-14T18:48:45.328500Z"
    },
    "papermill": {
     "duration": 30.853626,
     "end_time": "2022-02-14T18:48:45.329088",
     "exception": false,
     "start_time": "2022-02-14T18:48:14.475462",
     "status": "completed"
    },
    "tags": []
   },
   "outputs": [
    {
     "name": "stdout",
     "output_type": "stream",
     "text": [
      "(3155817, 12) (1310345, 12)\n"
     ]
    },
    {
     "name": "stderr",
     "output_type": "stream",
     "text": [
      "/opt/conda/lib/python3.7/site-packages/xgboost/sklearn.py:1224: UserWarning: The use of label encoder in XGBClassifier is deprecated and will be removed in a future release. To remove this warning, do the following: 1) Pass option use_label_encoder=False when constructing XGBClassifier object; and 2) Encode your labels (y) as integers starting with 0, i.e. 0, 1, 2, ..., [num_class - 1].\n",
      "  warnings.warn(label_encoder_deprecation_msg, UserWarning)\n"
     ]
    },
    {
     "name": "stdout",
     "output_type": "stream",
     "text": [
      "[18:48:15] WARNING: ../src/learner.cc:576: \n",
      "Parameters: { \"gpu_predictor\" } might not be used.\n",
      "\n",
      "  This could be a false alarm, with some parameters getting used by language bindings but\n",
      "  then being mistakenly passed down to XGBoost core, or some parameter actually being used\n",
      "  but getting flagged wrongly here. Please open an issue if you find any such cases.\n",
      "\n",
      "\n",
      "[18:48:16] WARNING: ../src/learner.cc:1115: Starting in XGBoost 1.3.0, the default evaluation metric used with the objective 'binary:logistic' was changed from 'error' to 'logloss'. Explicitly set eval_metric if you'd like to restore the old behavior.\n"
     ]
    },
    {
     "data": {
      "image/png": "[encoded data removed]",
      "text/plain": [
       "<Figure size 432x288 with 2 Axes>"
      ]
     },
     "metadata": {
      "needs_background": "light"
     },
     "output_type": "display_data"
    },
    {
     "name": "stdout",
     "output_type": "stream",
     "text": [
      "accuracy 0.9299146408007052\n",
      "log_loss 0.1808716474771832\n",
      "auc 0.970308035621972\n"
     ]
    },
    {
     "data": {
      "image/png": "[encoded data removed]",
      "text/plain": [
       "<Figure size 432x288 with 1 Axes>"
      ]
     },
     "metadata": {
      "needs_background": "light"
     },
     "output_type": "display_data"
    },
    {
     "data": {
      "text/plain": [
       "<AxesSubplot:title={'center':'Feature importance'}, xlabel='F score', ylabel='Features'>"
      ]
     },
     "execution_count": 19,
     "metadata": {},
     "output_type": "execute_result"
    },
    {
     "data": {
      "image/png": "[encoded data removed]",
      "text/plain": [
       "<Figure size 432x288 with 1 Axes>"
      ]
     },
     "metadata": {
      "needs_background": "light"
     },
     "output_type": "display_data"
    }
   ],
   "source": [
    "X_train = np.c_[X_train,np.concatenate([X_train_pos_docVec, X_train_neg_docVec])]\n",
    "X_test = np.c_[X_test, X_test_docVec]\n",
    "print(X_train.shape, X_test.shape)\n",
    "\n",
    "clf = xgb.XGBClassifier(n_estimators = 800, max_depth = 4, subsample = 0.7, colsample_bytree = 0.75,  tree_method = 'gpu_hist',gpu_predictor = 'gpu_predictor')\n",
    "clf.fit(X_train[idx_shuffle,:], y_train)\n",
    "\n",
    "\n",
    "evaluate_estimator(clf, X_test, y_test)\n",
    "plt.show()\n",
    "plot_importance(clf, )"
   ]
  },
  {
   "cell_type": "code",
   "execution_count": null,
   "id": "6e647448",
   "metadata": {
    "papermill": {
     "duration": 0.040116,
     "end_time": "2022-02-14T18:48:45.410577",
     "exception": false,
     "start_time": "2022-02-14T18:48:45.370461",
     "status": "completed"
    },
    "tags": []
   },
   "outputs": [],
   "source": []
  },
  {
   "cell_type": "code",
   "execution_count": 20,
   "id": "dc0ea441",
   "metadata": {
    "execution": {
     "iopub.execute_input": "2022-02-14T18:48:45.500456Z",
     "iopub.status.busy": "2022-02-14T18:48:45.498843Z",
     "iopub.status.idle": "2022-02-14T18:49:17.668208Z",
     "shell.execute_reply": "2022-02-14T18:49:17.668615Z"
    },
    "papermill": {
     "duration": 32.217816,
     "end_time": "2022-02-14T18:49:17.668771",
     "exception": false,
     "start_time": "2022-02-14T18:48:45.450955",
     "status": "completed"
    },
    "tags": []
   },
   "outputs": [
    {
     "name": "stdout",
     "output_type": "stream",
     "text": [
      "(3155817, 15) (1310345, 15)\n"
     ]
    },
    {
     "name": "stderr",
     "output_type": "stream",
     "text": [
      "/opt/conda/lib/python3.7/site-packages/xgboost/sklearn.py:1224: UserWarning: The use of label encoder in XGBClassifier is deprecated and will be removed in a future release. To remove this warning, do the following: 1) Pass option use_label_encoder=False when constructing XGBClassifier object; and 2) Encode your labels (y) as integers starting with 0, i.e. 0, 1, 2, ..., [num_class - 1].\n",
      "  warnings.warn(label_encoder_deprecation_msg, UserWarning)\n"
     ]
    },
    {
     "name": "stdout",
     "output_type": "stream",
     "text": [
      "[18:48:47] WARNING: ../src/learner.cc:576: \n",
      "Parameters: { \"gpu_predictor\" } might not be used.\n",
      "\n",
      "  This could be a false alarm, with some parameters getting used by language bindings but\n",
      "  then being mistakenly passed down to XGBoost core, or some parameter actually being used\n",
      "  but getting flagged wrongly here. Please open an issue if you find any such cases.\n",
      "\n",
      "\n",
      "[18:48:47] WARNING: ../src/learner.cc:1115: Starting in XGBoost 1.3.0, the default evaluation metric used with the objective 'binary:logistic' was changed from 'error' to 'logloss'. Explicitly set eval_metric if you'd like to restore the old behavior.\n"
     ]
    },
    {
     "data": {
      "image/png": "[encoded data removed]",
      "text/plain": [
       "<Figure size 432x288 with 2 Axes>"
      ]
     },
     "metadata": {
      "needs_background": "light"
     },
     "output_type": "display_data"
    },
    {
     "name": "stdout",
     "output_type": "stream",
     "text": [
      "accuracy 0.9608751893585277\n",
      "log_loss 0.11157309079271756\n",
      "auc 0.9886992154126466\n"
     ]
    },
    {
     "data": {
      "image/png": "[encoded data removed]",
      "text/plain": [
       "<Figure size 432x288 with 1 Axes>"
      ]
     },
     "metadata": {
      "needs_background": "light"
     },
     "output_type": "display_data"
    },
    {
     "data": {
      "text/plain": [
       "<AxesSubplot:title={'center':'Feature importance'}, xlabel='F score', ylabel='Features'>"
      ]
     },
     "execution_count": 20,
     "metadata": {},
     "output_type": "execute_result"
    },
    {
     "data": {
      "image/png": "[encoded data removed]",
      "text/plain": [
       "<Figure size 432x288 with 1 Axes>"
      ]
     },
     "metadata": {
      "needs_background": "light"
     },
     "output_type": "display_data"
    }
   ],
   "source": [
    "X_train = np.c_[X_train,np.concatenate([X_train_pos_SAGE, X_train_neg_SAGE])]\n",
    "X_test = np.c_[X_test, X_test_SAGE]\n",
    "print(X_train.shape, X_test.shape)\n",
    "\n",
    "clf = xgb.XGBClassifier(n_estimators = 800, max_depth = 4, subsample = 0.7, colsample_bytree = 0.75,  tree_method = 'gpu_hist',gpu_predictor = 'gpu_predictor')\n",
    "clf.fit(X_train[idx_shuffle,:], y_train)\n",
    "\n",
    "\n",
    "evaluate_estimator(clf, X_test, y_test)\n",
    "plt.show()\n",
    "plot_importance(clf, )"
   ]
  },
  {
   "cell_type": "markdown",
   "id": "1025eacf",
   "metadata": {
    "papermill": {
     "duration": 0.049784,
     "end_time": "2022-02-14T18:49:17.771892",
     "exception": false,
     "start_time": "2022-02-14T18:49:17.722108",
     "status": "completed"
    },
    "tags": []
   },
   "source": [
    "# submit"
   ]
  },
  {
   "cell_type": "code",
   "execution_count": 21,
   "id": "6c208697",
   "metadata": {
    "execution": {
     "iopub.execute_input": "2022-02-14T18:49:17.887656Z",
     "iopub.status.busy": "2022-02-14T18:49:17.886744Z",
     "iopub.status.idle": "2022-02-14T18:49:18.030284Z",
     "shell.execute_reply": "2022-02-14T18:49:18.029735Z"
    },
    "papermill": {
     "duration": 0.203321,
     "end_time": "2022-02-14T18:49:18.030409",
     "exception": false,
     "start_time": "2022-02-14T18:49:17.827088",
     "status": "completed"
    },
    "tags": []
   },
   "outputs": [],
   "source": [
    "# Read test data. Each sample is a pair of nodes\n",
    "node_pairs = list()\n",
    "with open('../input/citation-prediction-altegrad/test.txt', 'r') as f:\n",
    "    for line in f:\n",
    "        t = line.split(',')\n",
    "        node_pairs.append((int(t[0]), int(t[1])))"
   ]
  },
  {
   "cell_type": "code",
   "execution_count": 22,
   "id": "46ee02fb",
   "metadata": {
    "execution": {
     "iopub.execute_input": "2022-02-14T18:49:18.126267Z",
     "iopub.status.busy": "2022-02-14T18:49:18.125663Z",
     "iopub.status.idle": "2022-02-14T18:49:23.381715Z",
     "shell.execute_reply": "2022-02-14T18:49:23.382168Z"
    },
    "papermill": {
     "duration": 5.306052,
     "end_time": "2022-02-14T18:49:23.382330",
     "exception": false,
     "start_time": "2022-02-14T18:49:18.076278",
     "status": "completed"
    },
    "tags": []
   },
   "outputs": [
    {
     "name": "stdout",
     "output_type": "stream",
     "text": [
      "(138499, 512)\n"
     ]
    },
    {
     "data": {
      "text/plain": [
       "41759"
      ]
     },
     "execution_count": 22,
     "metadata": {},
     "output_type": "execute_result"
    }
   ],
   "source": [
    "with open('../input/altegrad-use/USE_embedding.npy', 'rb') as f:\n",
    "    vecs = np.load(f)\n",
    "    print(vecs.shape)\n",
    "\n",
    "X_valid_USE = give_features_from_embedding(vecs, node_pairs)\n",
    "\n",
    "del vecs\n",
    "\n",
    "gc.collect()"
   ]
  },
  {
   "cell_type": "code",
   "execution_count": 23,
   "id": "4d9303d6",
   "metadata": {
    "execution": {
     "iopub.execute_input": "2022-02-14T18:49:23.478968Z",
     "iopub.status.busy": "2022-02-14T18:49:23.478412Z",
     "iopub.status.idle": "2022-02-14T18:49:26.909139Z",
     "shell.execute_reply": "2022-02-14T18:49:26.908645Z"
    },
    "papermill": {
     "duration": 3.48123,
     "end_time": "2022-02-14T18:49:26.909276",
     "exception": false,
     "start_time": "2022-02-14T18:49:23.428046",
     "status": "completed"
    },
    "tags": []
   },
   "outputs": [
    {
     "data": {
      "text/plain": [
       "45"
      ]
     },
     "execution_count": 23,
     "metadata": {},
     "output_type": "execute_result"
    }
   ],
   "source": [
    "docVec = gensim.models.doc2vec.Doc2Vec.load('../input/altegrad-gensim-draft/docVec.model')\n",
    "vecs = docVec.dv.get_normed_vectors()\n",
    "del docVec\n",
    "\n",
    "X_valid_docVec = give_features_from_embedding(vecs, node_pairs)\n",
    "\n",
    "del vecs\n",
    "\n",
    "gc.collect()"
   ]
  },
  {
   "cell_type": "code",
   "execution_count": 24,
   "id": "18d0c90e",
   "metadata": {
    "execution": {
     "iopub.execute_input": "2022-02-14T18:49:27.014116Z",
     "iopub.status.busy": "2022-02-14T18:49:27.013212Z",
     "iopub.status.idle": "2022-02-14T18:49:28.506758Z",
     "shell.execute_reply": "2022-02-14T18:49:28.507266Z"
    },
    "papermill": {
     "duration": 1.548695,
     "end_time": "2022-02-14T18:49:28.507428",
     "exception": false,
     "start_time": "2022-02-14T18:49:26.958733",
     "status": "completed"
    },
    "tags": []
   },
   "outputs": [
    {
     "name": "stdout",
     "output_type": "stream",
     "text": [
      "(138499, 16)\n"
     ]
    },
    {
     "data": {
      "text/plain": [
       "29"
      ]
     },
     "execution_count": 24,
     "metadata": {},
     "output_type": "execute_result"
    }
   ],
   "source": [
    "#with open('../input/marine-sub/embeddingSAGE.npy', 'rb') as f:\n",
    "with open('../input/sage-v2/embeddingSAGE.npy', 'rb') as f:\n",
    "    vecs = np.load(f)\n",
    "    print(vecs.shape)\n",
    "\n",
    "\n",
    "X_valid_SAGE = give_features_from_embedding(vecs, node_pairs)\n",
    "\n",
    "del vecs\n",
    "\n",
    "gc.collect()"
   ]
  },
  {
   "cell_type": "code",
   "execution_count": 25,
   "id": "c40384fa",
   "metadata": {
    "execution": {
     "iopub.execute_input": "2022-02-14T18:49:28.620303Z",
     "iopub.status.busy": "2022-02-14T18:49:28.619705Z",
     "iopub.status.idle": "2022-02-14T18:49:35.302483Z",
     "shell.execute_reply": "2022-02-14T18:49:35.303155Z"
    },
    "papermill": {
     "duration": 6.747543,
     "end_time": "2022-02-14T18:49:35.303315",
     "exception": false,
     "start_time": "2022-02-14T18:49:28.555772",
     "status": "completed"
    },
    "tags": []
   },
   "outputs": [
    {
     "data": {
      "text/plain": [
       "0"
      ]
     },
     "execution_count": 25,
     "metadata": {},
     "output_type": "execute_result"
    }
   ],
   "source": [
    "import re\n",
    "import unidecode\n",
    "regex = re.compile('[^a-zA-Z ,]')\n",
    "\n",
    "def process_author(s):\n",
    "    l = s.split()\n",
    "    l = [m[:3].upper() for m in l]\n",
    "    return ' '.join(l)\n",
    "\n",
    "def process_authors_split(s):\n",
    "    s = s.replace('Janne Heikkil #x E', 'Janne Heikkila')\n",
    "    s = s.replace('Samuel Rota Bul #x F', \"Samuel Rota Bulo\")\n",
    "    s = s.replace('Maria Salam #x F,Llorente', 'Maria Salamo Llorente')\n",
    "    s = s.replace('Patrick H #x E,as,dric Herzet', 'Patrick Heas, Cedric Herzet')\n",
    "    s = s.replace('Etienne M #x E,min', 'Etienne Memin')\n",
    "    s = regex.sub('', s)\n",
    "    \n",
    "    authors_split = s.split(',')\n",
    "    authors_split = [process_author(a) for a in authors_split]\n",
    "    \n",
    "    return authors_split\n",
    "\n",
    "authors_list_per_node = []\n",
    "authors_list = []\n",
    "nodes = []\n",
    "nodes_per_authors = {}\n",
    "\n",
    "with open('../input/citation-prediction-altegrad/authors.txt', 'r', errors = 'strict') as f:\n",
    "    for line in f:\n",
    "        #do stuff\n",
    "        node, authors = line.split('|--|')\n",
    "        \n",
    "        #process errors\n",
    "        authors = unidecode.unidecode(authors)\n",
    "\n",
    "        #', -'\n",
    "        authors_split = process_authors_split(authors)\n",
    "    \n",
    "        authors_list_per_node.append(authors_split)\n",
    "        authors_list += authors_split\n",
    "        nodes.append(node)\n",
    "        \n",
    "        for a in authors_split:\n",
    "            l = nodes_per_authors.get(a, [])\n",
    "            nodes_per_authors[a] = l + [node]\n",
    "        \n",
    "\n",
    "del nodes_per_authors, authors_list\n",
    "\n",
    "X_valid_authors = give_authors_features(authors_list_per_node,  node_pairs)\n",
    "\n",
    "del authors_list_per_node\n",
    "\n",
    "gc.collect()"
   ]
  },
  {
   "cell_type": "code",
   "execution_count": 26,
   "id": "426a565f",
   "metadata": {
    "execution": {
     "iopub.execute_input": "2022-02-14T18:49:35.403207Z",
     "iopub.status.busy": "2022-02-14T18:49:35.402362Z",
     "iopub.status.idle": "2022-02-14T18:49:44.425015Z",
     "shell.execute_reply": "2022-02-14T18:49:44.426120Z"
    },
    "papermill": {
     "duration": 9.075827,
     "end_time": "2022-02-14T18:49:44.426352",
     "exception": false,
     "start_time": "2022-02-14T18:49:35.350525",
     "status": "completed"
    },
    "tags": []
   },
   "outputs": [
    {
     "data": {
      "text/plain": [
       "0"
      ]
     },
     "execution_count": 26,
     "metadata": {},
     "output_type": "execute_result"
    }
   ],
   "source": [
    "# Read the abstract of each paper\n",
    "abstracts = dict()\n",
    "with open(\"../input/citation-prediction-altegrad/abstracts.txt\", 'r') as f:\n",
    "    for line in f:\n",
    "        node, abstract = line.split('|--|')\n",
    "        abstracts[int(node)] = abstract\n",
    "\n",
    "# Map text to set of terms\n",
    "for node in abstracts:\n",
    "    abstracts[node] = set(abstracts[node].split())\n",
    "    \n",
    "X_valid_baseline = give_features_baseline(training_graph, node_pairs, abstracts = abstracts)\n",
    "\n",
    "del abstracts\n",
    "\n",
    "gc.collect()\n"
   ]
  },
  {
   "cell_type": "code",
   "execution_count": 27,
   "id": "ce39e2ed",
   "metadata": {
    "execution": {
     "iopub.execute_input": "2022-02-14T18:49:44.591452Z",
     "iopub.status.busy": "2022-02-14T18:49:44.590637Z",
     "iopub.status.idle": "2022-02-14T18:49:44.597339Z",
     "shell.execute_reply": "2022-02-14T18:49:44.598306Z"
    },
    "papermill": {
     "duration": 0.093245,
     "end_time": "2022-02-14T18:49:44.598501",
     "exception": false,
     "start_time": "2022-02-14T18:49:44.505256",
     "status": "completed"
    },
    "tags": []
   },
   "outputs": [
    {
     "name": "stdout",
     "output_type": "stream",
     "text": [
      "(106692, 15)\n"
     ]
    }
   ],
   "source": [
    "X_valid = np.c_[X_valid_authors, X_valid_baseline, X_valid_USE, X_valid_docVec, X_valid_SAGE]\n",
    "print(X_valid.shape)"
   ]
  },
  {
   "cell_type": "code",
   "execution_count": 28,
   "id": "3c9bb094",
   "metadata": {
    "execution": {
     "iopub.execute_input": "2022-02-14T18:49:44.765470Z",
     "iopub.status.busy": "2022-02-14T18:49:44.764667Z",
     "iopub.status.idle": "2022-02-14T18:49:46.811457Z",
     "shell.execute_reply": "2022-02-14T18:49:46.811866Z"
    },
    "papermill": {
     "duration": 2.136743,
     "end_time": "2022-02-14T18:49:46.812015",
     "exception": false,
     "start_time": "2022-02-14T18:49:44.675272",
     "status": "completed"
    },
    "tags": []
   },
   "outputs": [
    {
     "name": "stdout",
     "output_type": "stream",
     "text": [
      "(106692, 2) [[8.3836114e-01 1.6163889e-01]\n",
      " [9.7682279e-01 2.3177180e-02]\n",
      " [1.2993240e-01 8.7006760e-01]\n",
      " [4.9438119e-02 9.5056188e-01]\n",
      " [9.9969429e-01 3.0570285e-04]] [0. 0. 1. 1. 0.]\n"
     ]
    }
   ],
   "source": [
    "y_pred = clf.predict_proba(X_valid)\n",
    "print(y_pred.shape, y_pred[:5], clf.predict(X_valid)[:5])\n",
    "y_pred = y_pred[:,1]\n",
    "\n",
    "# Write predictions to a file\n",
    "predictions = zip(range(len(y_pred)), y_pred)\n",
    "with open(\"submission.csv\",\"w\") as pred:\n",
    "    csv_out = csv.writer(pred)\n",
    "    csv_out.writerow(['id','predicted'])\n",
    "    for row in predictions:\n",
    "        csv_out.writerow(row) "
   ]
  },
  {
   "cell_type": "code",
   "execution_count": null,
   "id": "d6e8eb43",
   "metadata": {
    "papermill": {
     "duration": 0.050203,
     "end_time": "2022-02-14T18:49:46.913926",
     "exception": false,
     "start_time": "2022-02-14T18:49:46.863723",
     "status": "completed"
    },
    "tags": []
   },
   "outputs": [],
   "source": []
  },
  {
   "cell_type": "code",
   "execution_count": null,
   "id": "3175597e",
   "metadata": {
    "papermill": {
     "duration": 0.048431,
     "end_time": "2022-02-14T18:49:47.010640",
     "exception": false,
     "start_time": "2022-02-14T18:49:46.962209",
     "status": "completed"
    },
    "tags": []
   },
   "outputs": [],
   "source": []
  }
 ],
 "metadata": {
  "kernelspec": {
   "display_name": "Python 3",
   "language": "python",
   "name": "python3"
  },
  "language_info": {
   "codemirror_mode": {
    "name": "ipython",
    "version": 3
   },
   "file_extension": ".py",
   "mimetype": "text/x-python",
   "name": "python",
   "nbconvert_exporter": "python",
   "pygments_lexer": "ipython3",
   "version": "3.7.12"
  },
  "papermill": {
   "default_parameters": {},
   "duration": 517.725256,
   "end_time": "2022-02-14T18:49:49.767852",
   "environment_variables": {},
   "exception": null,
   "input_path": "__notebook__.ipynb",
   "output_path": "__notebook__.ipynb",
   "parameters": {},
   "start_time": "2022-02-14T18:41:12.042596",
   "version": "2.3.3"
  }
 },
 "nbformat": 4,
 "nbformat_minor": 5
}
